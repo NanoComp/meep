{
 "cells": [
  {
   "cell_type": "markdown",
   "metadata": {},
   "source": [
    "# Reflectance and Transmittance Spectra for Planewave at Oblique Incidence"
   ]
  },
  {
   "cell_type": "markdown",
   "metadata": {},
   "source": [
    "As an additional demonstration of the mode-decomposition feature, the reflectance and transmittance of all diffracted orders for any grating with no material absorption and a planewave source incident at any arbitrary angle and wavelength must necessarily sum to unity. Also, the total reflectance and transmittance must be equivalent to values computed using the Poynting flux. This demonstration is somewhat similar to the [single-mode waveguide example](https://nbviewer.jupyter.org/github/NanoComp/meep/blob/master/python/examples/mode-decomposition.ipynb).\n",
    "\n",
    "The following example is adapted from the previous binary-grating example involving a [normally-incident planewave](https://nbviewer.jupyter.org/github/NanoComp/meep/blob/master/python/examples/binary_grating.ipynb). \n",
    "\n",
    "The total reflectance, transmittance, and their sum are plotted at the end of the simulation.\n",
    "\n",
    "Results are computed for a single wavelength of 0.5 μm. The pulsed planewave is incident at an angle of 10.7°. Its spatial profile is defined using the source amplitude function `pw_amp`. This [anonymous function](https://en.wikipedia.org/wiki/Anonymous_function) takes two arguments, the wavevector and a point in space (both `mp.Vector3`s), and returns a function of one argument which defines the planewave amplitude at that point. A narrow bandwidth pulse is used in order to mitigate the intrinsic discretization effects of the [Yee grid](../Yee_Lattice.md) for oblique planewaves. Also, the `stop_when_fields_decayed` termination criteria is replaced with `until_after_sources`. As a general rule of thumb, the more oblique the planewave source, the longer the run time required to ensure accurate results. There is an additional line monitor between the source and the grating for computing the reflectance. The angle of each reflected/transmitted mode, which can be positive or negative, is computed using its dominant planewave vector. Since the oblique source breaks the symmetry in the $y$ direction, each diffracted order must be computed separately. In total, there are 59 reflected and 39 transmitted orders."
   ]
  },
  {
   "cell_type": "markdown",
   "metadata": {},
   "source": [
    "As usual, we'll begin by loading our required modules:"
   ]
  },
  {
   "cell_type": "code",
   "execution_count": 1,
   "metadata": {},
   "outputs": [
    {
     "name": "stdout",
     "output_type": "stream",
     "text": [
      "Using MPI version 3.1, 1 processes\n"
     ]
    }
   ],
   "source": [
    "import meep as mp\n",
    "import math\n",
    "import cmath\n",
    "import numpy as np\n",
    "from matplotlib import pyplot as plt"
   ]
  },
  {
   "cell_type": "markdown",
   "metadata": {},
   "source": [
    "Next we'll define our simulation domain:"
   ]
  },
  {
   "cell_type": "code",
   "execution_count": 2,
   "metadata": {},
   "outputs": [],
   "source": [
    "resolution = 50        # pixels/μm\n",
    "\n",
    "dpml = 1.0             # PML thickness\n",
    "dsub = 3.0             # substrate thickness\n",
    "dpad = 3.0             # length of padding between grating and PML\n",
    "gp = 10.0              # grating period\n",
    "gh = 0.5               # grating height\n",
    "gdc = 0.5              # grating duty cycle\n",
    "\n",
    "sx = dpml+dsub+gh+dpad+dpml\n",
    "sy = gp\n",
    "\n",
    "cell_size = mp.Vector3(sx,sy,0)\n",
    "pml_layers = [mp.PML(thickness=dpml,direction=mp.X)] "
   ]
  },
  {
   "cell_type": "markdown",
   "metadata": {},
   "source": [
    "We can now define the oblique source we'll use to excite the grating structure."
   ]
  },
  {
   "cell_type": "code",
   "execution_count": 3,
   "metadata": {},
   "outputs": [],
   "source": [
    "ng = 1.5\n",
    "glass = mp.Medium(index=ng)\n",
    "\n",
    "wvl = 0.5              # center wavelength\n",
    "fcen = 1/wvl           # center frequency\n",
    "df = 0.05*fcen         # frequency width\n",
    "\n",
    "# rotation angle of incident planewave; counter clockwise (CCW) about Z axis, 0 degrees along +X axis\n",
    "theta_in = math.radians(10.7)\n",
    "\n",
    "# k (in source medium) with correct length (plane of incidence: XY)\n",
    "k = mp.Vector3(fcen*ng).rotate(mp.Vector3(z=1), theta_in)\n",
    "\n",
    "symmetries = []\n",
    "eig_parity = mp.ODD_Z\n",
    "if theta_in == 0:\n",
    "  k = mp.Vector3(0,0,0)\n",
    "  symmetries = [mp.Mirror(mp.Y)]\n",
    "  eig_parity += mp.EVEN_Y\n",
    "\n",
    "def pw_amp(k,x0):\n",
    "  def _pw_amp(x):\n",
    "    return cmath.exp(1j*2*math.pi*k.dot(x+x0))\n",
    "  return _pw_amp\n",
    "\n",
    "src_pt = mp.Vector3(-0.5*sx+dpml+0.3*dsub,0,0)\n",
    "sources = [mp.Source(mp.GaussianSource(fcen,fwidth=df),\n",
    "                     component=mp.Ez,\n",
    "                     center=src_pt,\n",
    "                     size=mp.Vector3(0,sy,0),\n",
    "                     amp_func=pw_amp(k,src_pt))]"
   ]
  },
  {
   "cell_type": "markdown",
   "metadata": {},
   "source": [
    "We'll now initialize our simulation object. Since our first run is a normalization run, we'll set the entire domain to be the same material (glass in this case)."
   ]
  },
  {
   "cell_type": "code",
   "execution_count": 4,
   "metadata": {},
   "outputs": [],
   "source": [
    "sim = mp.Simulation(resolution=resolution,\n",
    "                    cell_size=cell_size,\n",
    "                    boundary_layers=pml_layers,\n",
    "                    k_point=k,\n",
    "                    default_material=glass,\n",
    "                    sources=sources,\n",
    "                    symmetries=symmetries)\n",
    "\n",
    "refl_pt = mp.Vector3(-0.5*sx+dpml+0.5*dsub,0,0)\n",
    "refl_flux = sim.add_flux(fcen, 0, 1, mp.FluxRegion(center=refl_pt, size=mp.Vector3(0,sy,0)))"
   ]
  },
  {
   "cell_type": "markdown",
   "metadata": {},
   "source": [
    "Since everything looks as expected, we can now run our normalization simulation. We'll record the flux data for future use."
   ]
  },
  {
   "cell_type": "code",
   "execution_count": 5,
   "metadata": {},
   "outputs": [
    {
     "name": "stdout",
     "output_type": "stream",
     "text": [
      "-----------\n",
      "Initializing structure...\n",
      "Meep: using complex fields.\n",
      "Meep progress: 9.32/200.0 = 4.7% done in 4.0s, 81.9s to go\n",
      "Meep progress: 17.79/200.0 = 8.9% done in 8.0s, 82.0s to go\n",
      "Meep progress: 26.91/200.0 = 13.5% done in 12.0s, 77.2s to go\n",
      "Meep progress: 36.730000000000004/200.0 = 18.4% done in 16.0s, 71.2s to go\n",
      "Meep progress: 46.550000000000004/200.0 = 23.3% done in 20.0s, 66.0s to go\n",
      "Meep progress: 56.34/200.0 = 28.2% done in 24.0s, 61.2s to go\n",
      "Meep progress: 66.34/200.0 = 33.2% done in 28.0s, 56.4s to go\n",
      "Meep progress: 76.15/200.0 = 38.1% done in 32.0s, 52.1s to go\n",
      "Meep progress: 86.03/200.0 = 43.0% done in 36.0s, 47.7s to go\n",
      "Meep progress: 95.34/200.0 = 47.7% done in 40.0s, 43.9s to go\n",
      "Meep progress: 104.71000000000001/200.0 = 52.4% done in 44.0s, 40.1s to go\n",
      "Meep progress: 114.54/200.0 = 57.3% done in 48.0s, 35.8s to go\n",
      "Meep progress: 124.45/200.0 = 62.2% done in 52.0s, 31.6s to go\n",
      "Meep progress: 134.25/200.0 = 67.1% done in 56.0s, 27.4s to go\n",
      "Meep progress: 144.12/200.0 = 72.1% done in 60.0s, 23.3s to go\n",
      "Meep progress: 154.06/200.0 = 77.0% done in 64.0s, 19.1s to go\n",
      "Meep progress: 163.6/200.0 = 81.8% done in 68.0s, 15.1s to go\n",
      "Meep progress: 173.31/200.0 = 86.7% done in 72.0s, 11.1s to go\n",
      "Meep progress: 182.85/200.0 = 91.4% done in 76.1s, 7.1s to go\n",
      "Meep progress: 192.52/200.0 = 96.3% done in 80.1s, 3.1s to go\n",
      "run 0 finished at t = 200.0 (20000 timesteps)\n"
     ]
    }
   ],
   "source": [
    "sim.run(until_after_sources=100)\n",
    "\n",
    "input_flux = mp.get_fluxes(refl_flux)\n",
    "input_flux_data = sim.get_flux_data(refl_flux)"
   ]
  },
  {
   "cell_type": "markdown",
   "metadata": {},
   "source": [
    "We'll now reset our simulation domain using the `reset_meep` command and generate the periodic grating structure."
   ]
  },
  {
   "cell_type": "code",
   "execution_count": 6,
   "metadata": {},
   "outputs": [
    {
     "name": "stdout",
     "output_type": "stream",
     "text": [
      "-----------\n",
      "Initializing structure...\n",
      "     block, center = (-2.25,0,0)\n",
      "          size (4,1e+20,1e+20)\n",
      "          axes (1,0,0), (0,1,0), (0,0,1)\n",
      "     block, center = (0,0,0)\n",
      "          size (0.5,5,1e+20)\n",
      "          axes (1,0,0), (0,1,0), (0,0,1)\n",
      "Meep: using complex fields.\n"
     ]
    }
   ],
   "source": [
    "sim.reset_meep()\n",
    "\n",
    "geometry = [mp.Block(material=glass, size=mp.Vector3(dpml+dsub,mp.inf,mp.inf), center=mp.Vector3(-0.5*sx+0.5*(dpml+dsub),0,0)),\n",
    "            mp.Block(material=glass, size=mp.Vector3(gh,gdc*gp,mp.inf), center=mp.Vector3(-0.5*sx+dpml+dsub+0.5*gh,0,0))]\n",
    "\n",
    "sim = mp.Simulation(resolution=resolution,\n",
    "                    cell_size=cell_size,\n",
    "                    boundary_layers=pml_layers,\n",
    "                    geometry=geometry,\n",
    "                    k_point=k,\n",
    "                    sources=sources,\n",
    "                    symmetries=symmetries)\n",
    "\n",
    "refl_flux = sim.add_flux(fcen, 0, 1, mp.FluxRegion(center=refl_pt, size=mp.Vector3(0,sy,0)))\n",
    "sim.load_minus_flux_data(refl_flux,input_flux_data)\n",
    "\n",
    "tran_pt = mp.Vector3(0.5*sx-dpml-0.5*dpad,0,0)\n",
    "tran_flux = sim.add_flux(fcen, 0, 1, mp.FluxRegion(center=tran_pt, size=mp.Vector3(0,sy,0)))"
   ]
  },
  {
   "cell_type": "markdown",
   "metadata": {},
   "source": [
    "Finally, we'll simulate the actual grating structure."
   ]
  },
  {
   "cell_type": "code",
   "execution_count": 7,
   "metadata": {},
   "outputs": [
    {
     "name": "stdout",
     "output_type": "stream",
     "text": [
      "Meep progress: 9.58/300.0 = 3.2% done in 4.0s, 121.4s to go\n",
      "Meep progress: 18.59/300.0 = 6.2% done in 8.0s, 121.2s to go\n",
      "Meep progress: 28.060000000000002/300.0 = 9.4% done in 12.0s, 116.4s to go\n",
      "Meep progress: 37.59/300.0 = 12.5% done in 16.0s, 111.8s to go\n",
      "Meep progress: 47.0/300.0 = 15.7% done in 20.0s, 107.7s to go\n",
      "Meep progress: 56.58/300.0 = 18.9% done in 24.0s, 103.3s to go\n",
      "Meep progress: 65.96000000000001/300.0 = 22.0% done in 28.0s, 99.4s to go\n",
      "Meep progress: 75.53/300.0 = 25.2% done in 32.0s, 95.2s to go\n",
      "Meep progress: 85.19/300.0 = 28.4% done in 36.0s, 90.8s to go\n",
      "Meep progress: 94.8/300.0 = 31.6% done in 40.0s, 86.6s to go\n",
      "Meep progress: 103.02/300.0 = 34.3% done in 44.0s, 84.2s to go\n",
      "Meep progress: 108.78/300.0 = 36.3% done in 48.0s, 84.4s to go\n",
      "Meep progress: 117.64/300.0 = 39.2% done in 52.0s, 80.7s to go\n",
      "Meep progress: 126.28/300.0 = 42.1% done in 56.0s, 77.1s to go\n",
      "Meep progress: 134.91/300.0 = 45.0% done in 60.0s, 73.5s to go\n",
      "Meep progress: 144.69/300.0 = 48.2% done in 64.1s, 68.8s to go\n",
      "Meep progress: 154.22/300.0 = 51.4% done in 68.1s, 64.3s to go\n",
      "Meep progress: 163.89000000000001/300.0 = 54.6% done in 72.1s, 59.8s to go\n",
      "Meep progress: 173.19/300.0 = 57.7% done in 76.1s, 55.7s to go\n",
      "Meep progress: 182.75/300.0 = 60.9% done in 80.1s, 51.4s to go\n",
      "Meep progress: 192.55/300.0 = 64.2% done in 84.1s, 46.9s to go\n",
      "Meep progress: 202.20000000000002/300.0 = 67.4% done in 88.1s, 42.6s to go\n",
      "Meep progress: 212.06/300.0 = 70.7% done in 92.1s, 38.2s to go\n",
      "Meep progress: 221.95000000000002/300.0 = 74.0% done in 96.1s, 33.8s to go\n",
      "Meep progress: 231.65/300.0 = 77.2% done in 100.1s, 29.5s to go\n",
      "Meep progress: 241.43/300.0 = 80.5% done in 104.1s, 25.2s to go\n",
      "Meep progress: 251.13/300.0 = 83.7% done in 108.1s, 21.0s to go\n",
      "Meep progress: 260.92/300.0 = 87.0% done in 112.1s, 16.8s to go\n",
      "Meep progress: 270.72/300.0 = 90.2% done in 116.1s, 12.6s to go\n",
      "Meep progress: 280.64/300.0 = 93.5% done in 120.1s, 8.3s to go\n",
      "Meep progress: 290.5/300.0 = 96.8% done in 124.1s, 4.1s to go\n",
      "run 0 finished at t = 300.0 (30000 timesteps)\n"
     ]
    }
   ],
   "source": [
    "sim.run(until_after_sources=200)"
   ]
  },
  {
   "cell_type": "markdown",
   "metadata": {},
   "source": [
    "With both simulation runs complete, we can use the `get_eigenmode_coefficients` routine to extract the reflection and transmission diffraction orders and relative power."
   ]
  },
  {
   "cell_type": "code",
   "execution_count": 8,
   "metadata": {},
   "outputs": [
    {
     "name": "stdout",
     "output_type": "stream",
     "text": [
      "    iteration   60: trace = 166.7770726644721 (1.83568e-09% change)\n",
      "    iteration   55: trace = 177.9876051266832 (7.99025e-10% change)\n",
      "    iteration   51: trace = 189.5448069917852 (5.38133e-07% change)\n",
      "    iteration   48: trace = 201.4664481059231 (1.8864e-08% change)\n",
      "    iteration   46: trace = 207.5342915143063 (3.85266e-10% change)\n",
      "    iteration   43: trace = 213.7703137192983 (4.51554e-09% change)\n",
      "    iteration   41: trace = 220.034335071049 (1.36799e-09% change)\n",
      "    iteration   41: trace = 226.4741893511782 (4.77871e-07% change)\n",
      "    iteration   41: trace = 232.9432676387035 (5.52227e-08% change)\n",
      "    iteration   39: trace = 239.595834286208 (3.53174e-06% change)\n",
      "    iteration   38: trace = 246.2788666241614 (2.25977e-09% change)\n",
      "    iteration   37: trace = 253.1530499209222 (9.10884e-06% change)\n",
      "    iteration   37: trace = 260.0589101770202 (1.34992e-09% change)\n",
      "    iteration   35: trace = 267.1635561942985 (5.91227e-07% change)\n",
      "    iteration   35: trace = 274.3011759549739 (1.72579e-09% change)\n",
      "    iteration   32: trace = 281.6452308165144 (1.0722e-05% change)\n",
      "    iteration   31: trace = 289.0234421086738 (1.50935e-07% change)\n",
      "    iteration   30: trace = 296.6161748479355 (0.000100081% change)\n",
      "    iteration   59: trace = 296.6157305576143 (5.87185e-11% change)\n",
      "    iteration   29: trace = 304.2434860777851 (2.93797e-07% change)\n",
      "    iteration   28: trace = 312.0938090067969 (0.000189191% change)\n",
      "    iteration   58: trace = 312.0929296806977 (1.19518e-10% change)\n"
     ]
    }
   ],
   "source": [
    "# Calculate the number of reflected orders\n",
    "nm_r = np.floor((fcen*ng-k.y)*gp)-np.ceil((-fcen*ng-k.y)*gp) # number of reflected orders\n",
    "if theta_in == 0:\n",
    "  nm_r = nm_r/2 # since eig_parity removes degeneracy in y-direction\n",
    "nm_r = int(nm_r)\n",
    "\n",
    "# Extract the coefficients for the reflected orders\n",
    "res = sim.get_eigenmode_coefficients(refl_flux, range(1,nm_r+1), eig_parity=eig_parity)\n",
    "r_coeffs = res.alpha\n",
    "\n",
    "# Calculate the number of transmitted orders\n",
    "nm_t = np.floor((fcen-k.y)*gp)-np.ceil((-fcen-k.y)*gp)       # number of transmitted orders\n",
    "if theta_in == 0:\n",
    "  nm_t = nm_t/2 # since eig_parity removes degeneracy in y-direction\n",
    "nm_t = int(nm_t)\n",
    "\n",
    "# Extract the coefficients for the transmitted orders\n",
    "res = sim.get_eigenmode_coefficients(tran_flux, range(1,nm_t+1), eig_parity=eig_parity)\n",
    "t_coeffs = res.alpha"
   ]
  },
  {
   "cell_type": "markdown",
   "metadata": {},
   "source": [
    "Finally, we'll compute the corresponding angles and relative powers and visualize the results."
   ]
  },
  {
   "cell_type": "code",
   "execution_count": 9,
   "metadata": {},
   "outputs": [
    {
     "data": {
      "image/png": "[encoded data removed]",
      "text/plain": [
       "<Figure size 900x600 with 1 Axes>"
      ]
     },
     "metadata": {
      "needs_background": "light"
     },
     "output_type": "display_data"
    }
   ],
   "source": [
    "r_angle = np.squeeze([math.degrees(np.sign(r_kdom.y)*math.acos(r_kdom.x/(ng*fcen))) for r_kdom in res.kdom])\n",
    "Rmode = abs(r_coeffs[:,0,1])**2/input_flux[0]\n",
    "idx_r = np.argsort(r_angle)\n",
    "\n",
    "t_angle = np.squeeze([math.degrees(np.sign(t_kdom.y)*math.acos(t_kdom.x/fcen)) for t_kdom in res.kdom])\n",
    "Tmode = abs(t_coeffs[:,0,0])**2/input_flux[0]\n",
    "idx_t = np.argsort(t_angle)\n",
    "\n",
    "plt.figure(dpi=150)\n",
    "plt.plot(r_angle[idx_r],Rmode[idx_r], 'o-',color='blue',label='Reflection')\n",
    "plt.plot(t_angle[idx_t],Tmode[idx_t], 'o-',color='red',label='Transmission')\n",
    "plt.grid(True)\n",
    "plt.xlabel('Diffraction Angle (degrees)')\n",
    "plt.ylabel('Relative Power (au)')\n",
    "plt.legend()\n",
    "plt.show()"
   ]
  },
  {
   "cell_type": "markdown",
   "metadata": {},
   "source": [
    "As a sanity check, we'll compare the total flux derived from the `get_eigenmode_coefficients` routine to the flux computed from the flux monitors:"
   ]
  },
  {
   "cell_type": "code",
   "execution_count": 10,
   "metadata": {},
   "outputs": [
    {
     "name": "stdout",
     "output_type": "stream",
     "text": [
      "mode-coeff:, 0.061047, 0.937862, 0.998909\n",
      "poynting-flux:, 0.061102, 0.938344, 0.999447\n"
     ]
    }
   ],
   "source": [
    "print(\"mode-coeff:, {:.6f}, {:.6f}, {:.6f}\".format(np.sum(Rmode),np.sum(Tmode),np.sum(Rmode)+np.sum(Tmode)))\n",
    "r_flux = mp.get_fluxes(refl_flux)\n",
    "t_flux = mp.get_fluxes(tran_flux)\n",
    "Rflux = -r_flux[0]/input_flux[0]\n",
    "Tflux =  t_flux[0]/input_flux[0]\n",
    "print(\"poynting-flux:, {:.6f}, {:.6f}, {:.6f}\".format(Rflux,Tflux,Rflux+Tflux))"
   ]
  }
 ],
 "metadata": {
  "kernelspec": {
   "display_name": "Python 3",
   "language": "python",
   "name": "python3"
  },
  "language_info": {
   "codemirror_mode": {
    "name": "ipython",
    "version": 3
   },
   "file_extension": ".py",
   "mimetype": "text/x-python",
   "name": "python",
   "nbconvert_exporter": "python",
   "pygments_lexer": "ipython3",
   "version": "3.6.8"
  },
  "toc": {
   "base_numbering": 1,
   "nav_menu": {},
   "number_sections": true,
   "sideBar": true,
   "skip_h1_title": false,
   "title_cell": "Table of Contents",
   "title_sidebar": "Contents",
   "toc_cell": false,
   "toc_position": {},
   "toc_section_display": true,
   "toc_window_display": false
  }
 },
 "nbformat": 4,
 "nbformat_minor": 2
}

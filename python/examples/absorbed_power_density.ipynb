{
 "cells": [
  {
   "cell_type": "markdown",
   "metadata": {},
   "source": [
    "# Absorbed Power Density Map of a Lossy Cylinder\n",
    "\n",
    "The `dft_flux` routines (`add_flux`) described in the previous examples compute the *total* power in a given region (`FluxRegion`). It is also possible to compute the *local* (i.e., position-dependent) absorbed power density in a dispersive (lossy) material. This quantity is useful for obtaining a spatial map of the photon absorption. The absorbed power density is defined as $$\\mathrm{Re}\\, \\left[ {\\mathbf{E}^* \\cdot \\frac{d\\mathbf{P}}{dt}} \\right]$$ where $\\mathbf{P}$ is the total polarization field. In the Fourier (frequency) domain with time-harmonic fields, this expression is $$\\mathrm{Re}\\, \\left[ {\\mathbf{E}^* \\cdot (-i \\omega \\mathbf{P})} \\right] = \\omega\\, \\mathrm{Im}\\, \\left[ {\\mathbf{E}^* \\cdot \\mathbf{P}} \\right]$$ where $\\mathbf{E}^* \\cdot \\mathbf{P}$ denotes the dot product of the complex conjugate of $\\mathbf{E}$ with $\\mathbf{P}$. However, since $\\mathbf{D}=\\mathbf{E}+\\mathbf{P}$, this is equivalent to $$ \\omega\\, \\mathrm{Im}\\, \\left[ {\\mathbf{E}^* \\cdot (\\mathbf{D}-\\mathbf{E})} \\right] = \\omega\\, \\mathrm{Im}\\, \\left[ {\\mathbf{E}^* \\cdot \\mathbf{D}} \\right]$$ since $\\mathbf{E}^* \\cdot \\mathbf{E} = |\\mathbf{E}|^2$ is purely real. Calculating this quantity involves two steps: (1) compute the Fourier-transformed $\\mathbf{E}$ and $\\mathbf{D}$ fields in a region via the `dft_fields` feature and (2) in post processing, compute $\\omega\\, \\mathrm{Im}\\, \\left[ {\\mathbf{E}^* \\cdot \\mathbf{D}} \\right]$.\n",
    "\n",
    "This tutorial example involves computing the absorbed power density for a two-dimensional cylinder (radius: 1 μm) of silicon dioxide (SiO<sub>2</sub>, from the [materials library](https://meep.readthedocs.io/en/latest/Materials/#materials-library)) at a wavelength of 1 μm given an incident $E_z$-polarized planewave. (The [attenuation length](https://en.wikipedia.org/wiki/Refractive_index#Complex_refractive_index) of SiO<sub>2</sub> at this wavelength is $\\lambda/\\mathrm{Im}\\, \\sqrt{\\varepsilon}$ = ~3000 μm.) We will also verify that the total power absorbed by the cylinder obtained by integrating the absorbed power density over the entire cylinder is equivalent to the same quantity computed using the alternative method involving a closed, four-sided `dft_flux` box (Poynting's theorem)."
   ]
  },
  {
   "cell_type": "code",
   "execution_count": null,
   "metadata": {},
   "outputs": [],
   "source": [
    "import numpy as np\n",
    "import matplotlib.pyplot as plt\n",
    "\n",
    "import meep as mp\n",
    "from meep.materials import SiO2\n",
    "\n",
    "resolution = 100  # pixels/um\n",
    "\n",
    "dpml = 1.0\n",
    "pml_layers = [mp.PML(thickness=dpml)]\n",
    "\n",
    "r = 1.0  # radius of cylinder\n",
    "dair = 2.0  # air padding thickness\n",
    "\n",
    "s = 2 * (dpml + dair + r)\n",
    "cell_size = mp.Vector3(s, s)\n",
    "\n",
    "wvl = 1.0\n",
    "fcen = 1 / wvl\n",
    "\n",
    "# is_integrated=True necessary for any planewave source extending into PML\n",
    "sources = [\n",
    "    mp.Source(\n",
    "        mp.GaussianSource(fcen, fwidth=0.1 * fcen, is_integrated=True),\n",
    "        center=mp.Vector3(-0.5 * s + dpml),\n",
    "        size=mp.Vector3(0, s),\n",
    "        component=mp.Ez,\n",
    "    )\n",
    "]\n",
    "\n",
    "symmetries = [mp.Mirror(mp.Y)]\n",
    "\n",
    "geometry = [mp.Cylinder(material=SiO2, center=mp.Vector3(), radius=r, height=mp.inf)]\n",
    "\n",
    "sim = mp.Simulation(\n",
    "    resolution=resolution,\n",
    "    cell_size=cell_size,\n",
    "    boundary_layers=pml_layers,\n",
    "    sources=sources,\n",
    "    k_point=mp.Vector3(),\n",
    "    symmetries=symmetries,\n",
    "    geometry=geometry,\n",
    ")\n",
    "\n",
    "dft_fields = sim.add_dft_fields(\n",
    "    [mp.Dz, mp.Ez],\n",
    "    fcen,\n",
    "    0,\n",
    "    1,\n",
    "    center=mp.Vector3(),\n",
    "    size=mp.Vector3(2 * r, 2 * r),\n",
    "    yee_grid=True,\n",
    ")\n",
    "\n",
    "# closed box surrounding cylinder for computing total incoming flux\n",
    "flux_box = sim.add_flux(\n",
    "    fcen,\n",
    "    0,\n",
    "    1,\n",
    "    mp.FluxRegion(center=mp.Vector3(x=-r), size=mp.Vector3(0, 2 * r), weight=+1),\n",
    "    mp.FluxRegion(center=mp.Vector3(x=+r), size=mp.Vector3(0, 2 * r), weight=-1),\n",
    "    mp.FluxRegion(center=mp.Vector3(y=+r), size=mp.Vector3(2 * r, 0), weight=-1),\n",
    "    mp.FluxRegion(center=mp.Vector3(y=-r), size=mp.Vector3(2 * r, 0), weight=+1),\n",
    ")\n",
    "\n",
    "sim.run(until_after_sources=100)\n",
    "\n",
    "Dz = sim.get_dft_array(dft_fields, mp.Dz, 0)\n",
    "Ez = sim.get_dft_array(dft_fields, mp.Ez, 0)\n",
    "absorbed_power_density = 2 * np.pi * fcen * np.imag(np.conj(Ez) * Dz)\n",
    "\n",
    "dxy = 1 / resolution**2\n",
    "absorbed_power = np.sum(absorbed_power_density) * dxy\n",
    "absorbed_flux = mp.get_fluxes(flux_box)[0]\n",
    "err = abs(absorbed_power - absorbed_flux) / absorbed_flux\n",
    "print(\n",
    "    \"flux:, {} (dft_fields), {} (dft_flux), {} (error)\".format(\n",
    "        absorbed_power, absorbed_flux, err\n",
    "    )\n",
    ")"
   ]
  },
  {
   "cell_type": "markdown",
   "metadata": {},
   "source": [
    "There is one important item to note: in order to eliminate discretization artifacts when computing the $\\mathbf{E}^* \\cdot \\mathbf{D}$ dot-product, the `add_dft_fields` definition includes `yee_grid=True` which ensures that the $E_z$ and $D_z$ fields are computed on the Yee grid rather than interpolated to the centered grid. As a corollary, we cannot use [`get_array_metadata`](https://meep.readthedocs.io/en/latest/Python_User_Interface/#array-metadata) to obtain the coordinates of the `dft_fields` region or its interpolation weights because this involves the centered grid.\n",
    "\n",
    "The two values for the total absorbed power which are displayed at the end of the run are nearly equivalent. The relative error between the two methods is ~1.0%.\n",
    "\n",
    "A schematic of the simulation layout generated using [`plot2D`](https://meep.readthedocs.io/en/latest/Python_User_Interface/#data-visualization) shows the line source (red), PMLs (green hatch region), `dft_flux` box (solid blue contour line), and `dft_fields` surface (blue hatch region)."
   ]
  },
  {
   "cell_type": "code",
   "execution_count": null,
   "metadata": {},
   "outputs": [],
   "source": [
    "plt.figure()\n",
    "sim.plot2D()"
   ]
  },
  {
   "cell_type": "markdown",
   "metadata": {},
   "source": [
    "The spatial map of the absorbed power density shows that most of the absorption occurs in a small region near the back surface of the cylinder (i.e., on the opposite side of the incident planewave)."
   ]
  },
  {
   "cell_type": "code",
   "execution_count": null,
   "metadata": {},
   "outputs": [],
   "source": [
    "plt.figure()\n",
    "x = np.linspace(-r, r, Dz.shape[0])\n",
    "y = np.linspace(-r, r, Dz.shape[1])\n",
    "plt.pcolormesh(\n",
    "    x,\n",
    "    y,\n",
    "    np.transpose(absorbed_power_density),\n",
    "    cmap=\"inferno_r\",\n",
    "    shading=\"gouraud\",\n",
    "    vmin=0,\n",
    "    vmax=np.amax(absorbed_power_density),\n",
    ")\n",
    "plt.xlabel(\"x (μm)\")\n",
    "plt.xticks(np.linspace(-r, r, 5))\n",
    "plt.ylabel(\"y (μm)\")\n",
    "plt.yticks(np.linspace(-r, r, 5))\n",
    "plt.gca().set_aspect(\"equal\")\n",
    "plt.title(\n",
    "    \"absorbed power density\"\n",
    "    + \"\\n\"\n",
    "    + \"SiO2 Labs(λ={} μm) = {:.2f} μm\".format(\n",
    "        wvl, wvl / np.imag(np.sqrt(SiO2.epsilon(fcen)[0][0]))\n",
    "    )\n",
    ")\n",
    "plt.colorbar()"
   ]
  }
 ],
 "metadata": {
  "kernelspec": {
   "display_name": "Python 3",
   "language": "python",
   "name": "python3"
  },
  "language_info": {
   "codemirror_mode": {
    "name": "ipython",
    "version": 3
   },
   "file_extension": ".py",
   "mimetype": "text/x-python",
   "name": "python",
   "nbconvert_exporter": "python",
   "pygments_lexer": "ipython3",
   "version": "3.7.6"
  }
 },
 "nbformat": 4,
 "nbformat_minor": 4
}

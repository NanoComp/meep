{
 "cells": [
  {
   "cell_type": "markdown",
   "metadata": {},
   "source": [
    "# A 90° Bend"
   ]
  },
  {
   "cell_type": "markdown",
   "metadata": {},
   "source": [
    "We'll start a new simulation where we look at the fields propagating through a waveguide bend, and we'll do a couple of other things differently as well. \n",
    "\n",
    "As usual, the first thing to do is to load the Meep library:"
   ]
  },
  {
   "cell_type": "code",
   "execution_count": null,
   "metadata": {},
   "outputs": [],
   "source": [
    "import meep as mp\n",
    "from matplotlib import pyplot as plt\n",
    "import numpy as np\n",
    "from IPython.display import Video\n",
    "\n",
    "%matplotlib inline"
   ]
  },
  {
   "cell_type": "markdown",
   "metadata": {},
   "source": [
    "Then let's set up the bent waveguide in a slightly larger cell:"
   ]
  },
  {
   "cell_type": "code",
   "execution_count": null,
   "metadata": {},
   "outputs": [],
   "source": [
    "cell = mp.Vector3(16, 16, 0)\n",
    "geometry = [\n",
    "    mp.Block(\n",
    "        mp.Vector3(12, 1, mp.inf),\n",
    "        center=mp.Vector3(-2.5, -3.5),\n",
    "        material=mp.Medium(epsilon=12),\n",
    "    ),\n",
    "    mp.Block(\n",
    "        mp.Vector3(1, 12, mp.inf),\n",
    "        center=mp.Vector3(3.5, 2),\n",
    "        material=mp.Medium(epsilon=12),\n",
    "    ),\n",
    "]\n",
    "pml_layers = [mp.PML(1.0)]\n",
    "resolution = 10"
   ]
  },
  {
   "cell_type": "markdown",
   "metadata": {},
   "source": [
    "Note that we have two blocks, both off-center to produce the bent waveguide structure pictured below. As illustrated in the figure, the origin (0,0) of the coordinate system is at the center of the cell, with positive $y$ being downwards, and thus the block of size 12$\\times$1 is centered at (-2,-3.5). Also shown in green is the source plane at $x=−7$ which is shifted to $y=−3.5$ so that it is still inside the waveguide."
   ]
  },
  {
   "cell_type": "markdown",
   "metadata": {},
   "source": [
    "There are a couple of items to note. First, a point source does not couple very efficiently to the waveguide mode, so we'll expand this into a line source, centered at (-7,-3.5), with the same width as the waveguide by adding a `size` property to the source. This is shown in green in the figure above. An eigenmode source can also be used which is described in Tutorial/Optical Forces. Second, instead of turning the source on suddenly at t=0 which excites many other frequencies because of the discontinuity, we will ramp it on slowly. Meep uses a hyperbolic tangent (tanh) turn-on function over a time proportional to the `width` of 20 time units which is a little over three periods. Finally, just for variety, we'll specify the vacuum wavelength instead of the frequency; again, we'll use a wavelength such that the waveguide is half a wavelength wide."
   ]
  },
  {
   "cell_type": "code",
   "execution_count": null,
   "metadata": {},
   "outputs": [],
   "source": [
    "sources = [\n",
    "    mp.Source(\n",
    "        mp.ContinuousSource(wavelength=2 * (11**0.5), width=20),\n",
    "        component=mp.Ez,\n",
    "        center=mp.Vector3(-7, -3.5),\n",
    "        size=mp.Vector3(0, 1),\n",
    "    )\n",
    "]"
   ]
  },
  {
   "cell_type": "markdown",
   "metadata": {},
   "source": [
    "Now we'll set up and visualize the simulation domain."
   ]
  },
  {
   "cell_type": "code",
   "execution_count": null,
   "metadata": {},
   "outputs": [],
   "source": [
    "sim = mp.Simulation(\n",
    "    cell_size=cell,\n",
    "    boundary_layers=pml_layers,\n",
    "    geometry=geometry,\n",
    "    sources=sources,\n",
    "    resolution=resolution,\n",
    ")"
   ]
  },
  {
   "cell_type": "code",
   "execution_count": null,
   "metadata": {},
   "outputs": [],
   "source": [
    "f = plt.figure(dpi=150)\n",
    "sim.plot2D(ax=f.gca())\n",
    "plt.show()"
   ]
  },
  {
   "cell_type": "markdown",
   "metadata": {},
   "source": [
    "As we expect, we see the bent waveguide structure with PML boundaries (green) and a source (red) with the same size as the waveguide width."
   ]
  },
  {
   "cell_type": "code",
   "execution_count": null,
   "metadata": {},
   "outputs": [],
   "source": [
    "f = plt.figure(dpi=150)\n",
    "Animate = mp.Animate2D(sim, fields=mp.Ez, f=f, realtime=False, normalize=True)\n",
    "sim.run(mp.at_every(0.5, Animate), until=100)\n",
    "plt.close()"
   ]
  },
  {
   "cell_type": "code",
   "execution_count": null,
   "metadata": {},
   "outputs": [],
   "source": [
    "filename = \"media/bent_waveguide.mp4\"\n",
    "fps = 10\n",
    "Animate.to_mp4(fps, filename)\n",
    "Video(filename)"
   ]
  },
  {
   "cell_type": "markdown",
   "metadata": {},
   "source": [
    "It is clear that the transmission around the bend is rather low for this frequency and structure — both large reflection and large radiation loss are clearly visible. Moreover, since we are operating just barely below the cutoff for single-mode behavior, we are able to excite a second leaky mode after the waveguide bend, whose second-order mode pattern (superimposed with the fundamental mode) is apparent in the animation. \n",
    "\n",
    "Below, we show a field snapshot from a simulation with a larger cell along the y direction, in which you can see that the second-order leaky mode decays away, leaving us with the fundamental mode propagating upward."
   ]
  },
  {
   "cell_type": "code",
   "execution_count": null,
   "metadata": {},
   "outputs": [],
   "source": [
    "sim.reset_meep()\n",
    "cell = mp.Vector3(16, 40, 0)\n",
    "geometry = [\n",
    "    mp.Block(\n",
    "        mp.Vector3(12, 1, mp.inf),\n",
    "        center=mp.Vector3(-2.5, -3.5),\n",
    "        material=mp.Medium(epsilon=12),\n",
    "    ),\n",
    "    mp.Block(\n",
    "        mp.Vector3(1, 42, mp.inf),\n",
    "        center=mp.Vector3(3.5, 17),\n",
    "        material=mp.Medium(epsilon=12),\n",
    "    ),\n",
    "]\n",
    "sim.cell_size = cell\n",
    "sim.geometry = geometry\n",
    "sim.geometry_center = mp.Vector3(0, 12, 0)\n",
    "\n",
    "sim.run(until=400)\n",
    "\n",
    "plt.figure(dpi=150)\n",
    "sim.plot2D(fields=mp.Ez)\n",
    "plt.show()"
   ]
  },
  {
   "cell_type": "markdown",
   "metadata": {},
   "source": [
    "Instead of doing an animation, another interesting possibility is to make an image from a $x\\times t$ slice. To get the $y=−3.5$ slice, which gives us an image of the fields in the first waveguide branch as a function of time, we can use `get_array` in a step function to collect a slice for each time step"
   ]
  },
  {
   "cell_type": "code",
   "execution_count": null,
   "metadata": {},
   "outputs": [],
   "source": [
    "vals = []\n",
    "\n",
    "\n",
    "def get_slice(sim):\n",
    "    vals.append(\n",
    "        sim.get_array(\n",
    "            center=mp.Vector3(0, -3.5), size=mp.Vector3(16, 0), component=mp.Ez\n",
    "        )\n",
    "    )\n",
    "\n",
    "\n",
    "sim.reset_meep()\n",
    "sim.run(mp.at_beginning(mp.output_epsilon), mp.at_every(0.6, get_slice), until=200)\n",
    "\n",
    "plt.figure(dpi=150)\n",
    "plt.imshow(vals, interpolation=\"spline36\", cmap=\"RdBu\")\n",
    "plt.axis(\"off\")\n",
    "plt.show()"
   ]
  }
 ],
 "metadata": {
  "kernelspec": {
   "display_name": "Python 3",
   "language": "python",
   "name": "python3"
  },
  "language_info": {
   "codemirror_mode": {
    "name": "ipython",
    "version": 3
   },
   "file_extension": ".py",
   "mimetype": "text/x-python",
   "name": "python",
   "nbconvert_exporter": "python",
   "pygments_lexer": "ipython3",
   "version": "3.6.8"
  },
  "toc": {
   "base_numbering": 1,
   "nav_menu": {},
   "number_sections": true,
   "sideBar": true,
   "skip_h1_title": false,
   "title_cell": "Table of Contents",
   "title_sidebar": "Contents",
   "toc_cell": false,
   "toc_position": {},
   "toc_section_display": true,
   "toc_window_display": false
  }
 },
 "nbformat": 4,
 "nbformat_minor": 2
}

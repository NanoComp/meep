{
 "cells": [
  {
   "cell_type": "markdown",
   "metadata": {},
   "source": [
    "# Transmission and Resonant Modes of a Waveguide Cavity"
   ]
  },
  {
   "cell_type": "markdown",
   "metadata": {},
   "source": [
    "## Transmission Spectrum\n",
    "\n",
    "To calculate the transmission spectrum, much as in the bend example in Tutorial/Basics, we'll measure the flux spectrum at one end of the waveguide from a source at the other end, normalized by the flux from a case with no holes in the waveguide. First, we'll load the necessary modules."
   ]
  },
  {
   "cell_type": "code",
   "execution_count": null,
   "metadata": {},
   "outputs": [],
   "source": [
    "import meep as mp\n",
    "import numpy as np\n",
    "from matplotlib import pyplot as plt\n",
    "from IPython.display import Video\n",
    "\n",
    "%matplotlib notebook"
   ]
  },
  {
   "cell_type": "markdown",
   "metadata": {},
   "source": [
    "Next, we'll define some parameters of our structure. All lengths are in units of microns ($\\mu$m). The periodicity of the photonic crystal is 1 $\\mu$m."
   ]
  },
  {
   "cell_type": "code",
   "execution_count": null,
   "metadata": {},
   "outputs": [],
   "source": [
    "resolution = 20  # pixels/um\n",
    "\n",
    "eps = 13  # dielectric constant of waveguide\n",
    "w = 1.2  # width of waveguide\n",
    "r = 0.36  # radius of holes\n",
    "d = 1.4  # defect spacing (ordinary spacing = 1)\n",
    "N = 3  # number of holes on either side of defect\n",
    "\n",
    "sy = 6  # size of cell in y direction (perpendicular to wvg.)\n",
    "pad = 2  # padding between last hole and PML edge\n",
    "dpml = 1  # PML thickness"
   ]
  },
  {
   "cell_type": "markdown",
   "metadata": {},
   "source": [
    "Given these parameters, the size of the cell in the X direction, which we'll denote `sx`, is given by:"
   ]
  },
  {
   "cell_type": "code",
   "execution_count": null,
   "metadata": {},
   "outputs": [],
   "source": [
    "sx = 2 * (pad + dpml + N) + d - 1  # size of cell in x direction"
   ]
  },
  {
   "cell_type": "markdown",
   "metadata": {},
   "source": [
    "Now, the computational cell is:"
   ]
  },
  {
   "cell_type": "code",
   "execution_count": null,
   "metadata": {},
   "outputs": [],
   "source": [
    "cell = mp.Vector3(sx, sy, 0)"
   ]
  },
  {
   "cell_type": "markdown",
   "metadata": {},
   "source": [
    "The `geometry` will consist of a single `Block` for the waveguide, and `2N` cylindrical holes:"
   ]
  },
  {
   "cell_type": "code",
   "execution_count": null,
   "metadata": {},
   "outputs": [],
   "source": [
    "blk = mp.Block(size=mp.Vector3(mp.inf, w, mp.inf), material=mp.Medium(epsilon=eps))\n",
    "geometry = [blk]\n",
    "\n",
    "for i in range(N):\n",
    "    geometry.append(mp.Cylinder(r, center=mp.Vector3(d / 2 + i)))\n",
    "    geometry.append(mp.Cylinder(r, center=mp.Vector3(-(d / 2 + i))))"
   ]
  },
  {
   "cell_type": "markdown",
   "metadata": {},
   "source": [
    "To create the holes, we have used a `for` loop. Note that the `geometry` objects are combined using the `append` function. As usual, later objects in `geometry` take precedence over earlier objects, so the  `Cylinder` objects will punch holes through the `Block`.\n",
    "\n",
    "The absorbing boundaries surrounding the computational cell are:"
   ]
  },
  {
   "cell_type": "code",
   "execution_count": null,
   "metadata": {},
   "outputs": [],
   "source": [
    "pml_layers = [mp.PML(1.0)]"
   ]
  },
  {
   "cell_type": "markdown",
   "metadata": {},
   "source": [
    "Now, we'll define a couple of parameters to determine the frequency range to investigate. We already know from our previous calculations that this structure has a $H_z$-polarized band gap for frequencies in the range 0.2 to 0.3, so we'll want to cover this interval."
   ]
  },
  {
   "cell_type": "code",
   "execution_count": null,
   "metadata": {},
   "outputs": [],
   "source": [
    "fcen = 0.25  # pulse center frequency\n",
    "df = 0.2  # pulse frequency width"
   ]
  },
  {
   "cell_type": "markdown",
   "metadata": {},
   "source": [
    "The source will now be the usual Gaussian pulse centered at `fcen`, located at one edge of the cell just outside the PML, at `x = - 0.5 * sx + dpml`. Ideally, we would excite exactly the fundamental mode of the waveguide, but it is good enough to just excite it with a line source. Moreover, since we are interested in the $P$ polarization (electric field in the plane), we will excite it with a $J_y$ current source (transverse to the propagation direction), which is specified as $E_y$:"
   ]
  },
  {
   "cell_type": "code",
   "execution_count": null,
   "metadata": {},
   "outputs": [],
   "source": [
    "src = [\n",
    "    mp.Source(\n",
    "        mp.GaussianSource(fcen, fwidth=df),\n",
    "        component=mp.Ey,\n",
    "        center=mp.Vector3(-0.5 * sx + dpml),\n",
    "        size=mp.Vector3(0, w),\n",
    "    )\n",
    "]"
   ]
  },
  {
   "cell_type": "markdown",
   "metadata": {},
   "source": [
    "The structure has mirror symmetry planes through the $X$ and $Y$ axes. The source breaks the mirror symmetry through the $Y$ axis, but we still have odd mirror symmetry through the $Z$ axis:"
   ]
  },
  {
   "cell_type": "code",
   "execution_count": null,
   "metadata": {},
   "outputs": [],
   "source": [
    "sym = [mp.Mirror(mp.Y, phase=-1)]"
   ]
  },
  {
   "cell_type": "markdown",
   "metadata": {},
   "source": [
    "Note that we specify the plane by its normal, the $Y$ direction. See also Exploiting Symmetry. Putting all these objects together via the `Simulation` object:"
   ]
  },
  {
   "cell_type": "code",
   "execution_count": null,
   "metadata": {},
   "outputs": [],
   "source": [
    "sim = mp.Simulation(\n",
    "    cell_size=cell,\n",
    "    geometry=geometry,\n",
    "    boundary_layers=pml_layers,\n",
    "    sources=src,\n",
    "    symmetries=sym,\n",
    "    resolution=resolution,\n",
    ")"
   ]
  },
  {
   "cell_type": "markdown",
   "metadata": {},
   "source": [
    "We need to compute the flux spectrum at the other end of the computational cell, after the holes but before the PML:"
   ]
  },
  {
   "cell_type": "code",
   "execution_count": null,
   "metadata": {},
   "outputs": [],
   "source": [
    "freg = mp.FluxRegion(\n",
    "    center=mp.Vector3(0.5 * sx - dpml - 0.5), size=mp.Vector3(0, 2 * w)\n",
    ")\n",
    "\n",
    "nfreq = 500  # number of frequencies at which to compute flux\n",
    "\n",
    "# transmitted flux\n",
    "trans = sim.add_flux(fcen, df, nfreq, freg)"
   ]
  },
  {
   "cell_type": "markdown",
   "metadata": {},
   "source": [
    "Finally, we can visualize the simulation domain to ensure that everything was coded correctly."
   ]
  },
  {
   "cell_type": "code",
   "execution_count": null,
   "metadata": {},
   "outputs": [],
   "source": [
    "f = plt.figure(dpi=150)\n",
    "sim.plot2D(ax=f.gca())\n",
    "plt.show()"
   ]
  },
  {
   "cell_type": "markdown",
   "metadata": {},
   "source": [
    "Now, we can run the simulation until the sources have finished plus some additional time to allow the fields to propagate through the structure. As in Tutorial/Basics, we'll use `stop_when_fields_decayed` to increment the time in steps of 50 time units (about 13 periods) until $|E_y|^2$ has decayed by at least 1/1000 at the transmission-flux plane.\n",
    "\n",
    "We'll also animate the fields and generate a video."
   ]
  },
  {
   "cell_type": "code",
   "execution_count": null,
   "metadata": {},
   "outputs": [],
   "source": [
    "f = plt.figure(dpi=150)\n",
    "animate = mp.Animate2D(sim, f=f, fields=mp.Hz, realtime=False, normalize=True)\n",
    "\n",
    "sim.run(\n",
    "    mp.during_sources(mp.at_every(0.4, animate)),\n",
    "    until_after_sources=mp.stop_when_fields_decayed(\n",
    "        50, mp.Ey, mp.Vector3(0.5 * sx - dpml - 0.5), 1e-3\n",
    "    ),\n",
    ")\n",
    "plt.close()"
   ]
  },
  {
   "cell_type": "code",
   "execution_count": null,
   "metadata": {},
   "outputs": [],
   "source": [
    "filename = \"media/hole-wvg-cavity.mp4\"\n",
    "animate.to_mp4(10, filename)\n",
    "Video(filename)"
   ]
  },
  {
   "cell_type": "markdown",
   "metadata": {},
   "source": [
    "We can see the pulse propagating to the right, bouncing off of the holes, and also exciting a resonant mode in the cavity that sits in the center for a long time as it starts slowly leaking to the right.\n",
    "\n",
    "Of course, the main point of this section is to get the quantitative transmission spectrum. To do this, we need to normalize our flux by running the simulation with no holes. We'll first wrap the above code in a function so that we can parameterize the simulation domain."
   ]
  },
  {
   "cell_type": "code",
   "execution_count": null,
   "metadata": {},
   "outputs": [],
   "source": [
    "def sim_cavity(N=3, sy=6):\n",
    "    sx = 2 * (pad + dpml + N) + d - 1  # size of cell in x direction\n",
    "    cell = mp.Vector3(sx, sy, 0)\n",
    "    blk = mp.Block(size=mp.Vector3(mp.inf, w, mp.inf), material=mp.Medium(epsilon=eps))\n",
    "    geometry = [blk]\n",
    "\n",
    "    for i in range(N):\n",
    "        geometry.append(mp.Cylinder(r, center=mp.Vector3(d / 2 + i)))\n",
    "        geometry.append(mp.Cylinder(r, center=mp.Vector3(-(d / 2 + i))))\n",
    "\n",
    "    src = [\n",
    "        mp.Source(\n",
    "            mp.GaussianSource(fcen, fwidth=df),\n",
    "            component=mp.Ey,\n",
    "            center=mp.Vector3(-0.5 * sx + dpml),\n",
    "            size=mp.Vector3(0, w),\n",
    "        )\n",
    "    ]\n",
    "\n",
    "    sim = mp.Simulation(\n",
    "        cell_size=cell,\n",
    "        geometry=geometry,\n",
    "        boundary_layers=pml_layers,\n",
    "        sources=src,\n",
    "        symmetries=sym,\n",
    "        resolution=resolution,\n",
    "    )\n",
    "\n",
    "    freg = mp.FluxRegion(\n",
    "        center=mp.Vector3(0.5 * sx - dpml - 0.5), size=mp.Vector3(0, 2 * w)\n",
    "    )\n",
    "    nfreq = 500\n",
    "    trans = sim.add_flux(fcen, df, nfreq, freg)\n",
    "\n",
    "    sim.run(\n",
    "        until_after_sources=mp.stop_when_fields_decayed(\n",
    "            50, mp.Ey, mp.Vector3(0.5 * sx - dpml - 0.5), 1e-3\n",
    "        )\n",
    "    )\n",
    "\n",
    "    freqs = mp.get_flux_freqs(trans)\n",
    "    psd = mp.get_fluxes(trans)\n",
    "\n",
    "    return freqs, psd"
   ]
  },
  {
   "cell_type": "markdown",
   "metadata": {},
   "source": [
    "Now we can compute the fluxes for both the simple waveguide and the cavity:"
   ]
  },
  {
   "cell_type": "code",
   "execution_count": null,
   "metadata": {},
   "outputs": [],
   "source": [
    "freqs_wg, psd_wg = sim_cavity(N=0)  # simple waveguide\n",
    "freqs_cav, psd_cav = sim_cavity()  # cavity"
   ]
  },
  {
   "cell_type": "code",
   "execution_count": null,
   "metadata": {},
   "outputs": [],
   "source": [
    "fig = plt.figure(figsize=(11, 6), dpi=100)\n",
    "ax = fig.add_subplot(111)\n",
    "plt.plot(freqs_cav, np.array(psd_cav) / np.array(psd_wg), \"o-\")\n",
    "plt.grid(True)\n",
    "plt.xlabel(\"Frequency\")\n",
    "plt.ylabel(\"Transmission\")\n",
    "\n",
    "ax2 = fig.add_axes([0.52, 0.6, 0.2, 0.25])\n",
    "plt.plot(freqs_cav, np.array(psd_cav) / np.array(psd_wg), \"o-\")\n",
    "plt.xlim(0.23, 0.24)\n",
    "plt.ylim(0, 0.8)\n",
    "plt.grid(True)"
   ]
  },
  {
   "cell_type": "markdown",
   "metadata": {},
   "source": [
    "The band gap is clearly visible as the range of very low transmission, and in the middle of the band gap is a sharp peak corresponding to the resonant mode trapped in the defect. The inset enlarges this peak, and shows that we didn't use quite enough frequency points to capture the whole shape although we could fit to a Lorentzian if we wanted. At the edges of the band gaps, the transmission goes up in broad Fabry-Perot resonance peaks which we will examine in more detail below. There is also some high-frequency oscillation visible at the left of the plot, which is a numerical artifact due to our pulse not having enough amplitude in that range.\n",
    "\n",
    "The narrower the resonance peak (higher Q), the harder this sort of direct transmission simulation is to perform — because of the Fourier uncertainty principle, we need to run for a time inversely related to the frequency resolution we would like to obtain. Fortunately, there is a much better way to study high-Q resonances, as described in the next section. See also Tutorial/Basics/Modes of a Ring Resonator."
   ]
  },
  {
   "cell_type": "markdown",
   "metadata": {},
   "source": [
    "## Resonant Modes\n",
    "\n",
    "To study high-Q (long lifetime) resonant modes, it is much more efficient to excite them directly, placing a source inside the cavity, and analyze the resulting fields to obtain the frequencies and lifetimes of the modes. Here, we do precisely that for the above structure. See also Tutorial/Basics/Modes of a Ring Resonator and the Introduction.\n",
    "\n",
    "The structure is exactly the same as above, and only the sources and analysis are different. We'll create another function that parameterizes the simulation and returns the corresponding simulation object.\n",
    "\n",
    "This time, the new source is still a Gaussian, but is now a point source at the origin. Moreover, we are now using a magnetic current oriented in the z direction ($H_z$). This source matches the symmetry of the $H_z$-polarized resonant mode that we are looking for. If we didn't know in advance what symmetry we were looking for, we would put the source off-center in a non-symmetric location, which would excite all modes regardless of symmetry. However, in many cases the symmetry is known, and placing a symmetric source allows us to limit the number of modes we excite and also to exploit the fact that we now have two mirror symmetry planes in this problem, saving us a factor of four in computation"
   ]
  },
  {
   "cell_type": "code",
   "execution_count": null,
   "metadata": {},
   "outputs": [],
   "source": [
    "def sim_cavity(N=3, sy=6, fcen=0.25, df=0.2):\n",
    "    sx = 2 * (pad + dpml + N) + d - 1  # size of cell in x direction\n",
    "    cell = mp.Vector3(sx, sy, 0)\n",
    "    blk = mp.Block(size=mp.Vector3(mp.inf, w, mp.inf), material=mp.Medium(epsilon=eps))\n",
    "    geometry = [blk]\n",
    "\n",
    "    for i in range(N):\n",
    "        geometry.append(mp.Cylinder(r, center=mp.Vector3(d / 2 + i)))\n",
    "        geometry.append(mp.Cylinder(r, center=mp.Vector3(-(d / 2 + i))))\n",
    "\n",
    "    src = [mp.Source(mp.GaussianSource(fcen, fwidth=df), mp.Hz, mp.Vector3(0))]\n",
    "\n",
    "    sym = [mp.Mirror(mp.Y, phase=-1), mp.Mirror(mp.X, phase=-1)]\n",
    "\n",
    "    sim = mp.Simulation(\n",
    "        cell_size=cell,\n",
    "        geometry=geometry,\n",
    "        boundary_layers=pml_layers,\n",
    "        sources=src,\n",
    "        symmetries=sym,\n",
    "        resolution=resolution,\n",
    "    )\n",
    "\n",
    "    return sim"
   ]
  },
  {
   "cell_type": "markdown",
   "metadata": {},
   "source": [
    "Here, you may notice a strange thing: we have specified `phase=-1` for both mirror planes corresponding to odd symmetry. However, it may seem at first glance that an $H_z$ dipole at the origin has even symmetry! The subtlety here is that the magnetic field is a pseudovector, and is multiplied by −1 under mirror flips, so it is odd when it looks even and vice versa. We aren't just being pedantic here — if you don't realize the difference between vectors, such as electric fields and currents, and pseudovectors, such as magnetic fields and currents, then you will have endless confusion because the electric and magnetic fields will seem to have different symmetry. See also Exploiting Symmetry.\n",
    "\n",
    "We'll next visualize our domain to make sure everything looks correct:"
   ]
  },
  {
   "cell_type": "code",
   "execution_count": null,
   "metadata": {},
   "outputs": [],
   "source": [
    "sim = sim_cavity()\n",
    "f = plt.figure(dpi=100)\n",
    "sim.plot2D(ax=f.gca())\n",
    "plt.show()"
   ]
  },
  {
   "cell_type": "markdown",
   "metadata": {},
   "source": [
    "Finally, we can begin the time stepping and animate the fields. \n",
    "\n",
    "Just as in Tutorial/Basics/Modes of a Ring Resonator, we use the `harminv` command (which calls Harminv) to analyze the response at a point (here the $H_z$ field at the origin) for some time after the source has turned off."
   ]
  },
  {
   "cell_type": "code",
   "execution_count": null,
   "metadata": {},
   "outputs": [],
   "source": [
    "h = mp.Harminv(mp.Hz, mp.Vector3(), fcen, df)\n",
    "sim.run(mp.after_sources(h), until_after_sources=400)\n",
    "\n",
    "f = plt.figure(dpi=150)\n",
    "animate = mp.Animate2D(sim, f=f, fields=mp.Hz, realtime=False, normalize=True)\n",
    "\n",
    "sim.run(mp.at_every(1 / fcen / 20, animate), until=1 / fcen)\n",
    "plt.close()"
   ]
  },
  {
   "cell_type": "code",
   "execution_count": null,
   "metadata": {},
   "outputs": [],
   "source": [
    "filename = \"media/hole-wvg-cavity-res.mp4\"\n",
    "animate.to_mp4(10, filename)\n",
    "Video(filename)"
   ]
  },
  {
   "cell_type": "markdown",
   "metadata": {},
   "source": [
    "Inspecting the animation, we see a single resonant mode in the gap. We can verify this by pulling Harminv's results:"
   ]
  },
  {
   "cell_type": "code",
   "execution_count": null,
   "metadata": {},
   "outputs": [],
   "source": [
    "f = [m.freq for m in h.modes]\n",
    "Q = [m.Q for m in h.modes]\n",
    "\n",
    "for fiter, qiter in zip(f, Q):\n",
    "    print(f\"Resonant frequency: {fiter}, Q: {qiter}\")"
   ]
  },
  {
   "cell_type": "markdown",
   "metadata": {},
   "source": [
    "The mode has a frequency of 0.235, just as we saw in the transmission spectrum, and a $Q$ of 373 which we could have also found by fitting the transmission spectrum. This lifetime $Q$ includes two independent decay channels: light can decay from the cavity into the waveguide with lifetime $Q_w$, or it can radiate from the cavity into the surrounding air with lifetime $Q_r$, where\n",
    "\n",
    "$$\\frac{1}{Q} = \\frac{1}{Q_w} + \\frac{1}{Q_r}\n",
    "\n",
    "See Chapter 10 of Photonic Crystals: Molding the Flow of Light (second edition) for more details. There are a variety of ways to separate out the two decay channels. For example, we can look at the power radiated in different directions. Here, we'll just increase the number `N` of holes and see what happens — as we increase `N`, $Q_w$ should increase exponentially while $Q_r$ remains roughly fixed, so that $Q$ eventually saturates at $Q_r$."
   ]
  },
  {
   "cell_type": "code",
   "execution_count": null,
   "metadata": {},
   "outputs": [],
   "source": [
    "N_vec = np.arange(2, 16, 2)\n",
    "f = []\n",
    "Q = []\n",
    "for N in N_vec:\n",
    "    sim = sim_cavity(N=N)\n",
    "    h = mp.Harminv(mp.Hz, mp.Vector3(), fcen, df)\n",
    "    sim.run(mp.after_sources(h), until_after_sources=400)\n",
    "    f.append([m.freq for m in h.modes])\n",
    "    Q.append([m.Q for m in h.modes])"
   ]
  },
  {
   "cell_type": "code",
   "execution_count": null,
   "metadata": {},
   "outputs": [],
   "source": [
    "for fiter, qiter in zip(f, Q):\n",
    "    print(f\"Resonant frequency: {fiter}, Q: {qiter}\")"
   ]
  },
  {
   "cell_type": "markdown",
   "metadata": {},
   "source": [
    "When we look at the Harminv output for larger N, something strange happens — it starts to find _more_ modes! We'll examine why later. First, let's visualize the Q around the fundamental mode we initially detected ($\\omega=0.234$)."
   ]
  },
  {
   "cell_type": "code",
   "execution_count": null,
   "metadata": {},
   "outputs": [],
   "source": [
    "idx = np.zeros(N_vec.shape)\n",
    "Q_fund = np.zeros(N_vec.shape)\n",
    "for i in range(N_vec.size):\n",
    "    idx[i] = np.abs(np.array(f[i]) - 0.234).argmin()\n",
    "    Q_fund[i] = Q[i][int(idx[i])]\n",
    "\n",
    "plt.figure(dpi=150)\n",
    "plt.semilogy(N_vec, Q_fund, \"o-\")\n",
    "plt.grid(True)\n",
    "plt.xlabel(\"N (# of periods)\")\n",
    "plt.ylabel(\"Q\")\n",
    "plt.show()"
   ]
  },
  {
   "cell_type": "markdown",
   "metadata": {},
   "source": [
    "The results, shown above, are exactly what we expected: at first, an exponential increase of $Q$ with `N`, and then a saturation at $Q_r≈8750$.\n",
    "\n",
    "Now, what is this extra mode at $\\omega$=0.32823? This is right around the edge of the band gap (actually, just above the edge). There are two possibilities. First, it could be a band edge state: the propagating states in the periodic waveguide go to zero group velocity as they approach the edge of the gap, corresponding to long-lived resonances in a long but finite crystal. Second, it could be a higher-order resonant mode that for a slightly larger defect will be pulled further into the gap, but is currently very delocalized. In this case, it turns out to be the latter. \n",
    "\n",
    "To see the mode, we will simply run the simulation again with a narrow-band source, and we will also increase the y cell size `sy` because it turns out that the mode is fairly spread out in that direction:"
   ]
  },
  {
   "cell_type": "code",
   "execution_count": null,
   "metadata": {},
   "outputs": [],
   "source": [
    "sim = sim_cavity(N=16, sy=12, fcen=0.328227374843021, df=0.1)\n",
    "sim.run(until_after_sources=600)"
   ]
  },
  {
   "cell_type": "code",
   "execution_count": null,
   "metadata": {},
   "outputs": [],
   "source": [
    "f = plt.figure(dpi=150)\n",
    "sim.plot2D(ax=f.gca(), fields=mp.Hz)\n",
    "plt.show()"
   ]
  },
  {
   "cell_type": "markdown",
   "metadata": {},
   "source": [
    "From the image, the field is clearly localized around the defect in the center as opposed to being spread out evenly in the crystal like a band-edge state would be. In the defect, the pattern is higher order than the previous mode. It has an extra pair of nodes in the y direction."
   ]
  },
  {
   "cell_type": "code",
   "execution_count": null,
   "metadata": {},
   "outputs": [],
   "source": []
  }
 ],
 "metadata": {
  "kernelspec": {
   "display_name": "Python 3",
   "language": "python",
   "name": "python3"
  },
  "language_info": {
   "codemirror_mode": {
    "name": "ipython",
    "version": 3
   },
   "file_extension": ".py",
   "mimetype": "text/x-python",
   "name": "python",
   "nbconvert_exporter": "python",
   "pygments_lexer": "ipython3",
   "version": "3.6.8"
  },
  "toc": {
   "base_numbering": 1,
   "nav_menu": {},
   "number_sections": true,
   "sideBar": true,
   "skip_h1_title": false,
   "title_cell": "Table of Contents",
   "title_sidebar": "Contents",
   "toc_cell": false,
   "toc_position": {},
   "toc_section_display": true,
   "toc_window_display": false
  }
 },
 "nbformat": 4,
 "nbformat_minor": 2
}

{
 "cells": [
  {
   "cell_type": "markdown",
   "metadata": {},
   "source": [
    "# Radiation Pattern of an Antenna"
   ]
  },
  {
   "cell_type": "markdown",
   "metadata": {},
   "source": [
    "In this example, we compute the radiation pattern of an antenna. This involves an electric-current point dipole emitter in vacuum. The source is placed at the center of a 2d cell surrounded by PML. The near fields are obtained on a bounding box defined along the edges of the non-PML region. The far fields are computed in two ways from closed surfaces: (1) sides of a square and (2) circumference of a circle, having a length/radius many times larger than the source wavelength and lying beyond the cell. From both the near and far fields, we will also compute the total outgoing Poynting flux and demonstrate that they are equivalent. Results will be shown for three orthogonal polarizations of the input source.\n",
    "\n",
    "The simulation geometry is shown in the following schematic."
   ]
  },
  {
   "cell_type": "markdown",
   "metadata": {},
   "source": [
    "![geometry](https://meep.readthedocs.io/en/latest/images/Near2far_simulation_geometry.png)"
   ]
  },
  {
   "cell_type": "markdown",
   "metadata": {},
   "source": [
    "In the first part of the simulation, we define the cell and source as well as the near field and flux regions."
   ]
  },
  {
   "cell_type": "code",
   "execution_count": null,
   "metadata": {},
   "outputs": [],
   "source": [
    "import meep as mp\n",
    "import math\n",
    "import numpy as np\n",
    "import matplotlib.pyplot as plt\n",
    "\n",
    "resolution = 50  # pixels/μm\n",
    "\n",
    "sxy = 4\n",
    "dpml = 1\n",
    "cell = mp.Vector3(sxy + 2 * dpml, sxy + 2 * dpml)\n",
    "\n",
    "pml_layers = [mp.PML(dpml)]\n",
    "\n",
    "fcen = 1.0\n",
    "df = 0.4\n",
    "src_cmpt = mp.Ey\n",
    "sources = [\n",
    "    mp.Source(\n",
    "        src=mp.GaussianSource(fcen, fwidth=df), center=mp.Vector3(), component=src_cmpt\n",
    "    )\n",
    "]\n",
    "\n",
    "if src_cmpt == mp.Ex:\n",
    "    symmetries = [mp.Mirror(mp.X, phase=-1), mp.Mirror(mp.Y, phase=+1)]\n",
    "elif src_cmpt == mp.Ey:\n",
    "    symmetries = [mp.Mirror(mp.X, phase=+1), mp.Mirror(mp.Y, phase=-1)]\n",
    "elif src_cmpt == mp.Ez:\n",
    "    symmetries = [mp.Mirror(mp.X, phase=+1), mp.Mirror(mp.Y, phase=+1)]\n",
    "\n",
    "sim = mp.Simulation(\n",
    "    cell_size=cell,\n",
    "    resolution=resolution,\n",
    "    sources=sources,\n",
    "    symmetries=symmetries,\n",
    "    boundary_layers=pml_layers,\n",
    ")\n",
    "\n",
    "nearfield_box = sim.add_near2far(\n",
    "    fcen,\n",
    "    0,\n",
    "    1,\n",
    "    mp.Near2FarRegion(mp.Vector3(y=0.5 * sxy), size=mp.Vector3(sxy)),\n",
    "    mp.Near2FarRegion(mp.Vector3(y=-0.5 * sxy), size=mp.Vector3(sxy), weight=-1),\n",
    "    mp.Near2FarRegion(mp.Vector3(0.5 * sxy), size=mp.Vector3(y=sxy)),\n",
    "    mp.Near2FarRegion(mp.Vector3(-0.5 * sxy), size=mp.Vector3(y=sxy), weight=-1),\n",
    ")\n",
    "\n",
    "flux_box = sim.add_flux(\n",
    "    fcen,\n",
    "    0,\n",
    "    1,\n",
    "    mp.FluxRegion(mp.Vector3(y=0.5 * sxy), size=mp.Vector3(sxy)),\n",
    "    mp.FluxRegion(mp.Vector3(y=-0.5 * sxy), size=mp.Vector3(sxy), weight=-1),\n",
    "    mp.FluxRegion(mp.Vector3(0.5 * sxy), size=mp.Vector3(y=sxy)),\n",
    "    mp.FluxRegion(mp.Vector3(-0.5 * sxy), size=mp.Vector3(y=sxy), weight=-1),\n",
    ")"
   ]
  },
  {
   "cell_type": "markdown",
   "metadata": {},
   "source": [
    "Let's visualize our simulation domain to ensure everything is correct:"
   ]
  },
  {
   "cell_type": "code",
   "execution_count": null,
   "metadata": {},
   "outputs": [],
   "source": [
    "f = plt.figure(dpi=150)\n",
    "sim.plot2D(ax=f.gca())\n",
    "plt.show()"
   ]
  },
  {
   "cell_type": "markdown",
   "metadata": {},
   "source": [
    "Since we are using a pulsed source (with center wavelength of 1 $\\mu$m), the fields are timestepped until they have sufficiently decayed away."
   ]
  },
  {
   "cell_type": "code",
   "execution_count": null,
   "metadata": {},
   "outputs": [],
   "source": [
    "sim.run(\n",
    "    until_after_sources=mp.stop_when_fields_decayed(50, src_cmpt, mp.Vector3(), 1e-8)\n",
    ")"
   ]
  },
  {
   "cell_type": "markdown",
   "metadata": {},
   "source": [
    "After the time stepping, the flux of the near fields is computed using `get_fluxes`:"
   ]
  },
  {
   "cell_type": "code",
   "execution_count": null,
   "metadata": {},
   "outputs": [],
   "source": [
    "near_flux = mp.get_fluxes(flux_box)[0]"
   ]
  },
  {
   "cell_type": "markdown",
   "metadata": {},
   "source": [
    "In the first of two cases, the flux of the far fields is computed using the `flux` routine for a square box of side length 2 mm which is 2000 times larger than the source wavelength. This requires computing the outgoing flux on each of the four sides of the box separately and summing the values. The resolution of the far fields is chosen arbitrarily as 1 point/$\\mu$m. This means there are 2x106 points per side length."
   ]
  },
  {
   "cell_type": "code",
   "execution_count": null,
   "metadata": {},
   "outputs": [],
   "source": [
    "r = (\n",
    "    1000 / fcen\n",
    ")  # half side length of far-field square box OR radius of far-field circle\n",
    "res_ff = 1  # resolution of far fields (points/μm)\n",
    "far_flux_box = (\n",
    "    nearfield_box.flux(\n",
    "        mp.Y, mp.Volume(center=mp.Vector3(y=r), size=mp.Vector3(2 * r)), res_ff\n",
    "    )[0]\n",
    "    - nearfield_box.flux(\n",
    "        mp.Y, mp.Volume(center=mp.Vector3(y=-r), size=mp.Vector3(2 * r)), res_ff\n",
    "    )[0]\n",
    "    + nearfield_box.flux(\n",
    "        mp.X, mp.Volume(center=mp.Vector3(r), size=mp.Vector3(y=2 * r)), res_ff\n",
    "    )[0]\n",
    "    - nearfield_box.flux(\n",
    "        mp.X, mp.Volume(center=mp.Vector3(-r), size=mp.Vector3(y=2 * r)), res_ff\n",
    "    )[0]\n",
    ")"
   ]
  },
  {
   "cell_type": "markdown",
   "metadata": {},
   "source": [
    "For the second of two cases, we use the `get_farfield` routine to compute the far fields by looping over a set of 100 equally-spaced points along the circumference of a circle with radius of 1 mm. The six far field components ($E_x$, $E_y$, $E_z$, $H_x$, $H_y$, $H_z$) are stored as separate arrays of complex numbers. From the far fields at each point $r$, we compute the outgoing or radial flux: $P^2_x+P^2_y$, where $P_x$ and $P_y$ are the components of the Poynting vector $P(r)=(P_x,P_y,P_z)=\\Re(E(r) \\times H(r))$. Note that $P_z$ is always 0 since this is a 2d simulation. The total flux is computed and the three flux values are displayed."
   ]
  },
  {
   "cell_type": "code",
   "execution_count": null,
   "metadata": {},
   "outputs": [],
   "source": [
    "npts = 100  # number of points in [0,2*pi) range of angles\n",
    "angles = 2 * math.pi / npts * np.arange(npts)\n",
    "\n",
    "E = np.zeros((npts, 3), dtype=np.complex128)\n",
    "H = np.zeros((npts, 3), dtype=np.complex128)\n",
    "for n in range(npts):\n",
    "    ff = sim.get_farfield(\n",
    "        nearfield_box, mp.Vector3(r * math.cos(angles[n]), r * math.sin(angles[n]))\n",
    "    )\n",
    "    E[n, :] = [np.conj(ff[j]) for j in range(3)]\n",
    "    H[n, :] = [ff[j + 3] for j in range(3)]\n",
    "\n",
    "Px = np.real(np.multiply(E[:, 1], H[:, 2]) - np.multiply(E[:, 2], H[:, 1]))\n",
    "Py = np.real(np.multiply(E[:, 2], H[:, 0]) - np.multiply(E[:, 0], H[:, 2]))\n",
    "Pr = np.sqrt(np.square(Px) + np.square(Py))\n",
    "\n",
    "far_flux_circle = np.sum(Pr) * 2 * np.pi * r / len(Pr)\n",
    "\n",
    "print(\"flux:, {:.6f}, {:.6f}, {:.6f}\".format(near_flux, far_flux_box, far_flux_circle))"
   ]
  },
  {
   "cell_type": "markdown",
   "metadata": {},
   "source": [
    "By Poynting's theorem, the total outgoing flux obtained by integrating around a closed surface should be the same whether it is calculated from the near or far fields (unless there are sources or absorbers in between). The flux of the near fields for the $J_z$ source is 2.456196 and that for the far fields is 2.458030 (box) and 2.457249 (circle). The ratio of near- to far-field (circle) flux is 0.999571. Similarly, for the $J_x$ source, the values are 1.227786 (near-field), 1.227651 (far-field box), and 1.227260 (far-field circle). The ratio of near-to far-field (circle) flux is 1.000429. The slight differences in the flux values are due to discretization effects and will decrease as the resolution is increased.\n",
    "\n",
    "Finally, we plot the radial flux normalized by its maximum value over the entire interval to obtain a range of values between 0 and 1. These are shown below in the linearly-scaled, polar-coordinate plot."
   ]
  },
  {
   "cell_type": "code",
   "execution_count": null,
   "metadata": {},
   "outputs": [],
   "source": [
    "plt.figure(dpi=200)\n",
    "ax = plt.subplot(111, projection=\"polar\")\n",
    "ax.plot(angles, Pr / max(Pr), \"b-\")\n",
    "ax.set_rmax(1)\n",
    "ax.set_rticks([0, 0.5, 1])\n",
    "ax.grid(True)\n",
    "ax.set_rlabel_position(22)"
   ]
  }
 ],
 "metadata": {
  "kernelspec": {
   "display_name": "Python 3",
   "language": "python",
   "name": "python3"
  },
  "language_info": {
   "codemirror_mode": {
    "name": "ipython",
    "version": 3
   },
   "file_extension": ".py",
   "mimetype": "text/x-python",
   "name": "python",
   "nbconvert_exporter": "python",
   "pygments_lexer": "ipython3",
   "version": "3.6.7"
  },
  "toc": {
   "base_numbering": 1,
   "nav_menu": {},
   "number_sections": true,
   "sideBar": true,
   "skip_h1_title": false,
   "title_cell": "Table of Contents",
   "title_sidebar": "Contents",
   "toc_cell": false,
   "toc_position": {},
   "toc_section_display": true,
   "toc_window_display": false
  }
 },
 "nbformat": 4,
 "nbformat_minor": 2
}

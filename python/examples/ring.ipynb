{
 "cells": [
  {
   "cell_type": "markdown",
   "metadata": {},
   "source": [
    "# Modes of a Ring Resonator"
   ]
  },
  {
   "cell_type": "markdown",
   "metadata": {},
   "source": [
    "As described in Introduction, another common task for FDTD simulation is to find the resonant modes — frequencies and decay rates — of some cavity structure. You might want to read that again to recall the basic simulation strategy. We will show how this works for a ring resonator, which is simply a waveguide bent into a circle. This script can be also found in examples/ring.py; the notebook is examples/ring.ipynb. In fact, since this structure has cylindrical symmetry, we can simulate it much more efficiently by using cylindrical coordinates, but for illustration here we'll just use an ordinary 2d simulation.\n",
    "\n",
    "As before, we'll define some parameters to describe the geometry, so that we can easily change the structure:"
   ]
  },
  {
   "cell_type": "code",
   "execution_count": null,
   "metadata": {},
   "outputs": [],
   "source": [
    "import meep as mp\n",
    "import matplotlib.pyplot as plt\n",
    "\n",
    "%matplotlib inline\n",
    "import numpy as np\n",
    "from IPython.display import Video\n",
    "\n",
    "n = 3.4  # index of waveguide\n",
    "w = 1  # width of waveguide\n",
    "r = 1  # inner radius of ring\n",
    "pad = 4  # padding between waveguide and edge of PML\n",
    "dpml = 2  # thickness of PML\n",
    "sxy = 2 * (r + w + pad + dpml)  # cell size"
   ]
  },
  {
   "cell_type": "markdown",
   "metadata": {},
   "source": [
    "How do we make a circular waveguide? So far, we've only seen `Block` objects, but Meep also lets you specify cylinders, spheres, ellipsoids, and cones, as well as user-specified dielectric functions. In this case, we'll use two `Cylinder` objects, one inside the other:"
   ]
  },
  {
   "cell_type": "code",
   "execution_count": null,
   "metadata": {},
   "outputs": [],
   "source": [
    "c1 = mp.Cylinder(radius=r + w, material=mp.Medium(index=n))\n",
    "c2 = mp.Cylinder(radius=r)"
   ]
  },
  {
   "cell_type": "markdown",
   "metadata": {},
   "source": [
    "Later objects in the `geometry` object take precedence over or rather lie \"on top of\" earlier objects, so the second `air` ($\\epsilon$=1) cylinder cuts a circular hole out of the larger cylinder, leaving a ring of width `w`.\n",
    "\n",
    "We don't know the frequency of the mode(s) ahead of time, so we'll just hit the structure with a broad Gaussian pulse to excite all of the Ez-polarized modes in a chosen bandwidth:"
   ]
  },
  {
   "cell_type": "code",
   "execution_count": null,
   "metadata": {},
   "outputs": [],
   "source": [
    "fcen = 0.15  # pulse center frequency\n",
    "df = 0.1  # pulse frequency width\n",
    "src = mp.Source(mp.GaussianSource(fcen, fwidth=df), mp.Ez, mp.Vector3(r + 0.1))"
   ]
  },
  {
   "cell_type": "markdown",
   "metadata": {},
   "source": [
    "Let's formulate the simulation object and visualize the simulation domain."
   ]
  },
  {
   "cell_type": "code",
   "execution_count": null,
   "metadata": {},
   "outputs": [],
   "source": [
    "sim = mp.Simulation(\n",
    "    cell_size=mp.Vector3(sxy, sxy),\n",
    "    geometry=[c1, c2],\n",
    "    sources=[src],\n",
    "    resolution=10,\n",
    "    boundary_layers=[mp.PML(dpml)],\n",
    ")\n",
    "plt.figure(dpi=150)\n",
    "sim.plot2D()\n",
    "plt.show()"
   ]
  },
  {
   "cell_type": "markdown",
   "metadata": {},
   "source": [
    "Finally, we are ready to run the simulation. The basic idea is to run until the sources are finished, and then to run for some additional period of time. In that additional period, we'll perform some signal processing on the fields at some point with Harminv to identify the frequencies and decay rates of the modes that were excited:"
   ]
  },
  {
   "cell_type": "code",
   "execution_count": null,
   "metadata": {},
   "outputs": [],
   "source": [
    "sim.run(\n",
    "    mp.at_beginning(mp.output_epsilon),\n",
    "    mp.after_sources(mp.Harminv(mp.Ez, mp.Vector3(r + 0.1), fcen, df)),\n",
    "    until_after_sources=300,\n",
    ")"
   ]
  },
  {
   "cell_type": "markdown",
   "metadata": {},
   "source": [
    "The signal processing is performed by the `Harminv` routine, which takes four arguments: the field component `Ez` and position (`r`+0.1,0) to analyze, and a frequency range given by a center frequency and bandwidth (same as the source pulse). Note that we wrap `Harminv` in after_sources(...), since we only want to analyze the frequencies in the source-free system (the presence of a source will distort the analysis). At the end of the run, `Harminv` prints a series of lines (beginning with `harminv0`:) listing the frequencies it found."
   ]
  },
  {
   "cell_type": "markdown",
   "metadata": {},
   "source": [
    "There are six, comma-delimited columns in addition to the label. These results are also stored in `Harminv.modes`. The meaning of these columns is as follows. `Harminv` analyzes the fields $f(t)$ at the given point, and expresses this as a sum of modes in the specified bandwidth:\n",
    "\n",
    "$$f(t) = \\sum_n a_n e^{-i\\omega_nt} $$\n",
    "\n",
    "for complex amplitudes $a_n$ and complex frequencies $\\omega_n$. The six columns relate to these quantities. The first column is the _real_ part of $\\omega_n$, expressed in our usual $2\\pi c$ units, and the second column is the _imaginary part_ — a negative imaginary part corresponds to an exponential decay. This decay rate, for a cavity, is more often expressed as a dimensionless \"lifetime\" $Q$, defined by:\n",
    "\n",
    "$$Q=\\frac{\\mathrm{Re} \\omega}{-2\\mathrm{Im} \\omega} $$\n",
    "\n",
    "$Q$ is the number of optical periods for the energy to decay by $exp(−2\\pi)$, and $1/Q$ is the fractional bandwidth at half-maximum of the resonance peak in Fourier domain. This $Q$ is the third column of the output. The fourth and fifth columns are the absolute value $|a_n|$ and complex amplitudes an. The last column is a crude measure of the error in the frequency (both real and imaginary). If the error is much larger than the imaginary part, for example, then you can't trust the $Q$ to be accurate. Note: this error is only the _uncertainty in the signal processing_, and tells you nothing about the errors from finite resolution, finite cell size, and so on.\n",
    "\n",
    "An interesting question is how long should we run the simulation, after the sources are turned off, in order to analyze the frequencies. With traditional Fourier analysis, the time would be proportional to the frequency resolution required, but with `Harminv` the time is much shorter. For example, there are three modes. The last has a $Q$ of 1677, which means that the mode decays for about 2000 periods or about 2000/0.175 = 104 time units. We have only analyzed it for about 300 time units, however, and the estimated uncertainty in the frequency is $10^{-7}$ (with an actual error of about $10^{-6}$, from below). In general, you need to increase the run time to get more accuracy, and to find very high $Q$ values, but not by much. In some cases, modes with $Q$ of around 109 can be found with only 200 periods.\n",
    "\n",
    "In this case, we found three modes in the specified bandwidth, at frequencies of 0.118, 0.147, and 0.175, with corresponding $Q$ values of 81, 316, and 1677. As was shown by Marcatilli in 1969, the $Q$ of a ring resonator increases exponentially with the product of $\\omega$ and ring radius. Suppose that we want to actually see the field patterns of these modes. No problem: we just re-run the simulation with a narrow-band source around each mode and output the field at the end.\n",
    "\n",
    "In particular, to output the field at the end we might add an at_end(`mp.output_efield_z`) argument to our run_after_sources routine, but this is problematic: we might be unlucky and output at a time when the `Ez` field is almost zero (i.e. when all of the energy is in the magnetic field), in which case the picture will be deceptive. Instead, we'll animate the fields."
   ]
  },
  {
   "cell_type": "code",
   "execution_count": null,
   "metadata": {},
   "outputs": [],
   "source": [
    "sim.reset_meep()\n",
    "fcen = 0.118\n",
    "df = 0.1\n",
    "sim.sources = [\n",
    "    mp.Source(mp.GaussianSource(fcen, fwidth=df), mp.Ez, mp.Vector3(r + 0.1))\n",
    "]\n",
    "\n",
    "# Start the simulation and get into steady state\n",
    "sim.run(until=600)\n",
    "\n",
    "# Prepare the animator and record the steady state response\n",
    "f = plt.figure(dpi=150)\n",
    "Animate = mp.Animate2D(sim, fields=mp.Ez, f=f, realtime=False, normalize=True)\n",
    "sim.run(mp.at_every(0.5, Animate), until=25)\n",
    "\n",
    "# Close the animator's working frame\n",
    "plt.close()\n",
    "\n",
    "# Process the animation and view it\n",
    "filename = \"media/ring_simple.mp4\"\n",
    "Animate.to_mp4(5, filename)\n",
    "Video(filename)"
   ]
  },
  {
   "cell_type": "markdown",
   "metadata": {},
   "source": [
    "We can also view the results for 0.147"
   ]
  },
  {
   "cell_type": "code",
   "execution_count": null,
   "metadata": {},
   "outputs": [],
   "source": [
    "sim.reset_meep()\n",
    "fcen = 0.147\n",
    "df = 0.1\n",
    "sim.sources = [\n",
    "    mp.Source(mp.GaussianSource(fcen, fwidth=df), mp.Ez, mp.Vector3(r + 0.1))\n",
    "]\n",
    "sim.init_sim()\n",
    "\n",
    "# Start the simulation and get into steady state\n",
    "sim.run(until=500)\n",
    "\n",
    "# Prepare the animator and record the steady state response\n",
    "f = plt.figure(dpi=150)\n",
    "Animate = mp.Animate2D(sim, fields=mp.Ez, f=f, realtime=False, normalize=True)\n",
    "sim.run(mp.at_every(0.5, Animate), until=25)\n",
    "\n",
    "# Close the animator's working frame\n",
    "plt.close()\n",
    "\n",
    "# Process the animation and view it\n",
    "filename = \"media/ring_mid.mp4\"\n",
    "Animate.to_mp4(5, filename)\n",
    "Video(filename)"
   ]
  },
  {
   "cell_type": "markdown",
   "metadata": {},
   "source": [
    "and for 0.175"
   ]
  },
  {
   "cell_type": "code",
   "execution_count": null,
   "metadata": {},
   "outputs": [],
   "source": [
    "sim.reset_meep()\n",
    "fcen = 0.175\n",
    "df = 0.1\n",
    "sim.sources = [\n",
    "    mp.Source(mp.GaussianSource(fcen, fwidth=df), mp.Ez, mp.Vector3(r + 0.1))\n",
    "]\n",
    "\n",
    "# Start the simulation and get into steady state\n",
    "sim.run(until=500)\n",
    "\n",
    "# Prepare the animator and record the steady state response\n",
    "f = plt.figure(dpi=150)\n",
    "Animate = mp.Animate2D(sim, fields=mp.Ez, f=f, realtime=False, normalize=True)\n",
    "sim.run(mp.at_every(0.5, Animate), until=25)\n",
    "\n",
    "# Close the animator's working frame\n",
    "plt.close()\n",
    "\n",
    "# Process the animation and view it\n",
    "filename = \"media/ring_large.mp4\"\n",
    "Animate.to_mp4(5, filename)\n",
    "Video(filename)"
   ]
  }
 ],
 "metadata": {
  "kernelspec": {
   "display_name": "Python 3",
   "language": "python",
   "name": "python3"
  },
  "language_info": {
   "codemirror_mode": {
    "name": "ipython",
    "version": 3
   },
   "file_extension": ".py",
   "mimetype": "text/x-python",
   "name": "python",
   "nbconvert_exporter": "python",
   "pygments_lexer": "ipython3",
   "version": "3.6.8"
  },
  "toc": {
   "base_numbering": 1,
   "nav_menu": {},
   "number_sections": true,
   "sideBar": true,
   "skip_h1_title": false,
   "title_cell": "Table of Contents",
   "title_sidebar": "Contents",
   "toc_cell": false,
   "toc_position": {},
   "toc_section_display": true,
   "toc_window_display": false
  }
 },
 "nbformat": 4,
 "nbformat_minor": 2
}

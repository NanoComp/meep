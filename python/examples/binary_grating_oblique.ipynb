{
 "cells": [
  {
   "cell_type": "markdown",
   "metadata": {},
   "source": [
    "# Reflectance and Transmittance Spectra for Planewave at Oblique Incidence"
   ]
  },
  {
   "cell_type": "markdown",
   "metadata": {},
   "source": [
    "As an additional demonstration of the mode-decomposition feature, the reflectance and transmittance of all diffracted orders for any grating with no material absorption and a planewave source incident at any arbitrary angle and wavelength must necessarily sum to unity. Also, the total reflectance and transmittance must be equivalent to values computed using the Poynting flux. This demonstration is somewhat similar to the [single-mode waveguide example](https://nbviewer.jupyter.org/github/NanoComp/meep/blob/master/python/examples/mode-decomposition.ipynb).\n",
    "\n",
    "The following example is adapted from the previous binary-grating example involving a [normally-incident planewave](https://nbviewer.jupyter.org/github/NanoComp/meep/blob/master/python/examples/binary_grating.ipynb). \n",
    "\n",
    "The total reflectance, transmittance, and their sum are plotted at the end of the simulation.\n",
    "\n",
    "Results are computed for a single wavelength of 0.5 μm. The pulsed planewave is incident at an angle of 10.7°. Its spatial profile is defined using the source amplitude function `pw_amp`. This [anonymous function](https://en.wikipedia.org/wiki/Anonymous_function) takes two arguments, the wavevector and a point in space (both `mp.Vector3`s), and returns a function of one argument which defines the planewave amplitude at that point. A narrow bandwidth pulse is used in order to mitigate the intrinsic discretization effects of the [Yee grid](../Yee_Lattice.md) for oblique planewaves. Also, the `stop_when_fields_decayed` termination criteria is replaced with `until_after_sources`. As a general rule of thumb, the more oblique the planewave source, the longer the run time required to ensure accurate results. There is an additional line monitor between the source and the grating for computing the reflectance. The angle of each reflected/transmitted mode, which can be positive or negative, is computed using its dominant planewave vector. Since the oblique source breaks the symmetry in the $y$ direction, each diffracted order must be computed separately. In total, there are 59 reflected and 39 transmitted orders."
   ]
  },
  {
   "cell_type": "markdown",
   "metadata": {},
   "source": [
    "As usual, we'll begin by loading our required modules:"
   ]
  },
  {
   "cell_type": "code",
   "execution_count": null,
   "metadata": {},
   "outputs": [],
   "source": [
    "import meep as mp\n",
    "import math\n",
    "import cmath\n",
    "import numpy as np\n",
    "from matplotlib import pyplot as plt"
   ]
  },
  {
   "cell_type": "markdown",
   "metadata": {},
   "source": [
    "Next we'll define our simulation domain:"
   ]
  },
  {
   "cell_type": "code",
   "execution_count": null,
   "metadata": {},
   "outputs": [],
   "source": [
    "resolution = 50  # pixels/μm\n",
    "\n",
    "dpml = 1.0  # PML thickness\n",
    "dsub = 3.0  # substrate thickness\n",
    "dpad = 3.0  # length of padding between grating and PML\n",
    "gp = 10.0  # grating period\n",
    "gh = 0.5  # grating height\n",
    "gdc = 0.5  # grating duty cycle\n",
    "\n",
    "sx = dpml + dsub + gh + dpad + dpml\n",
    "sy = gp\n",
    "\n",
    "cell_size = mp.Vector3(sx, sy, 0)\n",
    "pml_layers = [mp.PML(thickness=dpml, direction=mp.X)]"
   ]
  },
  {
   "cell_type": "markdown",
   "metadata": {},
   "source": [
    "We can now define the oblique source we'll use to excite the grating structure."
   ]
  },
  {
   "cell_type": "code",
   "execution_count": null,
   "metadata": {},
   "outputs": [],
   "source": [
    "ng = 1.5\n",
    "glass = mp.Medium(index=ng)\n",
    "\n",
    "wvl = 0.5  # center wavelength\n",
    "fcen = 1 / wvl  # center frequency\n",
    "df = 0.05 * fcen  # frequency width\n",
    "\n",
    "# rotation angle of incident planewave; counter clockwise (CCW) about Z axis, 0 degrees along +X axis\n",
    "theta_in = math.radians(10.7)\n",
    "\n",
    "# k (in source medium) with correct length (plane of incidence: XY)\n",
    "k = mp.Vector3(fcen * ng).rotate(mp.Vector3(z=1), theta_in)\n",
    "\n",
    "symmetries = []\n",
    "eig_parity = mp.ODD_Z\n",
    "if theta_in == 0:\n",
    "    k = mp.Vector3(0, 0, 0)\n",
    "    symmetries = [mp.Mirror(mp.Y)]\n",
    "    eig_parity += mp.EVEN_Y\n",
    "\n",
    "\n",
    "def pw_amp(k, x0):\n",
    "    def _pw_amp(x):\n",
    "        return cmath.exp(1j * 2 * math.pi * k.dot(x + x0))\n",
    "\n",
    "    return _pw_amp\n",
    "\n",
    "\n",
    "src_pt = mp.Vector3(-0.5 * sx + dpml + 0.3 * dsub, 0, 0)\n",
    "sources = [\n",
    "    mp.Source(\n",
    "        mp.GaussianSource(fcen, fwidth=df),\n",
    "        component=mp.Ez,\n",
    "        center=src_pt,\n",
    "        size=mp.Vector3(0, sy, 0),\n",
    "        amp_func=pw_amp(k, src_pt),\n",
    "    )\n",
    "]"
   ]
  },
  {
   "cell_type": "markdown",
   "metadata": {},
   "source": [
    "We'll now initialize our simulation object. Since our first run is a normalization run, we'll set the entire domain to be the same material (glass in this case)."
   ]
  },
  {
   "cell_type": "code",
   "execution_count": null,
   "metadata": {},
   "outputs": [],
   "source": [
    "sim = mp.Simulation(\n",
    "    resolution=resolution,\n",
    "    cell_size=cell_size,\n",
    "    boundary_layers=pml_layers,\n",
    "    k_point=k,\n",
    "    default_material=glass,\n",
    "    sources=sources,\n",
    "    symmetries=symmetries,\n",
    ")\n",
    "\n",
    "refl_pt = mp.Vector3(-0.5 * sx + dpml + 0.5 * dsub, 0, 0)\n",
    "refl_flux = sim.add_flux(\n",
    "    fcen, 0, 1, mp.FluxRegion(center=refl_pt, size=mp.Vector3(0, sy, 0))\n",
    ")"
   ]
  },
  {
   "cell_type": "markdown",
   "metadata": {},
   "source": [
    "Since everything looks as expected, we can now run our normalization simulation. We'll record the flux data for future use."
   ]
  },
  {
   "cell_type": "code",
   "execution_count": null,
   "metadata": {},
   "outputs": [],
   "source": [
    "sim.run(until_after_sources=100)\n",
    "\n",
    "input_flux = mp.get_fluxes(refl_flux)\n",
    "input_flux_data = sim.get_flux_data(refl_flux)"
   ]
  },
  {
   "cell_type": "markdown",
   "metadata": {},
   "source": [
    "We'll now reset our simulation domain using the `reset_meep` command and generate the periodic grating structure."
   ]
  },
  {
   "cell_type": "code",
   "execution_count": null,
   "metadata": {},
   "outputs": [],
   "source": [
    "sim.reset_meep()\n",
    "\n",
    "geometry = [\n",
    "    mp.Block(\n",
    "        material=glass,\n",
    "        size=mp.Vector3(dpml + dsub, mp.inf, mp.inf),\n",
    "        center=mp.Vector3(-0.5 * sx + 0.5 * (dpml + dsub), 0, 0),\n",
    "    ),\n",
    "    mp.Block(\n",
    "        material=glass,\n",
    "        size=mp.Vector3(gh, gdc * gp, mp.inf),\n",
    "        center=mp.Vector3(-0.5 * sx + dpml + dsub + 0.5 * gh, 0, 0),\n",
    "    ),\n",
    "]\n",
    "\n",
    "sim = mp.Simulation(\n",
    "    resolution=resolution,\n",
    "    cell_size=cell_size,\n",
    "    boundary_layers=pml_layers,\n",
    "    geometry=geometry,\n",
    "    k_point=k,\n",
    "    sources=sources,\n",
    "    symmetries=symmetries,\n",
    ")\n",
    "\n",
    "refl_flux = sim.add_flux(\n",
    "    fcen, 0, 1, mp.FluxRegion(center=refl_pt, size=mp.Vector3(0, sy, 0))\n",
    ")\n",
    "sim.load_minus_flux_data(refl_flux, input_flux_data)\n",
    "\n",
    "tran_pt = mp.Vector3(0.5 * sx - dpml - 0.5 * dpad, 0, 0)\n",
    "tran_flux = sim.add_flux(\n",
    "    fcen, 0, 1, mp.FluxRegion(center=tran_pt, size=mp.Vector3(0, sy, 0))\n",
    ")"
   ]
  },
  {
   "cell_type": "markdown",
   "metadata": {},
   "source": [
    "Finally, we'll simulate the actual grating structure."
   ]
  },
  {
   "cell_type": "code",
   "execution_count": null,
   "metadata": {},
   "outputs": [],
   "source": [
    "sim.run(until_after_sources=200)"
   ]
  },
  {
   "cell_type": "markdown",
   "metadata": {},
   "source": [
    "With both simulation runs complete, we can use the `get_eigenmode_coefficients` routine to extract the reflection and transmission diffraction orders and relative power."
   ]
  },
  {
   "cell_type": "code",
   "execution_count": null,
   "metadata": {},
   "outputs": [],
   "source": [
    "# Calculate the number of reflected orders\n",
    "nm_r = np.floor((fcen * ng - k.y) * gp) - np.ceil(\n",
    "    (-fcen * ng - k.y) * gp\n",
    ")  # number of reflected orders\n",
    "if theta_in == 0:\n",
    "    nm_r = nm_r / 2  # since eig_parity removes degeneracy in y-direction\n",
    "nm_r = int(nm_r)\n",
    "\n",
    "# Extract the coefficients for the reflected orders\n",
    "res = sim.get_eigenmode_coefficients(\n",
    "    refl_flux, range(1, nm_r + 1), eig_parity=eig_parity\n",
    ")\n",
    "r_coeffs = res.alpha\n",
    "\n",
    "# Calculate the number of transmitted orders\n",
    "nm_t = np.floor((fcen - k.y) * gp) - np.ceil(\n",
    "    (-fcen - k.y) * gp\n",
    ")  # number of transmitted orders\n",
    "if theta_in == 0:\n",
    "    nm_t = nm_t / 2  # since eig_parity removes degeneracy in y-direction\n",
    "nm_t = int(nm_t)\n",
    "\n",
    "# Extract the coefficients for the transmitted orders\n",
    "res = sim.get_eigenmode_coefficients(\n",
    "    tran_flux, range(1, nm_t + 1), eig_parity=eig_parity\n",
    ")\n",
    "t_coeffs = res.alpha"
   ]
  },
  {
   "cell_type": "markdown",
   "metadata": {},
   "source": [
    "Finally, we'll compute the corresponding angles and relative powers and visualize the results."
   ]
  },
  {
   "cell_type": "code",
   "execution_count": null,
   "metadata": {},
   "outputs": [],
   "source": [
    "r_angle = np.squeeze(\n",
    "    [\n",
    "        math.degrees(np.sign(r_kdom.y) * math.acos(r_kdom.x / (ng * fcen)))\n",
    "        for r_kdom in res.kdom\n",
    "    ]\n",
    ")\n",
    "Rmode = abs(r_coeffs[:, 0, 1]) ** 2 / input_flux[0]\n",
    "idx_r = np.argsort(r_angle)\n",
    "\n",
    "t_angle = np.squeeze(\n",
    "    [\n",
    "        math.degrees(np.sign(t_kdom.y) * math.acos(t_kdom.x / fcen))\n",
    "        for t_kdom in res.kdom\n",
    "    ]\n",
    ")\n",
    "Tmode = abs(t_coeffs[:, 0, 0]) ** 2 / input_flux[0]\n",
    "idx_t = np.argsort(t_angle)\n",
    "\n",
    "plt.figure(dpi=150)\n",
    "plt.plot(r_angle[idx_r], Rmode[idx_r], \"o-\", color=\"blue\", label=\"Reflection\")\n",
    "plt.plot(t_angle[idx_t], Tmode[idx_t], \"o-\", color=\"red\", label=\"Transmission\")\n",
    "plt.grid(True)\n",
    "plt.xlabel(\"Diffraction Angle (degrees)\")\n",
    "plt.ylabel(\"Relative Power (au)\")\n",
    "plt.legend()\n",
    "plt.show()"
   ]
  },
  {
   "cell_type": "markdown",
   "metadata": {},
   "source": [
    "As a sanity check, we'll compare the total flux derived from the `get_eigenmode_coefficients` routine to the flux computed from the flux monitors:"
   ]
  },
  {
   "cell_type": "code",
   "execution_count": null,
   "metadata": {},
   "outputs": [],
   "source": [
    "print(\n",
    "    \"mode-coeff:, {:.6f}, {:.6f}, {:.6f}\".format(\n",
    "        np.sum(Rmode), np.sum(Tmode), np.sum(Rmode) + np.sum(Tmode)\n",
    "    )\n",
    ")\n",
    "r_flux = mp.get_fluxes(refl_flux)\n",
    "t_flux = mp.get_fluxes(tran_flux)\n",
    "Rflux = -r_flux[0] / input_flux[0]\n",
    "Tflux = t_flux[0] / input_flux[0]\n",
    "print(\"poynting-flux:, {:.6f}, {:.6f}, {:.6f}\".format(Rflux, Tflux, Rflux + Tflux))"
   ]
  }
 ],
 "metadata": {
  "kernelspec": {
   "display_name": "Python 3",
   "language": "python",
   "name": "python3"
  },
  "language_info": {
   "codemirror_mode": {
    "name": "ipython",
    "version": 3
   },
   "file_extension": ".py",
   "mimetype": "text/x-python",
   "name": "python",
   "nbconvert_exporter": "python",
   "pygments_lexer": "ipython3",
   "version": "3.6.8"
  },
  "toc": {
   "base_numbering": 1,
   "nav_menu": {},
   "number_sections": true,
   "sideBar": true,
   "skip_h1_title": false,
   "title_cell": "Table of Contents",
   "title_sidebar": "Contents",
   "toc_cell": false,
   "toc_position": {},
   "toc_section_display": true,
   "toc_window_display": false
  }
 },
 "nbformat": 4,
 "nbformat_minor": 2
}

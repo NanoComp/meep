{
 "cells": [
  {
   "cell_type": "markdown",
   "metadata": {},
   "source": [
    "# Frequency Domain Solver"
   ]
  },
  {
   "cell_type": "markdown",
   "metadata": {},
   "source": [
    "This tutorial demonstrates Meep's frequency-domain solver which is used to compute the fields produced in response to a continuous-wave (CW) source. For a description of its inner workings, see Section 5.3 (\"Frequency-domain solver\") of Computer Physics Communications, Vol. 181, pp. 687-702, 2010. This example involves using the frequency-domain solver to compute the fields of a ring resonator which is described in Tutorial/Basics. First, we will verify that the error in the fields decreases monotonically with decreasing tolerance of the iterative solver. And then, we will demonstrate qualitative agreement with the frequency-domain fields computed using a different method: Fourier transforming the time-domain fields in response to a narrowband Gaussian-pulse source.\n",
    "\n",
    "Usage of the frequency-domain solver involves only two changes to the original simulation: (1) replace the pulse source with a continuous source, and (2) turn on complex fields since real fields are used by default. Everything else remains unchanged.\n",
    "\n",
    "Since the frequency-domain solver uses an iterative method, there are a couple of things we can do to improve its convergence properties: (1) use a non-zero smoothing width for the CW source (default is 0) to reduce the high-frequency oscillations produced by its abrupt turn on which have slow group velocities and are absorbed poorly by PML, and (2) increase the L parameter of the BiCGSTAB-L iterative solver from the default of 2 to 10."
   ]
  },
  {
   "cell_type": "code",
   "execution_count": null,
   "metadata": {},
   "outputs": [],
   "source": [
    "import meep as mp\n",
    "import numpy as np\n",
    "from numpy import linalg as LA\n",
    "import matplotlib.pyplot as plt"
   ]
  },
  {
   "cell_type": "code",
   "execution_count": null,
   "metadata": {},
   "outputs": [],
   "source": [
    "n = 3.4\n",
    "w = 1\n",
    "r = 1\n",
    "pad = 4\n",
    "dpml = 2\n",
    "\n",
    "sxy = 2 * (r + w + pad + dpml)\n",
    "cell_size = mp.Vector3(sxy, sxy)\n",
    "\n",
    "pml_layers = [mp.PML(dpml)]\n",
    "\n",
    "nonpml_vol = mp.Volume(mp.Vector3(), size=mp.Vector3(sxy - 2 * dpml, sxy - 2 * dpml))\n",
    "\n",
    "geometry = [\n",
    "    mp.Cylinder(radius=r + w, material=mp.Medium(index=n)),\n",
    "    mp.Cylinder(radius=r),\n",
    "]\n",
    "\n",
    "fcen = 0.118\n",
    "\n",
    "src = [\n",
    "    mp.Source(mp.ContinuousSource(fcen), component=mp.Ez, center=mp.Vector3(r + 0.1)),\n",
    "    mp.Source(\n",
    "        mp.ContinuousSource(fcen),\n",
    "        component=mp.Ez,\n",
    "        center=mp.Vector3(-(r + 0.1)),\n",
    "        amplitude=-1,\n",
    "    ),\n",
    "]\n",
    "\n",
    "symmetries = [mp.Mirror(mp.X, phase=-1), mp.Mirror(mp.Y, phase=+1)]\n",
    "\n",
    "sim = mp.Simulation(\n",
    "    cell_size=cell_size,\n",
    "    geometry=geometry,\n",
    "    sources=src,\n",
    "    resolution=10,\n",
    "    force_complex_fields=True,\n",
    "    symmetries=symmetries,\n",
    "    boundary_layers=pml_layers,\n",
    ")\n",
    "f = plt.figure(dpi=120)\n",
    "sim.plot2D(ax=f.gca())\n",
    "plt.show()"
   ]
  },
  {
   "cell_type": "code",
   "execution_count": null,
   "metadata": {},
   "outputs": [],
   "source": []
  },
  {
   "cell_type": "code",
   "execution_count": null,
   "metadata": {},
   "outputs": [],
   "source": [
    "num_tols = 5\n",
    "tols = np.power(10, np.arange(-8.0, -8.0 - num_tols, -1.0))\n",
    "ez_dat = np.zeros((122, 122, num_tols), dtype=np.complex_)\n",
    "\n",
    "for i in range(num_tols):\n",
    "    sim.init_sim()\n",
    "    sim.solve_cw(tols[i], 10000, 10)\n",
    "    ez_dat[:, :, i] = sim.get_array(vol=nonpml_vol, component=mp.Ez)"
   ]
  },
  {
   "cell_type": "code",
   "execution_count": null,
   "metadata": {},
   "outputs": [],
   "source": []
  },
  {
   "cell_type": "code",
   "execution_count": null,
   "metadata": {},
   "outputs": [],
   "source": [
    "err_dat = np.zeros(num_tols - 1)\n",
    "for i in range(num_tols - 1):\n",
    "    err_dat[i] = LA.norm(ez_dat[:, :, i] - ez_dat[:, :, num_tols - 1])\n",
    "\n",
    "plt.figure(dpi=150)\n",
    "plt.loglog(tols[: num_tols - 1], err_dat, \"bo-\")\n",
    "plt.xlabel(\"frequency-domain solver tolerance\")\n",
    "plt.ylabel(\"L2 norm of error in fields\")\n",
    "plt.show()"
   ]
  },
  {
   "cell_type": "code",
   "execution_count": null,
   "metadata": {},
   "outputs": [],
   "source": [
    "eps_data = sim.get_array(vol=nonpml_vol, component=mp.Dielectric)\n",
    "ez_data = np.real(ez_dat[:, :, num_tols - 1])\n",
    "\n",
    "plt.figure()\n",
    "plt.imshow(eps_data.transpose(), interpolation=\"spline36\", cmap=\"binary\")\n",
    "plt.imshow(ez_data.transpose(), interpolation=\"spline36\", cmap=\"RdBu\", alpha=0.9)\n",
    "plt.axis(\"off\")\n",
    "plt.show()\n",
    "\n",
    "if np.all(np.diff(err_dat) < 0):\n",
    "    print(\n",
    "        \"PASSED solve_cw test: error in the fields is decreasing with increasing resolution\"\n",
    "    )\n",
    "else:\n",
    "    print(\n",
    "        \"FAILED solve_cw test: error in the fields is NOT decreasing with increasing resolution\"\n",
    "    )"
   ]
  },
  {
   "cell_type": "code",
   "execution_count": null,
   "metadata": {},
   "outputs": [],
   "source": [
    "sim.reset_meep()\n",
    "\n",
    "df = 0.08\n",
    "src = [\n",
    "    mp.Source(\n",
    "        mp.GaussianSource(fcen, fwidth=df), component=mp.Ez, center=mp.Vector3(r + 0.1)\n",
    "    ),\n",
    "    mp.Source(\n",
    "        mp.GaussianSource(fcen, fwidth=df),\n",
    "        component=mp.Ez,\n",
    "        center=mp.Vector3(-(r + 0.1)),\n",
    "        amplitude=-1,\n",
    "    ),\n",
    "]\n",
    "\n",
    "sim = mp.Simulation(\n",
    "    cell_size=mp.Vector3(sxy, sxy),\n",
    "    geometry=geometry,\n",
    "    sources=src,\n",
    "    resolution=10,\n",
    "    symmetries=symmetries,\n",
    "    boundary_layers=pml_layers,\n",
    ")\n",
    "\n",
    "dft_obj = sim.add_dft_fields([mp.Ez], fcen, 0, 1, where=nonpml_vol)\n",
    "\n",
    "sim.run(until_after_sources=100)"
   ]
  },
  {
   "cell_type": "code",
   "execution_count": null,
   "metadata": {},
   "outputs": [],
   "source": [
    "eps_data = sim.get_array(vol=nonpml_vol, component=mp.Dielectric)\n",
    "ez_data = np.real(sim.get_dft_array(dft_obj, mp.Ez, 0))\n",
    "\n",
    "plt.figure()\n",
    "plt.imshow(eps_data.transpose(), interpolation=\"spline36\", cmap=\"binary\")\n",
    "plt.imshow(ez_data.transpose(), interpolation=\"spline36\", cmap=\"RdBu\", alpha=0.9)\n",
    "plt.axis(\"off\")\n",
    "plt.show()"
   ]
  }
 ],
 "metadata": {
  "kernelspec": {
   "display_name": "Python 3",
   "language": "python",
   "name": "python3"
  },
  "language_info": {
   "codemirror_mode": {
    "name": "ipython",
    "version": 3
   },
   "file_extension": ".py",
   "mimetype": "text/x-python",
   "name": "python",
   "nbconvert_exporter": "python",
   "pygments_lexer": "ipython3",
   "version": "3.7.3"
  }
 },
 "nbformat": 4,
 "nbformat_minor": 2
}

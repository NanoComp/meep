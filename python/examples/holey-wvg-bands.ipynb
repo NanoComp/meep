{
 "cells": [
  {
   "cell_type": "markdown",
   "metadata": {},
   "source": [
    "# Band Diagram\n",
    "\n",
    "In this tutorial, we will build off of the `holey-wvg-cavity.ipynb` tutorial by considering a smaller, more abstract calculation that we really should have done first. In particular, we compute the band diagram of the infinite periodic waveguide by itself with no defects. This is very similar to the types of calculations that MPB performs, but with a different method that has its own strengths and weaknesses. By analyzing what solutions can propagate in the periodic structure, one gains fundamental insight into the aperiodic structures from `holey-wvg-cavity.ipynb`.\n",
    "\n",
    "Let us briefly review the problem. In a periodic system of this sort, the eigen-solutions can be expressed in the form of Bloch modes: a periodic Bloch envelope multiplied by a planewave $exp[i(k⋅x−\\omega t)]$, where $k$ is the Bloch wavevector. We wish to find the bands $\\omega(k)$. In this case, there is only one direction of periodicity, so we only have one wavevector component $k_x$. Moreover, the solutions are periodic functions of this wavevector: for a unit-period structure, $k_x$ and $k_x+2\\pi$ are redundant. Also, $k_x$ and $−k_x$ are redundant by time-reversal symmetry, so we only need to look for solutions in the irreducible Brillouin zone from $k_x=0$ to $k_x=\\pi$.\n",
    "\n",
    "Solving for these eigenmodes is very similar to solving for the resonant modes of a cavity. We put in a pulse and analyze the response via Harminv except that our computational cell and boundary conditions are different. In particular, our computational cell is simply the unit cell of the periodicity. The $\\epsilon$ function then obeys periodic boundary conditions, but the fields obey Bloch-periodic boundary conditions: the fields at the right side are $exp(ik_x⋅1)$ times the fields at the left side. For each $k_x$, we will do a separate computation to get the frequencies at that $k_x$.\n",
    "\n",
    "We'll first load our modules:"
   ]
  },
  {
   "cell_type": "code",
   "execution_count": null,
   "metadata": {},
   "outputs": [],
   "source": [
    "import meep as mp\n",
    "import numpy as np\n",
    "from matplotlib import pyplot as plt\n",
    "from IPython.display import Video\n",
    "\n",
    "%matplotlib notebook"
   ]
  },
  {
   "cell_type": "markdown",
   "metadata": {},
   "source": [
    "And define our computational cell as follows:"
   ]
  },
  {
   "cell_type": "code",
   "execution_count": null,
   "metadata": {},
   "outputs": [],
   "source": [
    "# Some parameters to describe the geometry:\n",
    "eps = 13  # dielectric constant of waveguide\n",
    "w = 1.2  # width of waveguide\n",
    "r = 0.36  # radius of holes\n",
    "\n",
    "# The cell dimensions\n",
    "sy = 12  # size of cell in y direction (perpendicular to wvg.)\n",
    "dpml = 1  # PML thickness (y direction only!)\n",
    "cell = mp.Vector3(1, sy)\n",
    "\n",
    "b = mp.Block(size=mp.Vector3(1e20, w, 1e20), material=mp.Medium(epsilon=eps))\n",
    "c = mp.Cylinder(radius=r)\n",
    "\n",
    "geometry = [b, c]\n",
    "\n",
    "resolution = 20"
   ]
  },
  {
   "cell_type": "markdown",
   "metadata": {},
   "source": [
    "Note that our cell is now size `1` in the x direction, and there is no need for any loops to duplicate the geometry. We just have a single air hole in the unit cell. The PML absorbing boundaries have something new:"
   ]
  },
  {
   "cell_type": "code",
   "execution_count": null,
   "metadata": {},
   "outputs": [],
   "source": [
    "pml_layers = [mp.PML(dpml, direction=mp.Y)]"
   ]
  },
  {
   "cell_type": "markdown",
   "metadata": {},
   "source": [
    "Since our structure is periodic, we don't want any absorbing layers in the $x$ direction: adding `direction=mp.Y` just specifies PML layers on the $y$ boundaries.\n",
    "\n",
    "As before, our source will be a Gaussian pulse from an $H_z$ point source:"
   ]
  },
  {
   "cell_type": "code",
   "execution_count": null,
   "metadata": {},
   "outputs": [],
   "source": [
    "fcen = 0.25  # pulse center frequency\n",
    "df = 1.5  # pulse freq. width: large df = short impulse\n",
    "\n",
    "s = [\n",
    "    mp.Source(\n",
    "        src=mp.GaussianSource(fcen, fwidth=df),\n",
    "        component=mp.Hz,\n",
    "        center=mp.Vector3(0.1234, 0),\n",
    "    )\n",
    "]"
   ]
  },
  {
   "cell_type": "markdown",
   "metadata": {},
   "source": [
    "Notice that we put our source at $(0.1234,0)$. The $x$ coordinate is random, to help ensure that the source will couple to an arbitrary mode, but the $y$ coordinate is 0. This means that we will only be looking at $H_z$-polarized odd-symmetry modes (recalling the pseudovector subtlety discussed above). As usual, we will exploit this via:"
   ]
  },
  {
   "cell_type": "code",
   "execution_count": null,
   "metadata": {},
   "outputs": [],
   "source": [
    "sym = [mp.Mirror(direction=mp.Y, phase=-1)]"
   ]
  },
  {
   "cell_type": "markdown",
   "metadata": {},
   "source": [
    "Note that, regardless of the source, we don't have an $X$ symmetry plane because this symmetry is broken by our boundary condition for $0<k_x<\\pi$.\n",
    "\n",
    "Let's set up our simulation and visualize the domain:"
   ]
  },
  {
   "cell_type": "code",
   "execution_count": null,
   "metadata": {},
   "outputs": [],
   "source": [
    "sim = mp.Simulation(\n",
    "    cell_size=cell,\n",
    "    geometry=geometry,\n",
    "    boundary_layers=pml_layers,\n",
    "    sources=s,\n",
    "    symmetries=sym,\n",
    "    resolution=resolution,\n",
    ")\n",
    "f = plt.figure(dpi=150)\n",
    "sim.plot2D(ax=f.gca())\n",
    "plt.show()"
   ]
  },
  {
   "cell_type": "markdown",
   "metadata": {},
   "source": [
    "Now, there are two ways to proceed. First, we could set the value of $k$ via the `k_point` variable, and then use `until_after_sources` with Harminv just as we did to calculate a resonant mode:"
   ]
  },
  {
   "cell_type": "code",
   "execution_count": null,
   "metadata": {},
   "outputs": [],
   "source": [
    "kx = 0.4\n",
    "sim.k_point = mp.Vector3(kx)\n",
    "\n",
    "sim.run(\n",
    "    mp.after_sources(mp.Harminv(mp.Hz, mp.Vector3(0.1234), fcen, df)),\n",
    "    until_after_sources=300,\n",
    ")"
   ]
  },
  {
   "cell_type": "markdown",
   "metadata": {},
   "source": [
    "which gives us the frequencies at a single $k=0.4⋅2\\pi x̂$. Note that, in Meep, $k$ is specified as a vector in Cartesian coordinates, with units of $2\\pi$/distance. This is different from MPB, which uses the basis of the _reciprocal lattice_ vectors. However, this only gives us one $k$. Instead, there is a built-in function which takes as input a time to run after the sources finish, like the 300 above, and a list of $k$ points:"
   ]
  },
  {
   "cell_type": "code",
   "execution_count": null,
   "metadata": {},
   "outputs": [],
   "source": [
    "%%capture\n",
    "sim.restart_fields()\n",
    "k_interp = 19\n",
    "kpts = mp.interpolate(k_interp, [mp.Vector3(0), mp.Vector3(0.5)])\n",
    "all_freqs = sim.run_k_points(300, kpts)"
   ]
  },
  {
   "cell_type": "markdown",
   "metadata": {},
   "source": [
    "Here, we have used Meep's built-in `interpolate` function to interpolate a set of 19 $k$ points between $k=0$ and $k=0.5⋅2\\pi x̂$ , to cover the irreducible Brillouin zone. This function automatically runs Harminv, using the frequency range and location taken from the Gaussian source in the sources list. It returns the calculated modes as a list of lists.\n",
    "\n",
    "Plotting the real parts of $\\omega$, where the light cone $\\omega > ck$ is shaded gray, we find:"
   ]
  },
  {
   "cell_type": "code",
   "execution_count": null,
   "metadata": {},
   "outputs": [],
   "source": [
    "kx = [k.x for k in kpts]\n",
    "fig = plt.figure(dpi=100, figsize=(5, 5))\n",
    "ax = plt.subplot(111)\n",
    "for i in range(len(all_freqs)):\n",
    "    for ii in range(len(all_freqs[i])):\n",
    "        plt.scatter(kx[i], np.real(all_freqs[i][ii]), color=\"b\")\n",
    "\n",
    "ax.fill_between(kx, kx, 1.0, interpolate=True, color=\"gray\", alpha=0.3)\n",
    "plt.xlim(0, 0.5)\n",
    "plt.ylim(0, 1)\n",
    "plt.grid(True)\n",
    "plt.xlabel(\"$k_x(2\\pi)$\")\n",
    "plt.ylabel(\"$\\omega(2\\pi c)$\")\n",
    "plt.tight_layout()\n",
    "plt.show()"
   ]
  },
  {
   "cell_type": "markdown",
   "metadata": {},
   "source": [
    "The gray shaded region is the light cone, $\\omega>ck_x$, which is the region corresponding to modes that are extended in the air surrounding the waveguide. Below the light cone, we see several discrete guided bands, which must have field patterns localized to the vicinity of the waveguide. The imaginary part of $\\omega$ for bands below the light cone is very small, due to either numerical error or the finite computational cell size. Some tiny portion of the guided mode overlaps the PML. Note the band gap between the first and second guided mode, from about 0.2 to 0.3.\n",
    "\n",
    "Inside the light cone, we also see several discrete bands. These are leaky modes, or resonances, which have some intrinsic lifetime/loss because they couple with radiating states inside the light cone, which is reflected in the imaginary parts of their $\\omega$. Twice the imaginary part of $\\omega$ is the energy loss rate per unit time; for a waveguide, it is more conventional to report loss per unit distance; to get this you would divide the loss per unit time by the group velocity $|d\\omega/dk_x| = |slope|$. Harminv only identifies leaky modes that have a substantial lifetime. The default threshold is a lifetime, or $Q$, of 50 periods.\n",
    "\n",
    "Computing band diagrams, especially for leaky modes, with a time-domain program like Meep involves several subtleties. For example, the accuracy of Harminv will go down if we specify too large a `df` (too narrow a source), because the increased number of modes makes the signal-processing more ill-conditioned. Sometimes, Harminv will report a spurious mode, which will appear as an isolated dot on the plot. Second, we sometimes have to be careful with modes and especially the imaginary parts to make sure they aren't an artifact of the cell being too small, or the signal-processing error being too large (either because the run is too short or because the bandwidth being searched is too large). Third, currently Meep doesn't attempt to \"connect the dots\" for the bands — the frequencies are printed in increasing order, but since modes disappear when their losses become too large this means that a single band may be split across several columns.\n",
    "\n",
    "For example, there seem to be some bands that run right along the edge of the light cone. These are not leaky modes, but are artifacts of the fact that PML boundaries do not absorb well for light that is travelling parallel to the boundary, corresponding to extended modes at the boundary of the light cone. Below, we will see that these modes are not localized to the waveguide."
   ]
  },
  {
   "cell_type": "markdown",
   "metadata": {},
   "source": [
    "It is usually a good idea to examine the field patterns for any modes that you are particularly interested in. That is, re-run the simulation with a narrow-bandwidth source, at the particular ω and k you want, and output the field patterns just as we did for the resonant-cavity modes. We'll do that for several modes below:\n",
    "\n",
    "* $k_x=0.4, \\omega=0.1896$ guided mode\n",
    "* $k_x=0.4, \\omega=0.3175$ guided mode\n",
    "* $k_x=0.1, \\omega=0.4811−0.0017i$ leaky mode\n",
    "* $k_x=0.3, \\omega=0.8838−0.0018i$ leaky mode\n",
    "* $k_x=0.25, \\omega=0.2506$ light-cone (extended) mode\n",
    "\n",
    "First, we'll wrap the routine in a function:"
   ]
  },
  {
   "cell_type": "code",
   "execution_count": null,
   "metadata": {},
   "outputs": [],
   "source": [
    "def run_sim(kx, omega, filename):\n",
    "    s = [\n",
    "        mp.Source(\n",
    "            src=mp.GaussianSource(omega, fwidth=0.01),\n",
    "            component=mp.Hz,\n",
    "            center=mp.Vector3(0.1234, 0),\n",
    "        )\n",
    "    ]\n",
    "    sim = mp.Simulation(\n",
    "        cell_size=cell,\n",
    "        geometry=geometry,\n",
    "        boundary_layers=pml_layers,\n",
    "        sources=s,\n",
    "        symmetries=sym,\n",
    "        k_point=mp.Vector3(kx),\n",
    "        resolution=resolution,\n",
    "    )\n",
    "    f = plt.figure(dpi=100)\n",
    "    animate = mp.Animate2D(sim, fields=mp.Hz, f=f, normalize=True, realtime=False)\n",
    "    sim.run(mp.at_every(5, animate), until_after_sources=1)\n",
    "    animate.to_mp4(10, filename)\n",
    "    plt.close()"
   ]
  },
  {
   "cell_type": "code",
   "execution_count": null,
   "metadata": {},
   "outputs": [],
   "source": [
    "kx = [0.4, 0.4, 0.1, 0.3, 0.25]\n",
    "omega = [0.1896, 0.3175, 0.4811, 0.8838, 0.2506]\n",
    "filename = [\n",
    "    \"media/holey-wvg-bands-{}-{}.mp4\".format(k, om) for (k, om) in zip(kx, omega)\n",
    "]\n",
    "for (k, om, fn) in zip(kx, omega, filename):\n",
    "    run_sim(*[k, om, fn])"
   ]
  },
  {
   "cell_type": "code",
   "execution_count": null,
   "metadata": {},
   "outputs": [],
   "source": [
    "import IPython\n",
    "\n",
    "for i in range(len(filename)):\n",
    "    IPython.display.display(IPython.display.Video(filename[i]))"
   ]
  },
  {
   "cell_type": "markdown",
   "metadata": {},
   "source": [
    "* From the top, the first two pictures show the first two guided bands underneath the light cone at $k_x=0.4$. Note that the second guided band is propagating to the left, which is due to its negative slope (note, however, that there is a corresponding right-propagating mode at $k_x=−0.4$). Note that they are strongly (exponentially) localized to the waveguide, as they should be.\n",
    "\n",
    "* The next mode is the first leaky mode at $k_x=0.1$. As $k_x$ goes to zero, in fact, this mode actually becomes lossless, a peculiarity of symmetry related to an effect demonstrated in Phys. Rev. B. 63, 125107, 2001. However, at this non-zero $k_x$, the radiation loss is clearly visible.\n",
    "\n",
    "* The next mode is one of the many higher-order leaky modes visible in the band diagram; we arbitrarily chose the backwards-propagating mode at $k_x=0.3$, $\\omega=0.8838−0.0018i$ to plot. As can be seen from the field pattern, this mode has a very short wavelength in the material. This is short enough that it is worth checking how big the error introduced by the finite resolution is. By doubling the resolution to 40 pixels/unit, we found that this mode has shifted to $\\omegaω=0.8996−0.0021i$, or about a 2% error at the lower resolution.\n",
    "\n",
    "* Finally, we show one of the modes right along the edge of the light cone, at $k_x=0.25$, $\\omega=0.2506$. This mode is clearly not localized to the waveguide, and is just propagating through the air parallel to the waveguide — i.e. it is really part of the continuum of extended modes and its discreteness is an artifact of the finite cell and imperfect boundary conditions. For light propagating completely parallel to the boundary, PML is not very effective, so the imaginary part of ω is only -0.0008 for this field."
   ]
  }
 ],
 "metadata": {
  "kernelspec": {
   "display_name": "Python 3",
   "language": "python",
   "name": "python3"
  },
  "language_info": {
   "codemirror_mode": {
    "name": "ipython",
    "version": 3
   },
   "file_extension": ".py",
   "mimetype": "text/x-python",
   "name": "python",
   "nbconvert_exporter": "python",
   "pygments_lexer": "ipython3",
   "version": "3.6.8"
  },
  "toc": {
   "base_numbering": 1,
   "nav_menu": {},
   "number_sections": true,
   "sideBar": true,
   "skip_h1_title": false,
   "title_cell": "Table of Contents",
   "title_sidebar": "Contents",
   "toc_cell": false,
   "toc_position": {},
   "toc_section_display": true,
   "toc_window_display": false
  }
 },
 "nbformat": 4,
 "nbformat_minor": 2
}

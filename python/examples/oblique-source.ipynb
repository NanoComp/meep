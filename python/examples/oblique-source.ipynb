{
 "cells": [
  {
   "cell_type": "markdown",
   "metadata": {},
   "source": [
    "# Index-Guided Modes in a Strip Waveguide"
   ]
  },
  {
   "cell_type": "markdown",
   "metadata": {},
   "source": [
    "In this tutorial, we'll examine different ways in which we can excite and analyze waveguides that run along arbitrary axes. First, we'll try exciting the waveguide using a simple line source. We'll notice that the source excites multiple modes and doesn't couple very efficiently. Then, we'll try coupling using an `EigenModeSource`. We'll specify a `k` vector that points along the direction of the waveguide such that it solves for the correct fundamental mode and excites the waveguide correctly.\n",
    "\n",
    "By that same logic, we can use the mode decomposition feature with the oblique waveguids as well to extract the forward and backward propogation coefficients.\n",
    "\n",
    "Along the way, we'll visualize the fields using animation to ensure we are simulating what we expect."
   ]
  },
  {
   "cell_type": "markdown",
   "metadata": {},
   "source": [
    "As usual, we'll first load our necesarry modules."
   ]
  },
  {
   "cell_type": "code",
   "execution_count": null,
   "metadata": {},
   "outputs": [],
   "source": [
    "import meep as mp\n",
    "import numpy as np\n",
    "import matplotlib.pyplot as plt\n",
    "from IPython.display import Video"
   ]
  },
  {
   "cell_type": "markdown",
   "metadata": {},
   "source": [
    "Now, we'll generate our simulation domain. We'll create a waveguide that is 1 $\\mu$ wide rotated by 20 degrees and with a permittivity of 12. Our simulation domain will be 2d, $14\\mu m \\times14\\mu m$.\n",
    "\n",
    "An oblique waveguide also leads to a breakdown in the PML. A simple workaround for mitigating the PML artifacts is to increase its length which is why the `thickness` has been doubled from 1 to 2.\n",
    "\n",
    "We'll use a narrow band line source that expands slightly wider than the waveguide itself (2 $\\mu m$) and ensure it has sufficient bandwidth (20% of the center frequency)."
   ]
  },
  {
   "cell_type": "code",
   "execution_count": null,
   "metadata": {},
   "outputs": [],
   "source": [
    "resolution = 20  # pixels/μm\n",
    "\n",
    "cell_size = mp.Vector3(14, 14)\n",
    "\n",
    "pml_layers = [mp.PML(thickness=2)]\n",
    "\n",
    "# rotation angle (in degrees) of waveguide, counter clockwise (CCW) around z-axis\n",
    "rot_angle = np.radians(20)\n",
    "\n",
    "geometry = [\n",
    "    mp.Block(\n",
    "        center=mp.Vector3(),\n",
    "        size=mp.Vector3(mp.inf, 1, mp.inf),\n",
    "        e1=mp.Vector3(1).rotate(mp.Vector3(z=1), rot_angle),\n",
    "        e2=mp.Vector3(y=1).rotate(mp.Vector3(z=1), rot_angle),\n",
    "        material=mp.Medium(epsilon=12),\n",
    "    )\n",
    "]\n",
    "\n",
    "fsrc = 0.15  # frequency of eigenmode or constant-amplitude source\n",
    "\n",
    "sources = [\n",
    "    mp.Source(\n",
    "        src=mp.GaussianSource(fsrc, fwidth=0.2 * fsrc),\n",
    "        center=mp.Vector3(),\n",
    "        size=mp.Vector3(y=2),\n",
    "        component=mp.Ez,\n",
    "    )\n",
    "]\n",
    "\n",
    "sim = mp.Simulation(\n",
    "    cell_size=cell_size,\n",
    "    resolution=resolution,\n",
    "    boundary_layers=pml_layers,\n",
    "    sources=sources,\n",
    "    geometry=geometry,\n",
    ")"
   ]
  },
  {
   "cell_type": "markdown",
   "metadata": {},
   "source": [
    "We'll plot our simulation domain to ensure we coded everything correctly:"
   ]
  },
  {
   "cell_type": "code",
   "execution_count": null,
   "metadata": {},
   "outputs": [],
   "source": [
    "f = plt.figure(dpi=100)\n",
    "sim.plot2D(ax=f.gca())\n",
    "plt.show()"
   ]
  },
  {
   "cell_type": "markdown",
   "metadata": {},
   "source": [
    "Now we'll run the simulation for 50 timesteps _after_ the source stops. We'll be sure to record the fields every 1 timestep so we can animate a video."
   ]
  },
  {
   "cell_type": "code",
   "execution_count": null,
   "metadata": {},
   "outputs": [],
   "source": [
    "f = plt.figure(dpi=100)\n",
    "animate = mp.Animate2D(sim, mp.Ez, f=f, normalize=True)\n",
    "sim.run(mp.at_every(1, animate), until_after_sources=50)\n",
    "plt.close()"
   ]
  },
  {
   "cell_type": "markdown",
   "metadata": {},
   "source": [
    "Once the simulation finishes, we can output and visualize the animation within the notebook. Note that since we opted to normalize the fields, the simulation takes time to \"ramp up\" before any fields are visible."
   ]
  },
  {
   "cell_type": "code",
   "execution_count": null,
   "metadata": {},
   "outputs": [],
   "source": [
    "filename = \"media/oblique-source-normal.mp4\"\n",
    "animate.to_mp4(10, filename)\n",
    "Video(filename)"
   ]
  },
  {
   "cell_type": "markdown",
   "metadata": {},
   "source": [
    "As expected, the waveguide is excited and propogates in _both_ directions. The mode weakly couples until it has time to propogate along the axis, which is not ideal for some applications.\n",
    "\n",
    "We'll now try exciting the waveguide with the `EigenModeSource`. To do so, we must supply `MPB` an initial `k` vector guess that it can use to determine the correct waveguide mode. We'll rotate the test vector, `kpoint` by the same amount that our waveguide is rotated.\n",
    "\n",
    "Determining the parity of the source depends on the desired mode to excite and the angle of the waveguide. For even modes that propogate along the x direction (i.e. `rot_angle=0`) we can leverage both `mp.EVEN_Y` and `mp.ODD_Z`. Once we start rotating the waveguide, however, the `mp.EVEN_Y` symmetry breaks."
   ]
  },
  {
   "cell_type": "code",
   "execution_count": null,
   "metadata": {},
   "outputs": [],
   "source": [
    "kx = 0.4  # initial guess for wavevector in x-direction of eigenmode\n",
    "kpoint = mp.Vector3(kx).rotate(\n",
    "    mp.Vector3(z=1), rot_angle\n",
    ")  # Rotate the vector by the specified amount\n",
    "\n",
    "bnum = 1  # band number of eigenmode\n",
    "\n",
    "sources = [\n",
    "    mp.EigenModeSource(\n",
    "        src=mp.GaussianSource(fsrc, fwidth=0.2 * fsrc),\n",
    "        center=mp.Vector3(),\n",
    "        size=mp.Vector3(y=14),\n",
    "        direction=mp.NO_DIRECTION,\n",
    "        eig_kpoint=kpoint,\n",
    "        eig_band=bnum,\n",
    "        eig_parity=mp.EVEN_Y + mp.ODD_Z if rot_angle == 0 else mp.ODD_Z,\n",
    "        eig_match_freq=True,\n",
    "    )\n",
    "]\n",
    "\n",
    "sim = mp.Simulation(\n",
    "    cell_size=cell_size,\n",
    "    resolution=resolution,\n",
    "    boundary_layers=pml_layers,\n",
    "    sources=sources,\n",
    "    geometry=geometry,\n",
    "    symmetries=[mp.Mirror(mp.Y)] if rot_angle == 0 else [],\n",
    ")"
   ]
  },
  {
   "cell_type": "markdown",
   "metadata": {},
   "source": [
    "Note that in `EigenModeSource` the direction property must be set to `NO_DIRECTION` for a non-zero `eig_kpoint` which specifies the waveguide axis.\n",
    "\n",
    "As before, we'll animate the fields to see how this approach differs."
   ]
  },
  {
   "cell_type": "code",
   "execution_count": null,
   "metadata": {},
   "outputs": [],
   "source": [
    "f = plt.figure(dpi=100)\n",
    "animate = mp.Animate2D(sim, mp.Ez, f=f, normalize=True)\n",
    "sim.run(mp.at_every(1, animate), until_after_sources=50)\n",
    "plt.close()"
   ]
  },
  {
   "cell_type": "code",
   "execution_count": null,
   "metadata": {},
   "outputs": [],
   "source": [
    "filename = \"media/oblique-source-eig.mp4\"\n",
    "animate.to_mp4(10, filename)\n",
    "Video(filename)"
   ]
  },
  {
   "cell_type": "markdown",
   "metadata": {},
   "source": [
    "Once again, we need to wait for the fields to ramp up. This time, however, we see that the source only propogates in _one_ direction, and a _single_ waveguide mode is clearly visible."
   ]
  },
  {
   "cell_type": "markdown",
   "metadata": {},
   "source": [
    "Finally, we demonstrate that the total power in a waveguide with arbitrary orientation — computed using _two_ equivalent methods via `get_fluxes` and mode decomposition — can be computed by a single flux plane oriented along the $y$ direction: thanks to Poynting's theorem, the flux through any plane crossing a lossless waveguide is the same, regardless of whether the plane is oriented perpendicular to the waveguide. Furthermore, the eigenmode source is normalized in such a way as to produce the same power regardless of the waveguide orientation.\n",
    "\n",
    "We'll perform a similar simulation as above for a waveguide oriented at 0°, 20°, and 40°. We'll measure the flux using both `get_fluxes` and `get_eigenmode_coefficients` and compare the results."
   ]
  },
  {
   "cell_type": "code",
   "execution_count": null,
   "metadata": {},
   "outputs": [],
   "source": [
    "for rot_angle in np.radians([0, 20, 40]):\n",
    "\n",
    "    resolution = 20\n",
    "\n",
    "    geometry = [\n",
    "        mp.Block(\n",
    "            center=mp.Vector3(),\n",
    "            size=mp.Vector3(mp.inf, 1, mp.inf),\n",
    "            e1=mp.Vector3(1).rotate(mp.Vector3(z=1), rot_angle),\n",
    "            e2=mp.Vector3(y=1).rotate(mp.Vector3(z=1), rot_angle),\n",
    "            material=mp.Medium(epsilon=12),\n",
    "        )\n",
    "    ]\n",
    "\n",
    "    sources = [\n",
    "        mp.EigenModeSource(\n",
    "            src=mp.GaussianSource(fsrc, fwidth=0.2 * fsrc),\n",
    "            center=mp.Vector3(),\n",
    "            size=mp.Vector3(y=14),\n",
    "            direction=mp.NO_DIRECTION,\n",
    "            eig_kpoint=kpoint,\n",
    "            eig_band=bnum,\n",
    "            eig_parity=mp.ODD_Z,\n",
    "            eig_match_freq=True,\n",
    "        )\n",
    "    ]\n",
    "\n",
    "    sim = mp.Simulation(\n",
    "        cell_size=cell_size,\n",
    "        resolution=resolution,\n",
    "        boundary_layers=pml_layers,\n",
    "        sources=sources,\n",
    "        geometry=geometry,\n",
    "    )\n",
    "\n",
    "    tran = sim.add_flux(\n",
    "        fsrc, 0, 1, mp.FluxRegion(center=mp.Vector3(x=5), size=mp.Vector3(y=14))\n",
    "    )\n",
    "    sim.run(until_after_sources=50)\n",
    "    res = sim.get_eigenmode_coefficients(\n",
    "        tran,\n",
    "        [1],\n",
    "        eig_parity=mp.EVEN_Y + mp.ODD_Z if rot_angle == 0 else mp.ODD_Z,\n",
    "        direction=mp.NO_DIRECTION,\n",
    "        kpoint_func=lambda f, n: kpoint,\n",
    "    )\n",
    "    print(\n",
    "        \"flux:, {:.6f}, {:.6f}\".format(\n",
    "            mp.get_fluxes(tran)[0], abs(res.alpha[0, 0, 0]) ** 2\n",
    "        )\n",
    "    )\n",
    "\n",
    "    sim.plot2D(fields=mp.Ez)\n",
    "    plt.show()"
   ]
  },
  {
   "cell_type": "markdown",
   "metadata": {},
   "source": [
    "The flux values and measured power from `get_eigenmode_coefficients` are all close to each other well, within the discretization error. \n",
    "\n",
    "Note that the Poynting flux could have been normalized to unity by setting the EigenModeSource/Source object parameter amplitude=1/src.fourier_transform(fsrc) where fsrc=0.15 and src=mp.GaussianSource(fsrc,fwidth=0.2*fsrc)."
   ]
  }
 ],
 "metadata": {
  "kernelspec": {
   "display_name": "Python 3",
   "language": "python",
   "name": "python3"
  },
  "language_info": {
   "codemirror_mode": {
    "name": "ipython",
    "version": 3
   },
   "file_extension": ".py",
   "mimetype": "text/x-python",
   "name": "python",
   "nbconvert_exporter": "python",
   "pygments_lexer": "ipython3",
   "version": "3.6.8"
  },
  "toc": {
   "base_numbering": 1,
   "nav_menu": {},
   "number_sections": true,
   "sideBar": true,
   "skip_h1_title": false,
   "title_cell": "Table of Contents",
   "title_sidebar": "Contents",
   "toc_cell": false,
   "toc_position": {},
   "toc_section_display": true,
   "toc_window_display": false
  }
 },
 "nbformat": 4,
 "nbformat_minor": 2
}

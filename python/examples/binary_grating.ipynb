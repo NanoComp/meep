{
 "cells": [
  {
   "cell_type": "markdown",
   "metadata": {},
   "source": [
    "# Diffraction Spectrum of a Binary Grating"
   ]
  },
  {
   "cell_type": "markdown",
   "metadata": {},
   "source": [
    "The mode-decomposition feature can also be applied to planewaves in homogeneous media with scalar permittivity/permeability (i.e., no anisotropy). This will be demonstrated in this example to compute the diffraction spectrum of a binary phase grating. To compute the diffraction spectrum for a finite-length structure, see Tutorials/Near to Far Field Spectra/Diffraction Spectrum of a Finite Binary Grating. \n",
    "\n",
    "The unit cell geometry of the grating is shown in the schematic below. The grating is periodic in the `y` direction with periodicity `gp` and has a rectangular profile of height `gh` and duty cycle `gdc`. The grating parameters are `gh=0.5` μm, `gdc=0.5`, and `gp=10 μm`. There is a semi-infinite substrate of thickness `dsub` adjacent to the grating. The substrate and grating are glass with a refractive index of 1.5. The surrounding is air/vacuum. Perfectly matched layers (PML) of thickness `dpml` are used in the $\\pm x$ boundaries."
   ]
  },
  {
   "cell_type": "markdown",
   "metadata": {},
   "source": [
    "![geometry](https://meep.readthedocs.io/en/latest/images/grating.png)"
   ]
  },
  {
   "cell_type": "markdown",
   "metadata": {},
   "source": [
    "## Transmittance Spectra for Planewave at Normal Incidence\n",
    "\n",
    "A pulsed planewave with $E_z$ polarization spanning wavelengths of 0.4 to 0.6 μm is normally incident on the grating from the glass substrate. The eigenmode monitor is placed in the air region. We will use mode decomposition to compute the transmittance — the ratio of the power in the +x direction of the diffracted mode relative to that of the incident planewave — for the first ten diffraction orders. \n",
    "\n",
    "Two simulations are required: (1) an empty cell of homogeneous glass to obtain the incident power of the source, and (2) the grating structure to obtain the diffraction orders. At the end of the simulation, the wavelength, angle, and transmittance for each diffraction order are computed.\n",
    "\n",
    "First, we'll import our standard libraries, along with the `fused_quartz` material from MEEP's material library."
   ]
  },
  {
   "cell_type": "code",
   "execution_count": 1,
   "metadata": {},
   "outputs": [
    {
     "name": "stdout",
     "output_type": "stream",
     "text": [
      "Using MPI version 3.1, 1 processes\n"
     ]
    }
   ],
   "source": [
    "# -*- coding: utf-8 -*-\n",
    "\n",
    "import meep as mp\n",
    "from meep.materials import fused_quartz\n",
    "import math\n",
    "import numpy as np\n",
    "import matplotlib.pyplot as plt"
   ]
  },
  {
   "cell_type": "markdown",
   "metadata": {},
   "source": [
    "We first need to simulate the empty, homogenous glass (fuzed quartz)."
   ]
  },
  {
   "cell_type": "code",
   "execution_count": 2,
   "metadata": {},
   "outputs": [
    {
     "name": "stdout",
     "output_type": "stream",
     "text": [
      "-----------\n",
      "Initializing structure...\n"
     ]
    },
    {
     "data": {
      "image/png": "[encoded data removed]",
      "text/plain": [
       "<Figure size 720x480 with 1 Axes>"
      ]
     },
     "metadata": {
      "needs_background": "light"
     },
     "output_type": "display_data"
    }
   ],
   "source": [
    "resolution = 50        # pixels/μm\n",
    "\n",
    "dpml = 1.0             # PML thickness\n",
    "dsub = 3.0             # substrate thickness\n",
    "dpad = 3.0             # padding between grating and PML\n",
    "gp = 10.0              # grating period\n",
    "gh = 0.5               # grating height\n",
    "gdc = 0.5              # grating duty cycle\n",
    "\n",
    "sx = dpml+dsub+gh+dpad+dpml\n",
    "sy = gp\n",
    "\n",
    "cell_size = mp.Vector3(sx,sy,0)\n",
    "pml_layers = [mp.PML(thickness=dpml,direction=mp.X)]\n",
    "\n",
    "wvl_min = 0.4           # min wavelength\n",
    "wvl_max = 0.6           # max wavelength\n",
    "fmin = 1/wvl_max        # min frequency\n",
    "fmax = 1/wvl_min        # max frequency\n",
    "fcen = 0.5*(fmin+fmax)  # center frequency\n",
    "df = fmax-fmin          # frequency width\n",
    "\n",
    "src_pt = mp.Vector3(-0.5*sx+dpml+0.5*dsub)\n",
    "sources = [mp.Source(mp.GaussianSource(fcen, fwidth=df), component=mp.Ez, center=src_pt, size=mp.Vector3(y=sy))]\n",
    "\n",
    "k_point = mp.Vector3(0,0,0)\n",
    "\n",
    "symmetries=[mp.Mirror(mp.Y)]\n",
    "\n",
    "sim = mp.Simulation(resolution=resolution,\n",
    "                    cell_size=cell_size,\n",
    "                    boundary_layers=pml_layers,\n",
    "                    k_point=k_point,\n",
    "                    default_material=fused_quartz,\n",
    "                    sources=sources,\n",
    "                    symmetries=symmetries)\n",
    "\n",
    "nfreq = 21\n",
    "mon_pt = mp.Vector3(0.5*sx-dpml-0.5*dpad)\n",
    "flux_mon = sim.add_flux(fcen, df, nfreq, mp.FluxRegion(center=mon_pt, size=mp.Vector3(y=sy)))\n",
    "\n",
    "f = plt.figure(dpi=120)\n",
    "sim.plot2D(ax=f.gca())\n",
    "plt.show()"
   ]
  },
  {
   "cell_type": "markdown",
   "metadata": {},
   "source": [
    "Now, we'll run the simulation and record the fields."
   ]
  },
  {
   "cell_type": "code",
   "execution_count": 3,
   "metadata": {},
   "outputs": [
    {
     "name": "stdout",
     "output_type": "stream",
     "text": [
      "field decay(t = 50.01): 0.11139427530016409 / 0.11139427530016409 = 1.0\n",
      "field decay(t = 100.01): 1.824305440068526e-15 / 0.11139427530016409 = 1.637701250941967e-14\n",
      "run 0 finished at t = 100.01 (10001 timesteps)\n"
     ]
    }
   ],
   "source": [
    "sim.run(until_after_sources=mp.stop_when_fields_decayed(50, mp.Ez, mon_pt, 1e-9))"
   ]
  },
  {
   "cell_type": "markdown",
   "metadata": {},
   "source": [
    "Next, we'll simulate the actual grating."
   ]
  },
  {
   "cell_type": "code",
   "execution_count": 4,
   "metadata": {},
   "outputs": [
    {
     "name": "stdout",
     "output_type": "stream",
     "text": [
      "-----------\n",
      "Initializing structure...\n",
      "     block, center = (-2.25,0,0)\n",
      "          size (4,1e+20,1e+20)\n",
      "          axes (1,0,0), (0,1,0), (0,0,1)\n",
      "     block, center = (0,0,0)\n",
      "          size (0.5,5,1e+20)\n",
      "          axes (1,0,0), (0,1,0), (0,0,1)\n"
     ]
    },
    {
     "data": {
      "image/png": "[encoded data removed]",
      "text/plain": [
       "<Figure size 720x480 with 1 Axes>"
      ]
     },
     "metadata": {
      "needs_background": "light"
     },
     "output_type": "display_data"
    }
   ],
   "source": [
    "input_flux = mp.get_fluxes(flux_mon)\n",
    "\n",
    "sim.reset_meep()\n",
    "\n",
    "geometry = [mp.Block(material=fused_quartz, size=mp.Vector3(dpml+dsub,mp.inf,mp.inf), center=mp.Vector3(-0.5*sx+0.5*(dpml+dsub))),\n",
    "            mp.Block(material=fused_quartz, size=mp.Vector3(gh,gdc*gp,mp.inf), center=mp.Vector3(-0.5*sx+dpml+dsub+0.5*gh))]\n",
    "\n",
    "sim = mp.Simulation(resolution=resolution,\n",
    "                    cell_size=cell_size,\n",
    "                    boundary_layers=pml_layers,\n",
    "                    geometry=geometry,\n",
    "                    k_point=k_point,\n",
    "                    sources=sources,\n",
    "                    symmetries=symmetries)\n",
    "\n",
    "mode_mon = sim.add_flux(fcen, df, nfreq, mp.FluxRegion(center=mon_pt, size=mp.Vector3(y=sy)))\n",
    "\n",
    "f2 = plt.figure(dpi=120)\n",
    "sim.plot2D(ax=f2.gca())\n",
    "plt.show()"
   ]
  },
  {
   "cell_type": "code",
   "execution_count": 5,
   "metadata": {},
   "outputs": [
    {
     "name": "stdout",
     "output_type": "stream",
     "text": [
      "field decay(t = 50.01): 0.1082498119209954 / 0.1082498119209954 = 1.0\n",
      "field decay(t = 100.01): 7.512926070352665e-06 / 0.1082498119209954 = 6.940359467632024e-05\n",
      "field decay(t = 150.02): 6.732414916367269e-06 / 0.1082498119209954 = 6.219331744687766e-05\n",
      "field decay(t = 200.03): 2.3712635292765586e-06 / 0.1082498119209954 = 2.1905474819736332e-05\n",
      "field decay(t = 250.04): 9.494875348809632e-07 / 0.1082498119209954 = 8.771262675023706e-06\n",
      "field decay(t = 300.04): 3.8220269083178343e-07 / 0.1082498119209954 = 3.530746927400933e-06\n",
      "field decay(t = 350.05): 1.5689447663324306e-07 / 0.1082498119209954 = 1.4493741268368232e-06\n",
      "field decay(t = 400.06): 6.492618040375044e-08 / 0.1082498119209954 = 5.997809996301509e-07\n",
      "field decay(t = 450.07): 2.9338161615346314e-08 / 0.1082498119209954 = 2.710227490903943e-07\n",
      "field decay(t = 500.08): 1.115652431764312e-08 / 0.1082498119209954 = 1.0306275936798441e-07\n",
      "field decay(t = 550.08): 4.421515879496221e-09 / 0.1082498119209954 = 4.084548324872104e-08\n",
      "field decay(t = 600.09): 1.6989786783603636e-09 / 0.1082498119209954 = 1.5694980418075362e-08\n",
      "field decay(t = 650.1): 8.779199940057175e-10 / 0.1082498119209954 = 8.110129509014344e-09\n",
      "field decay(t = 700.11): 2.64630974046326e-10 / 0.1082498119209954 = 2.444632183189964e-09\n",
      "field decay(t = 750.12): 1.5056115102443512e-10 / 0.1082498119209954 = 1.39086755304776e-09\n",
      "field decay(t = 800.13): 6.39132960275918e-11 / 0.1082498119209954 = 5.904240838241642e-10\n",
      "run 0 finished at t = 800.13 (80013 timesteps)\n"
     ]
    }
   ],
   "source": [
    "sim.run(until_after_sources=mp.stop_when_fields_decayed(50, mp.Ez, mon_pt, 1e-9))"
   ]
  },
  {
   "cell_type": "code",
   "execution_count": 6,
   "metadata": {},
   "outputs": [
    {
     "name": "stdout",
     "output_type": "stream",
     "text": [
      "grating0:, 0.60000, 0.00, 0.12884455\n",
      "grating0:, 0.58537, 0.00, 0.10877453\n",
      "grating0:, 0.57143, 0.00, 0.09019427\n",
      "grating0:, 0.55814, 0.00, 0.07312453\n",
      "grating0:, 0.54545, 0.00, 0.05778349\n",
      "grating0:, 0.53333, 0.00, 0.04394176\n",
      "grating0:, 0.52174, 0.00, 0.03203070\n",
      "grating0:, 0.51064, 0.00, 0.02188719\n",
      "grating0:, 0.50000, 0.00, 0.01363406\n",
      "grating0:, 0.48980, 0.00, 0.00741318\n",
      "grating0:, 0.48000, 0.00, 0.00318863\n",
      "grating0:, 0.47059, 0.00, 0.00103727\n",
      "grating0:, 0.46154, 0.00, 0.00101454\n",
      "grating0:, 0.45283, 0.00, 0.00313542\n",
      "grating0:, 0.44444, 0.00, 0.00745115\n",
      "grating0:, 0.43636, 0.00, 0.01396620\n",
      "grating0:, 0.42857, 0.00, 0.02252241\n",
      "grating0:, 0.42105, 0.00, 0.03341204\n",
      "grating0:, 0.41379, 0.00, 0.04635643\n",
      "grating0:, 0.40678, 0.00, 0.06143255\n",
      "grating0:, 0.40000, 0.00, 0.07872147\n",
      "grating1:, 0.60000, 3.44, 0.34156387\n",
      "grating1:, 0.58537, 3.36, 0.34944613\n",
      "grating1:, 0.57143, 3.28, 0.35680089\n",
      "grating1:, 0.55814, 3.20, 0.36346042\n",
      "grating1:, 0.54545, 3.13, 0.36942481\n",
      "grating1:, 0.53333, 3.06, 0.37469297\n",
      "grating1:, 0.52174, 2.99, 0.37921459\n",
      "grating1:, 0.51064, 2.93, 0.38293085\n",
      "grating1:, 0.50000, 2.87, 0.38587902\n",
      "grating1:, 0.48980, 2.81, 0.38798872\n",
      "grating1:, 0.48000, 2.75, 0.38921779\n",
      "grating1:, 0.47059, 2.70, 0.38962522\n",
      "grating1:, 0.46154, 2.65, 0.38915071\n",
      "grating1:, 0.45283, 2.60, 0.38774251\n",
      "grating1:, 0.44444, 2.55, 0.38545472\n",
      "grating1:, 0.43636, 2.50, 0.38227119\n",
      "grating1:, 0.42857, 2.46, 0.37815922\n",
      "grating1:, 0.42105, 2.41, 0.37313255\n",
      "grating1:, 0.41379, 2.37, 0.36725057\n",
      "grating1:, 0.40678, 2.33, 0.36045351\n",
      "grating1:, 0.40000, 2.29, 0.35278267\n",
      "grating2:, 0.60000, 6.89, 0.00060165\n",
      "grating2:, 0.58537, 6.72, 0.00063926\n",
      "grating2:, 0.57143, 6.56, 0.00067111\n",
      "grating2:, 0.55814, 6.41, 0.00070492\n",
      "grating2:, 0.54545, 6.26, 0.00075251\n",
      "grating2:, 0.53333, 6.12, 0.00078270\n",
      "grating2:, 0.52174, 5.99, 0.00081829\n",
      "grating2:, 0.51064, 5.86, 0.00086701\n",
      "grating2:, 0.50000, 5.74, 0.00089301\n",
      "grating2:, 0.48980, 5.62, 0.00093682\n",
      "grating2:, 0.48000, 5.51, 0.00097960\n",
      "grating2:, 0.47059, 5.40, 0.00100195\n",
      "grating2:, 0.46154, 5.30, 0.00103900\n",
      "grating2:, 0.45283, 5.20, 0.00108483\n",
      "grating2:, 0.44444, 5.10, 0.00111937\n",
      "grating2:, 0.43636, 5.01, 0.00113271\n",
      "grating2:, 0.42857, 4.92, 0.00118188\n",
      "grating2:, 0.42105, 4.83, 0.00121476\n",
      "grating2:, 0.41379, 4.75, 0.00123868\n",
      "grating2:, 0.40678, 4.67, 0.00127956\n",
      "grating2:, 0.40000, 4.59, 0.00130116\n",
      "grating3:, 0.60000, 10.37, 0.03778326\n",
      "grating3:, 0.58537, 10.11, 0.03859258\n",
      "grating3:, 0.57143, 9.87, 0.03942088\n",
      "grating3:, 0.55814, 9.64, 0.04012895\n",
      "grating3:, 0.54545, 9.42, 0.04074844\n",
      "grating3:, 0.53333, 9.21, 0.04131042\n",
      "grating3:, 0.52174, 9.01, 0.04179088\n",
      "grating3:, 0.51064, 8.81, 0.04215646\n",
      "grating3:, 0.50000, 8.63, 0.04247568\n",
      "grating3:, 0.48980, 8.45, 0.04268933\n",
      "grating3:, 0.48000, 8.28, 0.04278248\n",
      "grating3:, 0.47059, 8.12, 0.04282523\n",
      "grating3:, 0.46154, 7.96, 0.04277566\n",
      "grating3:, 0.45283, 7.81, 0.04258704\n",
      "grating3:, 0.44444, 7.66, 0.04232569\n",
      "grating3:, 0.43636, 7.52, 0.04197688\n",
      "grating3:, 0.42857, 7.39, 0.04150865\n",
      "grating3:, 0.42105, 7.26, 0.04093166\n",
      "grating3:, 0.41379, 7.13, 0.04029251\n",
      "grating3:, 0.40678, 7.01, 0.03952707\n",
      "grating3:, 0.40000, 6.89, 0.03865716\n",
      "grating4:, 0.60000, 13.89, 0.00061845\n",
      "grating4:, 0.58537, 13.54, 0.00065654\n",
      "grating4:, 0.57143, 13.21, 0.00068831\n",
      "grating4:, 0.55814, 12.90, 0.00071970\n",
      "grating4:, 0.54545, 12.60, 0.00076721\n",
      "grating4:, 0.53333, 12.32, 0.00079643\n",
      "grating4:, 0.52174, 12.05, 0.00083103\n",
      "grating4:, 0.51064, 11.79, 0.00088004\n",
      "grating4:, 0.50000, 11.54, 0.00090551\n",
      "grating4:, 0.48980, 11.30, 0.00094845\n",
      "grating4:, 0.48000, 11.07, 0.00099106\n",
      "grating4:, 0.47059, 10.85, 0.00101440\n",
      "grating4:, 0.46154, 10.64, 0.00105076\n",
      "grating4:, 0.45283, 10.44, 0.00109609\n",
      "grating4:, 0.44444, 10.24, 0.00113118\n",
      "grating4:, 0.43636, 10.05, 0.00114358\n",
      "grating4:, 0.42857, 9.87, 0.00119209\n",
      "grating4:, 0.42105, 9.70, 0.00122465\n",
      "grating4:, 0.41379, 9.53, 0.00124821\n",
      "grating4:, 0.40678, 9.36, 0.00128798\n",
      "grating4:, 0.40000, 9.21, 0.00130878\n",
      "grating5:, 0.60000, 17.46, 0.01343974\n",
      "grating5:, 0.58537, 17.02, 0.01368150\n",
      "grating5:, 0.57143, 16.60, 0.01399264\n",
      "grating5:, 0.55814, 16.20, 0.01422852\n",
      "grating5:, 0.54545, 15.83, 0.01442234\n",
      "grating5:, 0.53333, 15.47, 0.01461010\n",
      "grating5:, 0.52174, 15.12, 0.01477063\n",
      "grating5:, 0.51064, 14.79, 0.01486755\n",
      "grating5:, 0.50000, 14.48, 0.01497820\n",
      "grating5:, 0.48980, 14.18, 0.01504258\n",
      "grating5:, 0.48000, 13.89, 0.01504400\n",
      "grating5:, 0.47059, 13.61, 0.01505723\n",
      "grating5:, 0.46154, 13.34, 0.01504421\n",
      "grating5:, 0.45283, 13.09, 0.01495468\n",
      "grating5:, 0.44444, 12.84, 0.01485445\n",
      "grating5:, 0.43636, 12.60, 0.01473364\n",
      "grating5:, 0.42857, 12.37, 0.01456012\n",
      "grating5:, 0.42105, 12.15, 0.01434018\n",
      "grating5:, 0.41379, 11.94, 0.01412183\n",
      "grating5:, 0.40678, 11.74, 0.01384159\n",
      "grating5:, 0.40000, 11.54, 0.01351756\n",
      "grating6:, 0.60000, 21.10, 0.00064734\n",
      "grating6:, 0.58537, 20.56, 0.00068587\n",
      "grating6:, 0.57143, 20.05, 0.00071786\n",
      "grating6:, 0.55814, 19.57, 0.00074436\n",
      "grating6:, 0.54545, 19.10, 0.00079178\n",
      "grating6:, 0.53333, 18.66, 0.00081937\n",
      "grating6:, 0.52174, 18.24, 0.00085160\n",
      "grating6:, 0.51064, 17.84, 0.00090064\n",
      "grating6:, 0.50000, 17.46, 0.00092589\n",
      "grating6:, 0.48980, 17.09, 0.00096662\n",
      "grating6:, 0.48000, 16.74, 0.00100832\n",
      "grating6:, 0.47059, 16.40, 0.00103371\n",
      "grating6:, 0.46154, 16.08, 0.00106905\n",
      "grating6:, 0.45283, 15.77, 0.00111300\n",
      "grating6:, 0.44444, 15.47, 0.00114934\n",
      "grating6:, 0.43636, 15.18, 0.00116022\n",
      "grating6:, 0.42857, 14.90, 0.00120761\n",
      "grating6:, 0.42105, 14.63, 0.00123951\n",
      "grating6:, 0.41379, 14.38, 0.00126300\n",
      "grating6:, 0.40678, 14.13, 0.00130068\n",
      "grating6:, 0.40000, 13.89, 0.00131970\n",
      "grating7:, 0.60000, 24.83, 0.00667501\n",
      "grating7:, 0.58537, 24.19, 0.00675842\n",
      "grating7:, 0.57143, 23.58, 0.00693378\n",
      "grating7:, 0.55814, 23.00, 0.00704600\n",
      "grating7:, 0.54545, 22.45, 0.00712578\n",
      "grating7:, 0.53333, 21.92, 0.00721375\n",
      "grating7:, 0.52174, 21.42, 0.00729197\n",
      "grating7:, 0.51064, 20.94, 0.00731446\n",
      "grating7:, 0.50000, 20.49, 0.00737075\n",
      "grating7:, 0.48980, 20.05, 0.00739756\n",
      "grating7:, 0.48000, 19.63, 0.00737302\n",
      "grating7:, 0.47059, 19.23, 0.00737750\n",
      "grating7:, 0.46154, 18.85, 0.00737796\n",
      "grating7:, 0.45283, 18.48, 0.00731808\n",
      "grating7:, 0.44444, 18.13, 0.00726095\n",
      "grating7:, 0.43636, 17.79, 0.00720401\n",
      "grating7:, 0.42857, 17.46, 0.00711631\n",
      "grating7:, 0.42105, 17.14, 0.00699564\n",
      "grating7:, 0.41379, 16.84, 0.00689523\n",
      "grating7:, 0.40678, 16.54, 0.00675169\n",
      "grating7:, 0.40000, 16.26, 0.00658026\n",
      "grating8:, 0.60000, 28.69, 0.00068832\n",
      "grating8:, 0.58537, 27.92, 0.00072766\n",
      "grating8:, 0.57143, 27.20, 0.00076099\n",
      "grating8:, 0.55814, 26.52, 0.00077899\n",
      "grating8:, 0.54545, 25.87, 0.00082616\n",
      "grating8:, 0.53333, 25.26, 0.00085115\n",
      "grating8:, 0.52174, 24.67, 0.00087912\n",
      "grating8:, 0.51064, 24.11, 0.00092748\n",
      "grating8:, 0.50000, 23.58, 0.00095268\n",
      "grating8:, 0.48980, 23.07, 0.00098912\n",
      "grating8:, 0.48000, 22.58, 0.00102872\n",
      "grating8:, 0.47059, 22.12, 0.00105772\n",
      "grating8:, 0.46154, 21.67, 0.00109142\n",
      "grating8:, 0.45283, 21.24, 0.00113269\n",
      "grating8:, 0.44444, 20.83, 0.00117105\n",
      "grating8:, 0.43636, 20.43, 0.00118006\n",
      "grating8:, 0.42857, 20.05, 0.00122584\n",
      "grating8:, 0.42105, 19.68, 0.00125676\n",
      "grating8:, 0.41379, 19.33, 0.00128083\n",
      "grating8:, 0.40678, 18.99, 0.00131512\n",
      "grating8:, 0.40000, 18.66, 0.00133206\n",
      "grating9:, 0.60000, 32.68, 0.00381720\n",
      "grating9:, 0.58537, 31.79, 0.00383343\n",
      "grating9:, 0.57143, 30.95, 0.00396032\n",
      "grating9:, 0.55814, 30.15, 0.00403152\n",
      "grating9:, 0.54545, 29.40, 0.00406905\n",
      "grating9:, 0.53333, 28.69, 0.00412086\n",
      "grating9:, 0.52174, 28.01, 0.00417458\n",
      "grating9:, 0.51064, 27.36, 0.00416693\n",
      "grating9:, 0.50000, 26.74, 0.00420448\n",
      "grating9:, 0.48980, 26.16, 0.00422216\n",
      "grating9:, 0.48000, 25.59, 0.00418744\n",
      "grating9:, 0.47059, 25.06, 0.00418665\n",
      "grating9:, 0.46154, 24.54, 0.00419713\n",
      "grating9:, 0.45283, 24.05, 0.00415325\n",
      "grating9:, 0.44444, 23.58, 0.00411170\n",
      "grating9:, 0.43636, 23.12, 0.00408157\n",
      "grating9:, 0.42857, 22.69, 0.00403487\n",
      "grating9:, 0.42105, 22.27, 0.00395612\n",
      "grating9:, 0.41379, 21.86, 0.00390576\n",
      "grating9:, 0.40678, 21.48, 0.00382198\n",
      "grating9:, 0.40000, 21.10, 0.00371561\n"
     ]
    }
   ],
   "source": [
    "freqs = mp.get_eigenmode_freqs(mode_mon)\n",
    "\n",
    "nmode = 10\n",
    "res = sim.get_eigenmode_coefficients(mode_mon, range(1,nmode+1), eig_parity=mp.ODD_Z+mp.EVEN_Y)\n",
    "coeffs = res.alpha\n",
    "kdom = res.kdom\n",
    "\n",
    "mode_wvl = []\n",
    "mode_angle = []\n",
    "mode_tran = []\n",
    "\n",
    "for nm in range(nmode):\n",
    "  for nf in range(nfreq):\n",
    "    mode_wvl.append(1/freqs[nf])\n",
    "    mode_angle.append(math.degrees(math.acos(kdom[nm*nfreq+nf].x/freqs[nf])))\n",
    "    tran = abs(coeffs[nm,nf,0])**2/input_flux[nf]\n",
    "    mode_tran.append(0.5*tran if nm != 0 else tran)\n",
    "    print(\"grating{}:, {:.5f}, {:.2f}, {:.8f}\".format(nm,mode_wvl[-1],mode_angle[-1],mode_tran[-1]))\n",
    "\n",
    "tran_max = round(max(mode_tran),1)"
   ]
  },
  {
   "cell_type": "code",
   "execution_count": 7,
   "metadata": {},
   "outputs": [
    {
     "data": {
      "image/png": "[encoded data removed]",
      "text/plain": [
       "<Figure size 1200x800 with 2 Axes>"
      ]
     },
     "metadata": {
      "needs_background": "light"
     },
     "output_type": "display_data"
    }
   ],
   "source": [
    "plt.figure(dpi=200)\n",
    "plt.pcolormesh(np.reshape(mode_wvl,(nmode,nfreq)),\n",
    "               np.reshape(mode_angle,(nmode,nfreq)),\n",
    "               np.reshape(mode_tran,(nmode,nfreq)),\n",
    "               cmap='Blues',\n",
    "               shading='flat',\n",
    "               vmin=0,\n",
    "               vmax=tran_max)\n",
    "plt.axis([min(mode_wvl), max(mode_wvl), min(mode_angle), max(mode_angle)])\n",
    "plt.xlabel(\"wavelength (μm)\")\n",
    "plt.ylabel(\"diffraction angle (degrees)\")\n",
    "plt.xticks([t for t in np.linspace(wvl_min,wvl_max,3)])\n",
    "plt.yticks([t for t in range(0,35,5)])\n",
    "plt.title(\"transmittance of diffraction orders\")\n",
    "cbar = plt.colorbar()\n",
    "cbar.set_ticks([t for t in np.arange(0,tran_max+0.1,0.1)])\n",
    "cbar.set_ticklabels([\"{:.1f}\".format(t) for t in np.arange(0,tran_max+0.1,0.1)])"
   ]
  },
  {
   "cell_type": "code",
   "execution_count": null,
   "metadata": {},
   "outputs": [],
   "source": []
  }
 ],
 "metadata": {
  "kernelspec": {
   "display_name": "Python 3",
   "language": "python",
   "name": "python3"
  },
  "language_info": {
   "codemirror_mode": {
    "name": "ipython",
    "version": 3
   },
   "file_extension": ".py",
   "mimetype": "text/x-python",
   "name": "python",
   "nbconvert_exporter": "python",
   "pygments_lexer": "ipython3",
   "version": "3.6.8"
  },
  "toc": {
   "base_numbering": 1,
   "nav_menu": {},
   "number_sections": true,
   "sideBar": true,
   "skip_h1_title": false,
   "title_cell": "Table of Contents",
   "title_sidebar": "Contents",
   "toc_cell": false,
   "toc_position": {},
   "toc_section_display": true,
   "toc_window_display": false
  }
 },
 "nbformat": 4,
 "nbformat_minor": 2
}

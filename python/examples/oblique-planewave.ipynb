{
 "cells": [
  {
   "cell_type": "markdown",
   "metadata": {},
   "source": [
    "# Planewaves in Homogeneous Media"
   ]
  },
  {
   "cell_type": "markdown",
   "metadata": {},
   "source": [
    "The eigenmode source can also be used to launch [planewaves](https://en.wikipedia.org/wiki/Plane_wave) in homogeneous media. The dispersion relation for a planewave is ω=|$\\vec{k}$|/$n$ where ω is the angular frequency of the planewave and $\\vec{k}$ its wavevector; $n$ is the refractive index of the homogeneous medium. This example demonstrates launching planewaves in a uniform medium with $n$ of 1.5 at three rotation angles: 0°, 20°, and 40°. Bloch-periodic boundaries via the `k_point` are used and specified by the wavevector $\\vec{k}$. PML boundaries are used only along the x-direction."
   ]
  },
  {
   "cell_type": "markdown",
   "metadata": {},
   "source": [
    "First, we'll load our necesarry modules:"
   ]
  },
  {
   "cell_type": "code",
   "execution_count": null,
   "metadata": {},
   "outputs": [],
   "source": [
    "import meep as mp\n",
    "import numpy as np\n",
    "import matplotlib.pyplot as plt"
   ]
  },
  {
   "cell_type": "markdown",
   "metadata": {},
   "source": [
    "Next, we'll create a function we can call multiple times that runs the simulation for different rotation angles:"
   ]
  },
  {
   "cell_type": "code",
   "execution_count": null,
   "metadata": {},
   "outputs": [],
   "source": [
    "def run_sim(rot_angle=0):\n",
    "\n",
    "    resolution = 50  # pixels/μm\n",
    "\n",
    "    cell_size = mp.Vector3(14, 10, 0)\n",
    "\n",
    "    pml_layers = [mp.PML(thickness=2, direction=mp.X)]\n",
    "\n",
    "    fsrc = 1.0  # frequency of planewave (wavelength = 1/fsrc)\n",
    "\n",
    "    n = 1.5  # refractive index of homogeneous material\n",
    "    default_material = mp.Medium(index=n)\n",
    "\n",
    "    k_point = mp.Vector3(fsrc * n).rotate(mp.Vector3(z=1), rot_angle)\n",
    "\n",
    "    sources = [\n",
    "        mp.EigenModeSource(\n",
    "            src=mp.ContinuousSource(fsrc),\n",
    "            center=mp.Vector3(),\n",
    "            size=mp.Vector3(y=10),\n",
    "            direction=mp.AUTOMATIC if rot_angle == 0 else mp.NO_DIRECTION,\n",
    "            eig_kpoint=k_point,\n",
    "            eig_band=1,\n",
    "            eig_parity=mp.EVEN_Y + mp.ODD_Z if rot_angle == 0 else mp.ODD_Z,\n",
    "            eig_match_freq=True,\n",
    "        )\n",
    "    ]\n",
    "\n",
    "    sim = mp.Simulation(\n",
    "        cell_size=cell_size,\n",
    "        resolution=resolution,\n",
    "        boundary_layers=pml_layers,\n",
    "        sources=sources,\n",
    "        k_point=k_point,\n",
    "        default_material=default_material,\n",
    "        symmetries=[mp.Mirror(mp.Y)] if rot_angle == 0 else [],\n",
    "    )\n",
    "\n",
    "    sim.run(until=100)\n",
    "\n",
    "    plt.figure(dpi=100)\n",
    "    sim.plot2D(fields=mp.Ez)\n",
    "    plt.show()"
   ]
  },
  {
   "cell_type": "markdown",
   "metadata": {},
   "source": [
    "Next we'll iterate over three rotation angles and plot their steady-state fields profiles. Residues of the backward-propagating waves due to the discretization are slightly visible."
   ]
  },
  {
   "cell_type": "code",
   "execution_count": null,
   "metadata": {},
   "outputs": [],
   "source": [
    "for rot_angle in np.radians([0, 20, 40]):\n",
    "    run_sim(rot_angle)"
   ]
  },
  {
   "cell_type": "markdown",
   "metadata": {},
   "source": [
    "Note that this example involves a `ContinuousSource` for the time profile. For a pulsed source, the oblique planewave is incident at a given angle for only a *single* frequency component of the source. This is a fundamental feature of FDTD simulations and not of Meep per se. Thus, to simulate an incident planewave at multiple angles for a given frequency ω, you will need to do separate simulations involving different values of $\\vec{k}$ (`k_point`) since each set of ($\\vec{k}$,ω) specifying the Bloch-periodic boundaries and the frequency of the source will produce a different angle of the planewave. For more details, refer to Section 4.5 (\"Efficient Frequency-Angle Coverage\") in [Chapter 4](https://arxiv.org/abs/1301.5366) (\"Electromagnetic Wave Source Conditions\") of [Advances in FDTD Computational Electrodynamics: Photonics and Nanotechnology](https://www.amazon.com/Advances-FDTD-Computational-Electrodynamics-Nanotechnology/dp/1608071707)."
   ]
  }
 ],
 "metadata": {
  "kernelspec": {
   "display_name": "Python 3",
   "language": "python",
   "name": "python3"
  },
  "language_info": {
   "codemirror_mode": {
    "name": "ipython",
    "version": 3
   },
   "file_extension": ".py",
   "mimetype": "text/x-python",
   "name": "python",
   "nbconvert_exporter": "python",
   "pygments_lexer": "ipython3",
   "version": "3.6.8"
  },
  "toc": {
   "base_numbering": 1,
   "nav_menu": {},
   "number_sections": true,
   "sideBar": true,
   "skip_h1_title": false,
   "title_cell": "Table of Contents",
   "title_sidebar": "Contents",
   "toc_cell": false,
   "toc_position": {},
   "toc_section_display": true,
   "toc_window_display": false
  }
 },
 "nbformat": 4,
 "nbformat_minor": 2
}

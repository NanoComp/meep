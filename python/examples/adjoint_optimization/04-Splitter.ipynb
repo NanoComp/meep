{
 "cells": [
  {
   "cell_type": "markdown",
   "metadata": {},
   "source": [
    "# Broadband Simulations with a Waveguide Splitter\n",
    "\n",
    "One important advantage behind FDTD simulations (compared with frequency domain simulations) is the ability to simulate a broad band of frequencies with a single run. The same holds true with the adjoint solver. In this tutorial, we'll demonstrate how we can optimize over objective functions with multiple objective quantities *and* multiple frequencies. \n",
    "\n",
    "We can specify the desired frequency profile in the objective function itself (like with many curve-fitting algorithms), or we can instead opt to perform an epigraph formulation on the equivalent minimax functional, which requires gradients for each parameter at each frequency point of interest. We'll quickly see that the adjoint solver provides a seamless interface to all of these features."
   ]
  },
  {
   "cell_type": "code",
   "execution_count": 1,
   "metadata": {},
   "outputs": [
    {
     "name": "stdout",
     "output_type": "stream",
     "text": [
      "Using MPI version 3.1, 1 processes\n"
     ]
    }
   ],
   "source": [
    "import meep as mp\n",
    "import meep_adjoint as mpa\n",
    "import autograd.numpy as npa\n",
    "import numpy as np\n",
    "from matplotlib import pyplot as plt\n",
    "import nlopt\n",
    "mp.quiet(quietval=True)"
   ]
  },
  {
   "cell_type": "markdown",
   "metadata": {},
   "source": [
    "We'll begin by building a simple (and somewhat impractical) waveguide splitter that will require multiple objective quantities in the objective function definition."
   ]
  },
  {
   "cell_type": "code",
   "execution_count": 2,
   "metadata": {},
   "outputs": [],
   "source": [
    "resolution = 10\n",
    "\n",
    "Sx = 6\n",
    "Sy = 5\n",
    "cell_size = mp.Vector3(Sx,Sy)\n",
    "\n",
    "pml_layers = [mp.PML(1.0)]\n",
    "\n",
    "fcen = 1/1.55\n",
    "width = 0.2\n",
    "fwidth = width * fcen\n",
    "source_center  = [-1.5,0,0]\n",
    "source_size    = mp.Vector3(0,2,0)\n",
    "kpoint = mp.Vector3(1,0,0)\n",
    "src = mp.GaussianSource(frequency=fcen,fwidth=fwidth)\n",
    "source = [mp.EigenModeSource(src,\n",
    "                    eig_band = 1,\n",
    "                    direction=mp.NO_DIRECTION,\n",
    "                    eig_kpoint=kpoint,\n",
    "                    size = source_size,\n",
    "                    center=source_center)]\n",
    "\n",
    "seed = 24\n",
    "np.random.seed(seed)\n",
    "Nx = 10\n",
    "Ny = 10\n",
    "\n",
    "design_region = mp.Volume(center=mp.Vector3(), size=mp.Vector3(1, 1, 0))\n",
    "rho_vector = 11*np.random.rand(Nx*Ny) + 1\n",
    "basis = mpa.BilinearInterpolationBasis(volume=design_region,Nx=Nx,Ny=Ny,rho_vector=rho_vector)\n",
    "\n",
    "geometry = [\n",
    "    mp.Block(center=mp.Vector3(x=-Sx/4), material=mp.Medium(index=3.45), size=mp.Vector3(Sx/2, 0.5, 0)), # horizontal waveguide\n",
    "    mp.Block(center=mp.Vector3(), material=mp.Medium(index=3.45), size=mp.Vector3(0.5, mp.inf, 0)),  # vertical waveguide\n",
    "    mp.Block(center=design_region.center, size=design_region.size, epsilon_func=basis.func()) # design region\n",
    "]\n",
    "\n",
    "sim = mp.Simulation(cell_size=cell_size,\n",
    "                    boundary_layers=pml_layers,\n",
    "                    geometry=geometry,\n",
    "                    sources=source,\n",
    "                    resolution=resolution)"
   ]
  },
  {
   "cell_type": "markdown",
   "metadata": {},
   "source": [
    "We'll specify three eigenmode monitors: one to measure the total input power and one to measure the power in each arm. \n",
    "\n",
    "Notice that the bottom monitor has an extra parameter: `forward=False`. This is indicating the directionality of the eigenmode monitor. Since we want to track modes propogating down (rather than the default up) we must set this flag. It essentially reverses all of our forward and backward propogating coefficients and helps the adjoint solver determine which direction to inject the adjoint source."
   ]
  },
  {
   "cell_type": "code",
   "execution_count": 3,
   "metadata": {},
   "outputs": [],
   "source": [
    "mode = 1\n",
    "\n",
    "TE0 = mpa.EigenmodeCoefficient(sim,mp.Volume(center=mp.Vector3(x=-1),size=mp.Vector3(y=1.5)),mode)\n",
    "TE_top = mpa.EigenmodeCoefficient(sim,mp.Volume(center=mp.Vector3(0,1,0),size=mp.Vector3(x=1.5)),mode)\n",
    "TE_bottom = mpa.EigenmodeCoefficient(sim,mp.Volume(center=mp.Vector3(0,-1,0),size=mp.Vector3(x=1.5)),mode,forward=False)\n",
    "ob_list = [TE0,TE_top,TE_bottom]"
   ]
  },
  {
   "cell_type": "markdown",
   "metadata": {},
   "source": [
    "We want our splitter to demonstrate a uniform frequency response across our band of interest. We can enforce this constraint in our objective function. We'll calculate the mean squared error between the desired band (1) and the sum of our top and bottom waveguide transmission spectra for the fundamental mode. \n",
    "\n",
    "Our objective function can be as complicated as we want, so long as we use `autograd`'s version of numpy."
   ]
  },
  {
   "cell_type": "code",
   "execution_count": 4,
   "metadata": {},
   "outputs": [],
   "source": [
    "def J(source,top,bottom):\n",
    "    desired_profile = 0.5\n",
    "    top_mse = npa.mean(npa.abs(desired_profile - npa.abs(top/source) ** 2) ** 2)\n",
    "    bottom_mse = npa.mean(npa.abs(desired_profile - npa.abs(bottom/source) ** 2) ** 2)\n",
    "    return top_mse + bottom_mse"
   ]
  },
  {
   "cell_type": "markdown",
   "metadata": {},
   "source": [
    "As before, we will generate our adjoint solver object. This time, however, we'll be sure to include the number of frequency points we care about, as well as the bandwidth of our objective function (the same as our source in this case)."
   ]
  },
  {
   "cell_type": "code",
   "execution_count": 5,
   "metadata": {},
   "outputs": [],
   "source": [
    "nf = 100 # number of frequency points to simulate\n",
    "opt = mpa.OptimizationProblem(\n",
    "    simulation = sim,\n",
    "    objective_function = J,\n",
    "    objective_arguments = ob_list,\n",
    "    basis = [basis],\n",
    "    fcen = fcen,\n",
    "    df = fwidth,\n",
    "    nf = nf,\n",
    "    decay_fields=[mp.Ez]\n",
    ")"
   ]
  },
  {
   "cell_type": "markdown",
   "metadata": {},
   "source": [
    "If we visualize our results we should see all three monitors and the source term."
   ]
  },
  {
   "cell_type": "code",
   "execution_count": 6,
   "metadata": {},
   "outputs": [
    {
     "data": {
      "image/png": "[encoded data removed]",
      "text/plain": [
       "<Figure size 432x288 with 1 Axes>"
      ]
     },
     "metadata": {
      "needs_background": "light"
     },
     "output_type": "display_data"
    }
   ],
   "source": [
    "opt.plot2D(True)\n",
    "plt.show()"
   ]
  },
  {
   "cell_type": "markdown",
   "metadata": {},
   "source": [
    "Before we perform our optimization, let's examine the shape of our gradient after one iteration:"
   ]
  },
  {
   "cell_type": "code",
   "execution_count": 7,
   "metadata": {},
   "outputs": [
    {
     "name": "stdout",
     "output_type": "stream",
     "text": [
      "Starting forward run...\n",
      "Starting adjoint run...\n",
      "Calculating gradient...\n",
      "(12, 12, 1, 100)\n"
     ]
    }
   ],
   "source": [
    "f0, dJ_deps, dg = opt([rho_vector])\n",
    "print(dJ_deps[0].shape)"
   ]
  },
  {
   "cell_type": "markdown",
   "metadata": {},
   "source": [
    "We note that the gradient returns a numpy array with an extra dimension corresponding to the number of frequency points (Nx,Ny,Nz,Nf). In other words, the adjoint solver calculates the gradient at every spatial point *and* every frequency point. This is especially useful for minimax formulations, as we'll see later.\n",
    "\n",
    "For now, we need to figure out what to do with all these gradients! This may seem like extra work at first, but in fact offers tremendous flexibility. For example, since we have access to these gradients, we can optimize of dispersive materials too!\n",
    "\n",
    "In this tutorial, however, we'll keep things simple and remember than our material is not dispersive. Consequently, from the chain rule and the definition of the adjoint, we realize we can just add up all the gradients along the frequency axis. We can either do this before or after the vector jacobian product of the interpolator (the sum of the transform is the same as the transform of the sum). However the VJP method always assumes at least one frequency point. To keep our numpy array axes simple, we'll sum the final design parameters over frequency.\n",
    "\n",
    "Remember, you can always check your final gradient with a finite difference approximate if you are worried about accuracy!\n",
    "\n",
    "For now, we'll incorporate this important fact into our wrapped objective function needed by `nlopt`."
   ]
  },
  {
   "cell_type": "code",
   "execution_count": 8,
   "metadata": {},
   "outputs": [],
   "source": [
    "evaluation_history = []\n",
    "def f(x, grad):\n",
    "    f0, dJ_deps, dg = opt([x])\n",
    "    if grad.size > 0:\n",
    "        grad[:] = np.sum(basis.get_basis_vjp(dJ_deps[0],dg[0]),axis=1)\n",
    "    evaluation_history.append(np.real(f0))\n",
    "    return np.real(f0)"
   ]
  },
  {
   "cell_type": "markdown",
   "metadata": {},
   "source": [
    "Once again we'll opt to use the Method of Moving Asymptotes. This time, however, we'll *minimize* our functional, since the objective function describes the *error* of the system."
   ]
  },
  {
   "cell_type": "code",
   "execution_count": 9,
   "metadata": {},
   "outputs": [
    {
     "name": "stdout",
     "output_type": "stream",
     "text": [
      "Starting forward run...\n",
      "Starting adjoint run...\n",
      "Calculating gradient...\n",
      "Starting forward run...\n",
      "Starting adjoint run...\n",
      "Calculating gradient...\n",
      "Starting forward run...\n",
      "Starting adjoint run...\n",
      "Calculating gradient...\n",
      "Starting forward run...\n",
      "Starting adjoint run...\n",
      "Calculating gradient...\n",
      "Starting forward run...\n",
      "Starting adjoint run...\n",
      "Calculating gradient...\n",
      "Starting forward run...\n",
      "Starting adjoint run...\n",
      "Calculating gradient...\n",
      "Starting forward run...\n",
      "Starting adjoint run...\n",
      "Calculating gradient...\n",
      "Starting forward run...\n",
      "Starting adjoint run...\n",
      "Calculating gradient...\n",
      "Starting forward run...\n",
      "Starting adjoint run...\n",
      "Calculating gradient...\n",
      "Starting forward run...\n",
      "Starting adjoint run...\n",
      "Calculating gradient...\n",
      "Starting forward run...\n",
      "Starting adjoint run...\n",
      "Calculating gradient...\n",
      "Starting forward run...\n",
      "Starting adjoint run...\n",
      "Calculating gradient...\n",
      "Starting forward run...\n",
      "Starting adjoint run...\n",
      "Calculating gradient...\n",
      "Starting forward run...\n",
      "Starting adjoint run...\n",
      "Calculating gradient...\n",
      "Starting forward run...\n",
      "Starting adjoint run...\n",
      "Calculating gradient...\n",
      "Starting forward run...\n",
      "Starting adjoint run...\n",
      "Calculating gradient...\n",
      "Starting forward run...\n",
      "Starting adjoint run...\n",
      "Calculating gradient...\n",
      "Starting forward run...\n",
      "Starting adjoint run...\n",
      "Calculating gradient...\n",
      "Starting forward run...\n",
      "Starting adjoint run...\n",
      "Calculating gradient...\n",
      "Starting forward run...\n",
      "Starting adjoint run...\n",
      "Calculating gradient...\n"
     ]
    }
   ],
   "source": [
    "algorithm = nlopt.LD_MMA\n",
    "n = Nx * Ny\n",
    "maxeval = 20\n",
    "\n",
    "solver = nlopt.opt(algorithm, n)\n",
    "solver.set_lower_bounds(1)\n",
    "solver.set_upper_bounds(12)\n",
    "solver.set_min_objective(f)\n",
    "solver.set_maxeval(maxeval)\n",
    "x = solver.optimize(rho_vector)"
   ]
  },
  {
   "cell_type": "markdown",
   "metadata": {},
   "source": [
    "Notice that the adjoint simulation takes slightly longer than the forward simulation. This is because our original cost function incorporates multible objective arguments over multiple frequency points. Consequently, Meep has to estimate the correct adjoint source time profile that satisfies these requirements. Denser frequency grids correspond to longer time profiles that naturally take longer to turn off.\n",
    "\n",
    "That being said, the cost of simulating one extra frequency point this way is marginal compared to the cost of an entirely new frequency domain simulation.\n",
    "\n",
    "We can easily plot our history and ensure that the cost truly minimizes."
   ]
  },
  {
   "cell_type": "code",
   "execution_count": 10,
   "metadata": {},
   "outputs": [
    {
     "data": {
      "image/png": "[encoded data removed]",
      "text/plain": [
       "<Figure size 432x288 with 1 Axes>"
      ]
     },
     "metadata": {
      "needs_background": "light"
     },
     "output_type": "display_data"
    }
   ],
   "source": [
    "plt.figure()\n",
    "plt.semilogy(evaluation_history,'o-')\n",
    "plt.grid(True)\n",
    "plt.xlabel('Iteration')\n",
    "plt.ylabel('MSE')\n",
    "plt.show()"
   ]
  },
  {
   "cell_type": "markdown",
   "metadata": {},
   "source": [
    "This cost functional is somewhat opaque -- it's hard to tell how well our device truly operates. It's best to examine the transmission spectra for each of the arms directly.\n",
    "\n",
    "Luckily, we can use our existing solver object to run a simple forward simulation (and just a forward simulation) using the \"optimum\" parameters and subsequently pull the requested eigenmode coefficients. From these we can quickly calculate the transmission responses for each arm."
   ]
  },
  {
   "cell_type": "code",
   "execution_count": 11,
   "metadata": {},
   "outputs": [
    {
     "name": "stdout",
     "output_type": "stream",
     "text": [
      "Starting forward run...\n"
     ]
    }
   ],
   "source": [
    "f0, dJ_deps, dg = opt([x],need_gradient = False)\n",
    "frequencies = opt.frequencies\n",
    "source_coef, top_coef, bottom_ceof = opt.get_objective_arguments()\n",
    "\n",
    "top_profile = np.abs(top_coef/source_coef) ** 2\n",
    "bottom_profile = np.abs(bottom_ceof/source_coef) ** 2"
   ]
  },
  {
   "cell_type": "markdown",
   "metadata": {},
   "source": [
    "We can visualize each frequency profile for the two arms."
   ]
  },
  {
   "cell_type": "code",
   "execution_count": 12,
   "metadata": {},
   "outputs": [
    {
     "data": {
      "image/png": "[encoded data removed]",
      "text/plain": [
       "<Figure size 432x288 with 1 Axes>"
      ]
     },
     "metadata": {
      "needs_background": "light"
     },
     "output_type": "display_data"
    }
   ],
   "source": [
    "plt.figure()\n",
    "plt.plot(1/frequencies,top_profile,label = 'Top Arm')\n",
    "plt.plot(1/frequencies,bottom_profile,'--',label = 'Bottom Arm')\n",
    "plt.legend()\n",
    "plt.grid(True)\n",
    "plt.xlabel('Wavelength (microns)')\n",
    "plt.ylabel('Power')\n",
    "plt.show()"
   ]
  },
  {
   "cell_type": "markdown",
   "metadata": {},
   "source": [
    "We see that the top arm is relatively constant across the band, but the bottom arm exhibits particularly poor performance. Furthermore, the cost function appears to have hit a local minima -- a common and difficult problem in nonconvex optimization.\n",
    "\n",
    "We'll approach our problem from a different approach. This time, let's minimize the maximum error for each frequency point:\n",
    "\n",
    "$$\n",
    "J = \\textrm{max}[(0.5 - P_{top}(f))^2 + (0.5 - P_{bottom}(f))^2]\n",
    "$$\n",
    "\n",
    "Which is a minimax problem. We can reframe our minimax problem using the epigraph formulation. To do so, we'll slightly modify our objective functional to be *multivalued*. We'll incorporate each output as a constraint bounded by a dummy variable $t$. More information behind this technique can be found [here](https://nlopt.readthedocs.io/en/latest/NLopt_Introduction/#equivalent-formulations-of-optimization-problems).\n",
    "\n",
    "Ideally, we would separate each arm into it's own functional and and each of them into our bank of objective functions. Unfortunately, this would require additional forward and adjoint simulations -- an important caveat to the adjoint solver (and reverse-mode differentiation in general) is that it can produce an entire row of the jacobian, but not the entire matrix. We are able to get multiple rows for each frequency point because of some fancy postprocessing."
   ]
  },
  {
   "cell_type": "code",
   "execution_count": 13,
   "metadata": {},
   "outputs": [],
   "source": [
    "def J(source,top,bottom):\n",
    "    desired_profile = 0.5\n",
    "    top_mse = npa.abs(desired_profile - npa.abs(top/source) ** 2) ** 2\n",
    "    bottom_mse = npa.abs(desired_profile - npa.abs(bottom/source) ** 2) ** 2\n",
    "    return top_mse + bottom_mse"
   ]
  },
  {
   "cell_type": "markdown",
   "metadata": {},
   "source": [
    "We can now formulate our cost function with our dummy variable $t$ used by `nlopt`."
   ]
  },
  {
   "cell_type": "code",
   "execution_count": 14,
   "metadata": {},
   "outputs": [],
   "source": [
    "evaluation_history = []\n",
    "def f(x, grad):\n",
    "    t = x[0]\n",
    "    v = x[1:]\n",
    "    if grad.size > 0:\n",
    "        grad[0] = 1\n",
    "        grad[1:] = 0\n",
    "    return t"
   ]
  },
  {
   "cell_type": "markdown",
   "metadata": {},
   "source": [
    "Next, we'll add vector-valued nonlinear constraints using the Jacobian provided by meep."
   ]
  },
  {
   "cell_type": "code",
   "execution_count": 15,
   "metadata": {},
   "outputs": [],
   "source": [
    "def c(result,x,grad):\n",
    "    t = x[0]\n",
    "    v = x[1:]\n",
    "    f0, dJ_deps, dg = opt([v])\n",
    "    if grad.size > 0:\n",
    "        grad[:,0] = 0 # gradient w.r.t. \"t\"\n",
    "        grad[:,1:] = basis.get_basis_vjp(dJ_deps[0],dg[0]).transpose() # gradient w.r.t. \"rho\"\n",
    "    evaluation_history.append(np.max(np.real(f0)))\n",
    "    result[:] = np.real(f0) - t"
   ]
  },
  {
   "cell_type": "markdown",
   "metadata": {},
   "source": [
    "As before, we'll define our optimizer object and add all of our constraints."
   ]
  },
  {
   "cell_type": "code",
   "execution_count": 16,
   "metadata": {},
   "outputs": [
    {
     "name": "stdout",
     "output_type": "stream",
     "text": [
      "Starting forward run...\n",
      "Starting adjoint run...\n",
      "Calculating gradient...\n",
      "Starting forward run...\n",
      "Starting adjoint run...\n",
      "Calculating gradient...\n",
      "Starting forward run...\n",
      "Starting adjoint run...\n",
      "Calculating gradient...\n",
      "Starting forward run...\n",
      "Starting adjoint run...\n",
      "Calculating gradient...\n",
      "Starting forward run...\n",
      "Starting adjoint run...\n",
      "Calculating gradient...\n",
      "Starting forward run...\n",
      "Starting adjoint run...\n",
      "Calculating gradient...\n",
      "Starting forward run...\n",
      "Starting adjoint run...\n",
      "Calculating gradient...\n",
      "Starting forward run...\n",
      "Starting adjoint run...\n",
      "Calculating gradient...\n",
      "Starting forward run...\n",
      "Starting adjoint run...\n",
      "Calculating gradient...\n",
      "Starting forward run...\n",
      "Starting adjoint run...\n",
      "Calculating gradient...\n",
      "Starting forward run...\n",
      "Starting adjoint run...\n",
      "Calculating gradient...\n",
      "Starting forward run...\n",
      "Starting adjoint run...\n",
      "Calculating gradient...\n",
      "Starting forward run...\n",
      "Starting adjoint run...\n",
      "Calculating gradient...\n",
      "Starting forward run...\n",
      "Starting adjoint run...\n",
      "Calculating gradient...\n",
      "Starting forward run...\n",
      "Starting adjoint run...\n",
      "Calculating gradient...\n",
      "Starting forward run...\n",
      "Starting adjoint run...\n",
      "Calculating gradient...\n",
      "Starting forward run...\n",
      "Starting adjoint run...\n",
      "Calculating gradient...\n",
      "Starting forward run...\n",
      "Starting adjoint run...\n",
      "Calculating gradient...\n",
      "Starting forward run...\n",
      "Starting adjoint run...\n",
      "Calculating gradient...\n",
      "Starting forward run...\n",
      "Starting adjoint run...\n",
      "Calculating gradient...\n",
      "Starting forward run...\n",
      "Starting adjoint run...\n",
      "Calculating gradient...\n",
      "Starting forward run...\n",
      "Starting adjoint run...\n",
      "Calculating gradient...\n",
      "Starting forward run...\n",
      "Starting adjoint run...\n",
      "Calculating gradient...\n",
      "Starting forward run...\n",
      "Starting adjoint run...\n",
      "Calculating gradient...\n",
      "Starting forward run...\n",
      "Starting adjoint run...\n",
      "Calculating gradient...\n",
      "Starting forward run...\n",
      "Starting adjoint run...\n",
      "Calculating gradient...\n",
      "Starting forward run...\n",
      "Starting adjoint run...\n",
      "Calculating gradient...\n",
      "Starting forward run...\n",
      "Starting adjoint run...\n",
      "Calculating gradient...\n",
      "Starting forward run...\n",
      "Starting adjoint run...\n",
      "Calculating gradient...\n",
      "Starting forward run...\n",
      "Starting adjoint run...\n",
      "Calculating gradient...\n"
     ]
    }
   ],
   "source": [
    "maxeval = 30\n",
    "algorithm = nlopt.LD_MMA\n",
    "solver = nlopt.opt(algorithm, Nx*Ny+1)\n",
    "solver.set_min_objective(f)\n",
    "solver.add_inequality_mconstraint(c, np.array([1e-4]*Nx*Ny))\n",
    "solver.set_lower_bounds(np.array([0] + [1]*Nx*Ny))\n",
    "solver.set_upper_bounds(12)\n",
    "solver.set_maxeval(maxeval)\n",
    "x0 = np.array([1] + rho_vector.tolist())\n",
    "x = solver.optimize(x0)"
   ]
  },
  {
   "cell_type": "markdown",
   "metadata": {},
   "source": [
    "We can tack our progress"
   ]
  },
  {
   "cell_type": "code",
   "execution_count": 17,
   "metadata": {},
   "outputs": [
    {
     "data": {
      "image/png": "[encoded data removed]",
      "text/plain": [
       "<Figure size 432x288 with 1 Axes>"
      ]
     },
     "metadata": {
      "needs_background": "light"
     },
     "output_type": "display_data"
    }
   ],
   "source": [
    "plt.figure()\n",
    "plt.plot(evaluation_history,'o-')\n",
    "plt.grid(True)\n",
    "plt.xlabel('Iteration')\n",
    "plt.ylabel('FOM')\n",
    "plt.show()"
   ]
  },
  {
   "cell_type": "markdown",
   "metadata": {},
   "source": [
    "And visualize the \"optimized\" structure."
   ]
  },
  {
   "cell_type": "code",
   "execution_count": 19,
   "metadata": {},
   "outputs": [
    {
     "name": "stdout",
     "output_type": "stream",
     "text": [
      "Starting forward run...\n"
     ]
    }
   ],
   "source": [
    "f0, dJ_deps, dg = opt([x],need_gradient = False)\n",
    "frequencies = opt.frequencies\n",
    "source_coef, top_coef, bottom_ceof = opt.get_objective_arguments()\n",
    "\n",
    "top_profile = np.abs(top_coef/source_coef) ** 2\n",
    "bottom_profile = np.abs(bottom_ceof/source_coef) ** 2"
   ]
  },
  {
   "cell_type": "code",
   "execution_count": 21,
   "metadata": {},
   "outputs": [
    {
     "data": {
      "image/png": "[encoded data removed]",
      "text/plain": [
       "<Figure size 432x288 with 1 Axes>"
      ]
     },
     "metadata": {
      "needs_background": "light"
     },
     "output_type": "display_data"
    }
   ],
   "source": [
    "plt.figure()\n",
    "plt.plot(1/frequencies,top_profile,label = 'Top Arm')\n",
    "plt.plot(1/frequencies,bottom_profile,'--',label = 'Bottom Arm')\n",
    "plt.legend()\n",
    "plt.grid(True)\n",
    "plt.xlabel('Wavelength (microns)')\n",
    "plt.ylabel('Power')\n",
    "plt.show()"
   ]
  },
  {
   "cell_type": "markdown",
   "metadata": {},
   "source": [
    "Unfortunately, the device performs rather poorly. We can quickly visualize the final device:"
   ]
  },
  {
   "cell_type": "code",
   "execution_count": 22,
   "metadata": {},
   "outputs": [
    {
     "data": {
      "image/png": "[encoded data removed]",
      "text/plain": [
       "<Figure size 432x288 with 1 Axes>"
      ]
     },
     "metadata": {
      "needs_background": "light"
     },
     "output_type": "display_data"
    }
   ],
   "source": [
    "opt.update_design([x])\n",
    "opt.plot2D(True,output_plane=mp.Volume(center=(0,0,0),size=(3,3,0)))\n",
    "plt.show()"
   ]
  },
  {
   "cell_type": "markdown",
   "metadata": {},
   "source": [
    "As sophisticated as the methods are, we quickly see that optimization is a difficult game that requires iteration and creativity. For example, in this problem, we should implement symmetry constraints and start with an initial parameter set we expect to behave well.\n",
    "\n",
    "Regardless, meep's adjoint solver is capable of leveraging it's inherit broadband functionality to optimize a wide range of objective function formulations."
   ]
  },
  {
   "cell_type": "code",
   "execution_count": null,
   "metadata": {},
   "outputs": [],
   "source": []
  }
 ],
 "metadata": {
  "kernelspec": {
   "display_name": "Python 3",
   "language": "python",
   "name": "python3"
  },
  "language_info": {
   "codemirror_mode": {
    "name": "ipython",
    "version": 3
   },
   "file_extension": ".py",
   "mimetype": "text/x-python",
   "name": "python",
   "nbconvert_exporter": "python",
   "pygments_lexer": "ipython3",
   "version": "3.7.1"
  }
 },
 "nbformat": 4,
 "nbformat_minor": 4
}

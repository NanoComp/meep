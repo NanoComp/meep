{
 "cells": [
  {
   "cell_type": "markdown",
   "metadata": {},
   "source": [
    "# Waveguide Bend Optimization\n",
    "\n",
    "In this tutorial, we'll examine how we can use Meep's adjoint solver to optimize for a particular design criteria. Specifcally, we'll maximize the transmission around a silicon waveguide bend. This tutorial will illustrate the adjoint solver's ability to quickly calculate gradients for objective functions with multiple objective quantities.\n",
    "\n",
    "To begin, we'll import meep, our adjoint module, `autograd` (as before) and we will also import `nlopt`, a nonlinear optimization package."
   ]
  },
  {
   "cell_type": "code",
   "execution_count": 1,
   "metadata": {},
   "outputs": [
    {
     "name": "stdout",
     "output_type": "stream",
     "text": [
      "Using MPI version 3.1, 1 processes\n"
     ]
    }
   ],
   "source": [
    "import meep as mp\n",
    "import meep.adjoint as mpa\n",
    "import numpy as np\n",
    "from autograd import numpy as npa\n",
    "import nlopt\n",
    "from matplotlib import pyplot as plt\n",
    "mp.quiet(quietval=True)"
   ]
  },
  {
   "cell_type": "markdown",
   "metadata": {},
   "source": [
    "Next, we'll build a 90 degree bend waveguide with a design region that is 1 micron by 1 micron. We'll discretize our region into a 10 x 10 grid (100 total parameters). We'll send in a narrowband gaussian pulse centered at 1550 nm. We'll also use the same objective function and optimizer object as before."
   ]
  },
  {
   "cell_type": "code",
   "execution_count": 2,
   "metadata": {},
   "outputs": [],
   "source": [
    "resolution = 10\n",
    "\n",
    "Sx = 6\n",
    "Sy = 5\n",
    "cell_size = mp.Vector3(Sx,Sy)\n",
    "\n",
    "pml_layers = [mp.PML(1.0)]\n",
    "\n",
    "fcen = 1/1.55\n",
    "width = 0.2\n",
    "fwidth = width * fcen\n",
    "source_center  = [-1.5,0,0]\n",
    "source_size    = mp.Vector3(0,2,0)\n",
    "kpoint = mp.Vector3(1,0,0)\n",
    "src = mp.GaussianSource(frequency=fcen,fwidth=fwidth)\n",
    "source = [mp.EigenModeSource(src,\n",
    "                    eig_band = 1,\n",
    "                    direction=mp.NO_DIRECTION,\n",
    "                    eig_kpoint=kpoint,\n",
    "                    size = source_size,\n",
    "                    center=source_center)]\n",
    "\n",
    "seed = 24\n",
    "np.random.seed(seed)\n",
    "\n",
    "Nx = 10\n",
    "Ny = 10\n",
    "\n",
    "design_region = mp.Volume(center=mp.Vector3(), size=mp.Vector3(1, 1, 0))\n",
    "rho_vector = 11*np.random.rand(Nx*Ny) + 1\n",
    "design_variables = mpa.BilinearInterpolationBasis(volume=design_region,Nx=Nx,Ny=Ny,rho_vector=rho_vector)\n",
    "\n",
    "geometry = [\n",
    "    mp.Block(center=mp.Vector3(x=-Sx/4), material=mp.Medium(index=3.45), size=mp.Vector3(Sx/2, 0.5, 0)), # horizontal waveguide\n",
    "    mp.Block(center=mp.Vector3(y=Sy/4), material=mp.Medium(index=3.45), size=mp.Vector3(0.5, Sy/2, 0)),  # vertical waveguide\n",
    "    mp.Block(center=design_region.center, size=design_region.size, epsilon_func=design_variables.func()) # design region\n",
    "]\n",
    "\n",
    "sim = mp.Simulation(cell_size=cell_size,\n",
    "                    boundary_layers=pml_layers,\n",
    "                    geometry=geometry,\n",
    "                    sources=source,\n",
    "                    eps_averaging=False,\n",
    "                    resolution=resolution)\n",
    "\n",
    "TE_top = mpa.EigenmodeCoefficient(sim,mp.Volume(center=mp.Vector3(0,1,0),size=mp.Vector3(x=2)),mode=1)\n",
    "ob_list = [TE_top]\n",
    "\n",
    "def J(alpha):\n",
    "    return npa.abs(alpha) ** 2\n",
    "\n",
    "opt = mpa.OptimizationProblem(\n",
    "    simulation=sim,\n",
    "    objective_functions=J,\n",
    "    objective_arguments=ob_list,\n",
    "    design_variables=[design_variables],\n",
    "    fcen=fcen,\n",
    "    df = 0,\n",
    "    nf = 1,\n",
    "    decay_fields=[mp.Ez]\n",
    ")"
   ]
  },
  {
   "cell_type": "markdown",
   "metadata": {},
   "source": [
    "As before, we'll visualize everything to ensure our monitors, boundary layers, and geometry are drawn correctly."
   ]
  },
  {
   "cell_type": "code",
   "execution_count": 3,
   "metadata": {},
   "outputs": [
    {
     "data": {
      "image/png": "[encoded data removed]",
      "text/plain": [
       "<Figure size 432x288 with 1 Axes>"
      ]
     },
     "metadata": {
      "needs_background": "light"
     },
     "output_type": "display_data"
    }
   ],
   "source": [
    "opt.plot2D(True)\n",
    "plt.show()"
   ]
  },
  {
   "cell_type": "markdown",
   "metadata": {},
   "source": [
    "We can now define a cost function wrapper that we can feed into our `nlopt` optimizer. `nlopt` expects a python function where the gradient is passed in place. In addition, we'll update a list with every objective function call so we can track the cost function evolution each iteration.\n",
    "\n",
    "Notice the `opt` adjoint solver object requires we pass our numpy array of design parameters within an additional list. This is because the adjoint solver can solve for multiple design regions simultaneously. It's useful to break up each region's parameters into indvidual numpy arrays. In this simple example, we only have one design region."
   ]
  },
  {
   "cell_type": "code",
   "execution_count": 4,
   "metadata": {},
   "outputs": [],
   "source": [
    "evaluation_history = []\n",
    "sensitivity = [0]\n",
    "def f(x, grad):\n",
    "    f0, dJ_deps, dg = opt([x])\n",
    "    if grad.size > 0:\n",
    "        grad[:] = np.squeeze(design_variables.get_basis_vjp(dJ_deps,dg))\n",
    "    evaluation_history.append(np.real(f0))\n",
    "    sensitivity[0] = dJ_deps\n",
    "    return np.real(f0)"
   ]
  },
  {
   "cell_type": "markdown",
   "metadata": {},
   "source": [
    "Now we can set up the actual optimizer engine. We'll select the Method of Moving Asymptotes because it's a gradient based method that allows us to specify linear and nonlinear constraints. For now, we'll simply bound our parameters between 1 and 12.\n",
    "\n",
    "We'll tell our solver to maximize (rather than minimize) our cost function, since we are trying to maximize the power transmission around the bend.\n",
    "\n",
    "We'll also tell the optimizer to stop after 10 function calls. This will keep the wait time short and demonstrate how powerful the adjoint solver is."
   ]
  },
  {
   "cell_type": "code",
   "execution_count": 5,
   "metadata": {},
   "outputs": [
    {
     "name": "stdout",
     "output_type": "stream",
     "text": [
      "[11.56019034  8.69463255 11.99854022  3.4207403   4.97161989  9.13825089\n",
      " 11.96101298  4.47981676  2.50199038  5.22378011  4.52571212  5.03056228\n",
      "  8.80616719 10.90156674  6.87526983  3.72023141  8.38987219  7.17902018\n",
      "  6.96815864 10.82792364 10.27057505  4.36613849  7.94286755  8.48262746\n",
      " 11.67470316 10.82923867 11.36668447  8.06448029  7.76112397  3.5045158\n",
      "  6.34635056  9.87941229 10.28642169  6.88148953  9.33577855  6.49644575\n",
      " 10.35360686  7.81666453 10.47775597  3.54866916  5.42440256  7.86812568\n",
      "  2.57340376  2.35078332  5.58512902  7.1257128  11.35561093  5.50184925\n",
      "  9.10426594 11.94995742 11.08330784  1.022256   11.68464863 10.77952994\n",
      "  8.69437467  2.07277135  7.30771943 10.02040828  7.16980156  4.85838707\n",
      "  6.97849732 10.67548001  2.25506221  1.34582686 11.48091066  4.17617822\n",
      "  5.86144088  3.84923685  7.56580588  8.20814651  4.03265007 10.43769704\n",
      " 10.77596561  4.1356665   8.25516461 11.69332285  9.76561524  2.97410841\n",
      "  9.63140276 11.67140677  4.99092946  1.96674671  4.78216766  7.2822061\n",
      "  2.82063951  7.94777533  1.72122089 11.0416161   1.97519377  3.19326446\n",
      "  6.19147968  5.85096898  9.42106569  1.14017887  8.48729261  4.03162904\n",
      "  7.64377803  7.00570131  3.30768792  2.49735029]\n",
      "Starting forward run...\n",
      "Starting adjoint run...\n",
      "Calculating gradient...\n",
      "Starting forward run...\n",
      "Starting adjoint run...\n",
      "Calculating gradient...\n",
      "Starting forward run...\n",
      "Starting adjoint run...\n",
      "Calculating gradient...\n",
      "Starting forward run...\n",
      "Starting adjoint run...\n",
      "Calculating gradient...\n",
      "Starting forward run...\n",
      "Starting adjoint run...\n",
      "Calculating gradient...\n",
      "Starting forward run...\n",
      "Starting adjoint run...\n",
      "Calculating gradient...\n",
      "Starting forward run...\n",
      "Starting adjoint run...\n",
      "Calculating gradient...\n",
      "Starting forward run...\n",
      "Starting adjoint run...\n",
      "Calculating gradient...\n",
      "Starting forward run...\n",
      "Starting adjoint run...\n",
      "Calculating gradient...\n",
      "Starting forward run...\n",
      "Starting adjoint run...\n",
      "Calculating gradient...\n"
     ]
    }
   ],
   "source": [
    "algorithm = nlopt.LD_MMA\n",
    "n = Nx * Ny\n",
    "maxeval = 10\n",
    "\n",
    "solver = nlopt.opt(algorithm, n)\n",
    "solver.set_lower_bounds(1)\n",
    "solver.set_upper_bounds(12)\n",
    "solver.set_max_objective(f)\n",
    "solver.set_maxeval(maxeval)\n",
    "x = solver.optimize(rho_vector);"
   ]
  },
  {
   "cell_type": "markdown",
   "metadata": {},
   "source": [
    "Now that the solver is done running, we can evaluate our progress."
   ]
  },
  {
   "cell_type": "code",
   "execution_count": 6,
   "metadata": {},
   "outputs": [
    {
     "data": {
      "image/png": "[encoded data removed]",
      "text/plain": [
       "<Figure size 432x288 with 1 Axes>"
      ]
     },
     "metadata": {
      "needs_background": "light"
     },
     "output_type": "display_data"
    }
   ],
   "source": [
    "plt.figure()\n",
    "plt.plot(evaluation_history,'o-')\n",
    "plt.grid(True)\n",
    "plt.xlabel('Iteration')\n",
    "plt.ylabel('FOM')\n",
    "plt.show()"
   ]
  },
  {
   "cell_type": "markdown",
   "metadata": {},
   "source": [
    "We quickly see that the solver improves the design each iteration, but because of the way we chose to formulate our cost function, it's difficult to quantify our results. After all, how good is a figure of merit (FOM) of 70?\n",
    "\n",
    "To overcome this, we'll slightly modify our objective function to include an extra monitor just after the source. This monitor will track however much power is transmitted into the waveguide. We can then normalize the upper monitor's response by this parameter:"
   ]
  },
  {
   "cell_type": "code",
   "execution_count": 7,
   "metadata": {},
   "outputs": [],
   "source": [
    "TE0 = mpa.EigenmodeCoefficient(sim,mp.Volume(center=mp.Vector3(-1,0,0),size=mp.Vector3(y=2)),mode=1)\n",
    "ob_list = [TE0,TE_top]\n",
    "\n",
    "def J(source,top):\n",
    "    return npa.abs(top/source) ** 2\n",
    "\n",
    "opt.objective_functions = [J]\n",
    "opt.objective_arguments = ob_list\n",
    "opt.update_design([rho_vector])"
   ]
  },
  {
   "cell_type": "markdown",
   "metadata": {},
   "source": [
    "We'll refresh our solver and try optimizing again:"
   ]
  },
  {
   "cell_type": "code",
   "execution_count": 8,
   "metadata": {},
   "outputs": [
    {
     "name": "stdout",
     "output_type": "stream",
     "text": [
      "[11.56019034  8.69463255 11.99854022  3.4207403   4.97161989  9.13825089\n",
      " 11.96101298  4.47981676  2.50199038  5.22378011  4.52571212  5.03056228\n",
      "  8.80616719 10.90156674  6.87526983  3.72023141  8.38987219  7.17902018\n",
      "  6.96815864 10.82792364 10.27057505  4.36613849  7.94286755  8.48262746\n",
      " 11.67470316 10.82923867 11.36668447  8.06448029  7.76112397  3.5045158\n",
      "  6.34635056  9.87941229 10.28642169  6.88148953  9.33577855  6.49644575\n",
      " 10.35360686  7.81666453 10.47775597  3.54866916  5.42440256  7.86812568\n",
      "  2.57340376  2.35078332  5.58512902  7.1257128  11.35561093  5.50184925\n",
      "  9.10426594 11.94995742 11.08330784  1.022256   11.68464863 10.77952994\n",
      "  8.69437467  2.07277135  7.30771943 10.02040828  7.16980156  4.85838707\n",
      "  6.97849732 10.67548001  2.25506221  1.34582686 11.48091066  4.17617822\n",
      "  5.86144088  3.84923685  7.56580588  8.20814651  4.03265007 10.43769704\n",
      " 10.77596561  4.1356665   8.25516461 11.69332285  9.76561524  2.97410841\n",
      "  9.63140276 11.67140677  4.99092946  1.96674671  4.78216766  7.2822061\n",
      "  2.82063951  7.94777533  1.72122089 11.0416161   1.97519377  3.19326446\n",
      "  6.19147968  5.85096898  9.42106569  1.14017887  8.48729261  4.03162904\n",
      "  7.64377803  7.00570131  3.30768792  2.49735029]\n",
      "Starting forward run...\n",
      "Starting adjoint run...\n",
      "Calculating gradient...\n",
      "Starting forward run...\n",
      "Starting adjoint run...\n",
      "Calculating gradient...\n",
      "Starting forward run...\n",
      "Starting adjoint run...\n",
      "Calculating gradient...\n",
      "Starting forward run...\n",
      "Starting adjoint run...\n",
      "Calculating gradient...\n",
      "Starting forward run...\n",
      "Starting adjoint run...\n",
      "Calculating gradient...\n",
      "Starting forward run...\n",
      "Starting adjoint run...\n",
      "Calculating gradient...\n",
      "Starting forward run...\n",
      "Starting adjoint run...\n",
      "Calculating gradient...\n",
      "Starting forward run...\n",
      "Starting adjoint run...\n",
      "Calculating gradient...\n",
      "Starting forward run...\n",
      "Starting adjoint run...\n",
      "Calculating gradient...\n",
      "Starting forward run...\n",
      "Starting adjoint run...\n",
      "Calculating gradient...\n"
     ]
    }
   ],
   "source": [
    "evaluation_history = []\n",
    "x = solver.optimize(rho_vector)"
   ]
  },
  {
   "cell_type": "markdown",
   "metadata": {},
   "source": [
    "We can view our results and normalize the FOM as the percent power transmission."
   ]
  },
  {
   "cell_type": "code",
   "execution_count": 9,
   "metadata": {},
   "outputs": [
    {
     "data": {
      "image/png": "[encoded data removed]",
      "text/plain": [
       "<Figure size 432x288 with 1 Axes>"
      ]
     },
     "metadata": {
      "needs_background": "light"
     },
     "output_type": "display_data"
    }
   ],
   "source": [
    "plt.figure()\n",
    "plt.plot(np.array(evaluation_history)*100,'o-')\n",
    "plt.grid(True)\n",
    "plt.xlabel('Iteration')\n",
    "plt.ylabel('Transmission (%)')\n",
    "plt.show()"
   ]
  },
  {
   "cell_type": "markdown",
   "metadata": {},
   "source": [
    "We once again clearly see great improvement, from about 5% transmission to about 75%, after just 10 iterations! We noticed that the cost function is much more complicated now as the optimizer no longer monotonically improves as it did before."
   ]
  },
  {
   "cell_type": "code",
   "execution_count": 10,
   "metadata": {},
   "outputs": [
    {
     "name": "stdout",
     "output_type": "stream",
     "text": [
      "Achieved an improvement of 24.4x\n"
     ]
    }
   ],
   "source": [
    "improvement = max(evaluation_history) / min(evaluation_history)\n",
    "print(\"Achieved an improvement of {0:1.1f}x\".format(improvement))"
   ]
  },
  {
   "cell_type": "markdown",
   "metadata": {},
   "source": [
    "Finally, we can visualize our new geometry. We see that the design region naturally connected the two waveguide segements in a bend fashion and has placed several other distinctive features around the curve."
   ]
  },
  {
   "cell_type": "code",
   "execution_count": 11,
   "metadata": {},
   "outputs": [
    {
     "data": {
      "image/png": "[encoded data removed]",
      "text/plain": [
       "<Figure size 432x288 with 1 Axes>"
      ]
     },
     "metadata": {
      "needs_background": "light"
     },
     "output_type": "display_data"
    }
   ],
   "source": [
    "opt.update_design([x])\n",
    "opt.plot2D(True,output_plane=mp.Volume(center=(0,0,0),size=(2,2,0)))"
   ]
  },
  {
   "cell_type": "markdown",
   "metadata": {},
   "source": [
    "We can also visualize the sensitivity to see which geometric areas are most sensitive to perturbations."
   ]
  },
  {
   "cell_type": "code",
   "execution_count": 12,
   "metadata": {},
   "outputs": [
    {
     "data": {
      "text/plain": [
       "<matplotlib.image.AxesImage at 0x7f5ddf40eac8>"
      ]
     },
     "execution_count": 12,
     "metadata": {},
     "output_type": "execute_result"
    },
    {
     "data": {
      "image/png": "[encoded data removed]",
      "text/plain": [
       "<Figure size 432x288 with 1 Axes>"
      ]
     },
     "metadata": {
      "needs_background": "light"
     },
     "output_type": "display_data"
    }
   ],
   "source": [
    "plt.imshow(np.rot90(np.squeeze(np.abs(sensitivity[0]))))"
   ]
  },
  {
   "cell_type": "code",
   "execution_count": null,
   "metadata": {},
   "outputs": [],
   "source": []
  }
 ],
 "metadata": {
  "kernelspec": {
   "display_name": "Python 3",
   "language": "python",
   "name": "python3"
  },
  "language_info": {
   "codemirror_mode": {
    "name": "ipython",
    "version": 3
   },
   "file_extension": ".py",
   "mimetype": "text/x-python",
   "name": "python",
   "nbconvert_exporter": "python",
   "pygments_lexer": "ipython3",
   "version": "3.7.3"
  }
 },
 "nbformat": 4,
 "nbformat_minor": 4
}

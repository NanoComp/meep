{
 "cells": [
  {
   "cell_type": "markdown",
   "metadata": {},
   "source": [
    "# Fourier Fields Optimization in Waveguide Bend\n",
    "\n",
    "Previously, optimization of eigenmode coefficient in a waveguide bend was presented. We set up a similar example but directly optimizing Fourier Fields instead. We point out a few subtle differences.\n",
    "\n"
   ]
  },
  {
   "cell_type": "code",
   "execution_count": null,
   "metadata": {},
   "outputs": [],
   "source": [
    "import meep as mp\n",
    "import meep.adjoint as mpa\n",
    "import numpy as np\n",
    "from autograd import numpy as npa\n",
    "from autograd import tensor_jacobian_product, grad\n",
    "import nlopt\n",
    "from matplotlib import pyplot as plt\n",
    "from matplotlib.patches import Circle\n",
    "from scipy import special, signal\n",
    "\n",
    "mp.quiet(quietval=True)\n",
    "Si = mp.Medium(index=3.4)\n",
    "SiO2 = mp.Medium(index=1.44)"
   ]
  },
  {
   "cell_type": "markdown",
   "metadata": {},
   "source": [
    "The code for eigenmode coefficient uses Yee grid directly. The implementation of Fourier fields doesn't use Yee_grid directly. We thus increase the resolution from 30 to 40 to achieve the desired level of accuracy."
   ]
  },
  {
   "cell_type": "code",
   "execution_count": null,
   "metadata": {},
   "outputs": [],
   "source": [
    "waveguide_width = 0.5\n",
    "design_region_width = 2.5\n",
    "design_region_height = 2.5\n",
    "\n",
    "waveguide_length = 0.5\n",
    "\n",
    "pml_size = 1.0\n",
    "\n",
    "resolution = 40\n",
    "\n",
    "frequencies = 1 / np.linspace(1.5, 1.6, 3)"
   ]
  },
  {
   "cell_type": "code",
   "execution_count": null,
   "metadata": {},
   "outputs": [],
   "source": [
    "minimum_length = 0.09  # minimum length scale (microns)\n",
    "eta_i = (\n",
    "    0.5  # blueprint (or intermediate) design field thresholding point (between 0 and 1)\n",
    ")\n",
    "eta_e = 0.55  # erosion design field thresholding point (between 0 and 1)\n",
    "eta_d = 1 - eta_e  # dilation design field thresholding point (between 0 and 1)\n",
    "filter_radius = mpa.get_conic_radius_from_eta_e(minimum_length, eta_e)\n",
    "print(filter_radius)\n",
    "design_region_resolution = int(1 * resolution)"
   ]
  },
  {
   "cell_type": "code",
   "execution_count": null,
   "metadata": {},
   "outputs": [],
   "source": [
    "Sx = 2 * pml_size + 2 * waveguide_length + design_region_width + 2\n",
    "Sy = 2 * pml_size + design_region_height + 2\n",
    "cell_size = mp.Vector3(Sx, Sy)\n",
    "\n",
    "pml_layers = [mp.PML(pml_size)]\n",
    "\n",
    "fcen = 1 / 1.55\n",
    "width = 0.2\n",
    "fwidth = width * fcen\n",
    "source_center = [-Sx / 2 + pml_size + waveguide_length / 3, 0, 0]\n",
    "source_size = mp.Vector3(0, Sy, 0)\n",
    "kpoint = mp.Vector3(1, 0, 0)\n",
    "src = mp.GaussianSource(frequency=fcen, fwidth=fwidth)\n",
    "source = [\n",
    "    mp.EigenModeSource(\n",
    "        src,\n",
    "        eig_band=1,\n",
    "        direction=mp.NO_DIRECTION,\n",
    "        eig_kpoint=kpoint,\n",
    "        size=source_size,\n",
    "        center=source_center,\n",
    "    )\n",
    "]"
   ]
  },
  {
   "cell_type": "code",
   "execution_count": null,
   "metadata": {},
   "outputs": [],
   "source": [
    "Nx = int(design_region_resolution * design_region_width)\n",
    "Ny = int(design_region_resolution * design_region_height)\n",
    "\n",
    "design_variables = mp.MaterialGrid(mp.Vector3(Nx, Ny), SiO2, Si)\n",
    "design_region = mpa.DesignRegion(\n",
    "    design_variables,\n",
    "    volume=mp.Volume(\n",
    "        center=mp.Vector3(),\n",
    "        size=mp.Vector3(design_region_width, design_region_height, 0),\n",
    "    ),\n",
    ")"
   ]
  },
  {
   "cell_type": "code",
   "execution_count": null,
   "metadata": {},
   "outputs": [],
   "source": [
    "x_g = np.linspace(-design_region_width / 2, design_region_width / 2, Nx)\n",
    "y_g = np.linspace(-design_region_height / 2, design_region_height / 2, Ny)\n",
    "X_g, Y_g = np.meshgrid(x_g, y_g, sparse=True, indexing=\"ij\")\n",
    "\n",
    "left_wg_mask = (X_g == -design_region_width / 2) & (np.abs(Y_g) <= waveguide_width / 2)\n",
    "top_wg_mask = (Y_g == design_region_width / 2) & (np.abs(X_g) <= waveguide_width / 2)\n",
    "Si_mask = left_wg_mask | top_wg_mask\n",
    "\n",
    "border_mask = (\n",
    "    (X_g == -design_region_width / 2)\n",
    "    | (X_g == design_region_width / 2)\n",
    "    | (Y_g == -design_region_height / 2)\n",
    "    | (Y_g == design_region_height / 2)\n",
    ")\n",
    "SiO2_mask = border_mask.copy()\n",
    "SiO2_mask[Si_mask] = False"
   ]
  },
  {
   "cell_type": "code",
   "execution_count": null,
   "metadata": {},
   "outputs": [],
   "source": [
    "def mapping(x, eta, beta):\n",
    "    x = npa.where(Si_mask.flatten(), 1, npa.where(SiO2_mask.flatten(), 0, x))\n",
    "    # filter\n",
    "    filtered_field = mpa.conic_filter(\n",
    "        x,\n",
    "        filter_radius,\n",
    "        design_region_width,\n",
    "        design_region_height,\n",
    "        design_region_resolution,\n",
    "    )\n",
    "\n",
    "    # projection\n",
    "    projected_field = mpa.tanh_projection(filtered_field, beta, eta)\n",
    "\n",
    "    # interpolate to actual materials\n",
    "    return projected_field.flatten()"
   ]
  },
  {
   "cell_type": "markdown",
   "metadata": {},
   "source": [
    "When building the geometry, we removed the symmetry requirement to have more flexibility."
   ]
  },
  {
   "cell_type": "code",
   "execution_count": null,
   "metadata": {},
   "outputs": [],
   "source": [
    "geometry = [\n",
    "    mp.Block(\n",
    "        center=mp.Vector3(x=-Sx / 4), material=Si, size=mp.Vector3(Sx / 2, 0.5, 0)\n",
    "    ),  # horizontal waveguide\n",
    "    mp.Block(\n",
    "        center=mp.Vector3(y=Sy / 4), material=Si, size=mp.Vector3(0.5, Sy / 2, 0)\n",
    "    ),  # vertical waveguide\n",
    "    mp.Block(\n",
    "        center=design_region.center, size=design_region.size, material=design_variables\n",
    "    ),  # design region\n",
    "]\n",
    "\n",
    "sim = mp.Simulation(\n",
    "    cell_size=cell_size,\n",
    "    boundary_layers=pml_layers,\n",
    "    geometry=geometry,\n",
    "    sources=source,\n",
    "    default_material=SiO2,\n",
    "    resolution=resolution,\n",
    ")"
   ]
  },
  {
   "cell_type": "markdown",
   "metadata": {},
   "source": [
    "Defining mpa.FourierFields is similar to define mpa.EigenmodeCoefficient, but we pass a component of interest intead of mode number. We can define several components, and let the objective be a function of them simultaneously.\n",
    "\n",
    "The first axis of the value returned by Fourier Fields corresponds to the index of frequency; the rest has the dimensions of the monitor. In this case, it is 1D, so we simply provide the index of point at which we would like to optimize the fields.\n",
    "\n",
    "The objective function can involve several fields component, at several frequencies, and involve several points. Since we specify the points by indices, it is probably more common to have an objective as an average/sum of values at all points, where we don't need specific indices and just use `:` instead.\n",
    "\n",
    "Also note that the optimization problem includes a wider frequency spectrum, but the particular objective defined below depends on one frequency only. Alternatively, we can define a single frequency from the start."
   ]
  },
  {
   "cell_type": "code",
   "execution_count": null,
   "metadata": {},
   "outputs": [],
   "source": [
    "Ez_top = mpa.FourierFields(\n",
    "    sim,\n",
    "    mp.Volume(\n",
    "        center=mp.Vector3(0, Sy / 2 - pml_size - 0.1, 0),\n",
    "        size=mp.Vector3(x=waveguide_width),\n",
    "    ),\n",
    "    mp.Ez,\n",
    ")\n",
    "ob_list = [Ez_top]\n",
    "\n",
    "\n",
    "def J(top):\n",
    "    power = npa.abs(top[1, 7]) ** 2\n",
    "    return power"
   ]
  },
  {
   "cell_type": "markdown",
   "metadata": {},
   "source": [
    "Just as we increased the resolution, we decreased the decay_by to $10^{-6}$ to increase the accuracy of the adjoint gradient. We also increase the number of iterations for each `beta`."
   ]
  },
  {
   "cell_type": "code",
   "execution_count": null,
   "metadata": {},
   "outputs": [],
   "source": [
    "opt = mpa.OptimizationProblem(\n",
    "    simulation=sim,\n",
    "    objective_functions=J,\n",
    "    objective_arguments=ob_list,\n",
    "    design_regions=[design_region],\n",
    "    frequencies=frequencies,\n",
    "    decay_by=1e-6,\n",
    "    decay_fields=[mp.Ez],\n",
    ")"
   ]
  },
  {
   "cell_type": "code",
   "execution_count": null,
   "metadata": {},
   "outputs": [],
   "source": [
    "rho_vector = np.random.rand(Nx * Ny)\n",
    "opt.update_design([mapping(rho_vector, eta_i, 1e3)])\n",
    "opt.plot2D(True)\n",
    "plt.show()"
   ]
  },
  {
   "cell_type": "code",
   "execution_count": null,
   "metadata": {},
   "outputs": [],
   "source": [
    "evaluation_history = []\n",
    "cur_iter = [0]\n",
    "\n",
    "\n",
    "def f(v, gradient, cur_beta):\n",
    "    print(\"Current iteration: {}\".format(cur_iter[0] + 1))\n",
    "\n",
    "    f0, dJ_du = opt([mapping(v, eta_i, cur_beta)])  # compute objective and gradient\n",
    "\n",
    "    if gradient.size > 0:\n",
    "        gradient[:] = tensor_jacobian_product(mapping, 0)(\n",
    "            v, eta_i, cur_beta, np.sum(dJ_du, axis=1)\n",
    "        )  # backprop\n",
    "\n",
    "    evaluation_history.append(np.real(f0))\n",
    "\n",
    "    plt.figure()\n",
    "    ax = plt.gca()\n",
    "    opt.plot2D(\n",
    "        False,\n",
    "        ax=ax,\n",
    "        plot_sources_flag=False,\n",
    "        plot_monitors_flag=False,\n",
    "        plot_boundaries_flag=False,\n",
    "    )\n",
    "    circ = Circle((2, 2), minimum_length / 2)\n",
    "    ax.add_patch(circ)\n",
    "    ax.axis(\"off\")\n",
    "    # plt.savefig('media/bend_{:03d}.png'.format(cur_iter[0]),dpi=300)\n",
    "    plt.show()\n",
    "\n",
    "    cur_iter[0] = cur_iter[0] + 1\n",
    "\n",
    "    return np.real(f0)"
   ]
  },
  {
   "cell_type": "code",
   "execution_count": null,
   "metadata": {},
   "outputs": [],
   "source": [
    "algorithm = nlopt.LD_MMA\n",
    "n = Nx * Ny  # number of parameters\n",
    "\n",
    "# Initial guess\n",
    "x = np.ones((n,)) * 0.5\n",
    "x[Si_mask.flatten()] = 1  # set the edges of waveguides to silicon\n",
    "x[SiO2_mask.flatten()] = 0  # set the other edges to SiO2\n",
    "\n",
    "# lower and upper bounds\n",
    "lb = np.zeros((Nx * Ny,))\n",
    "lb[Si_mask.flatten()] = 1\n",
    "ub = np.ones((Nx * Ny,))\n",
    "ub[SiO2_mask.flatten()] = 0\n",
    "\n",
    "cur_beta = 4\n",
    "beta_scale = 2\n",
    "num_betas = 6\n",
    "update_factor = 15\n",
    "for iters in range(num_betas):\n",
    "    solver = nlopt.opt(algorithm, n)\n",
    "    solver.set_lower_bounds(lb)\n",
    "    solver.set_upper_bounds(ub)\n",
    "    solver.set_max_objective(lambda a, g: f(a, g, cur_beta))\n",
    "    solver.set_maxeval(update_factor)\n",
    "    solver.set_xtol_rel(1e-4)\n",
    "    x[:] = solver.optimize(x)\n",
    "    cur_beta = cur_beta * beta_scale"
   ]
  },
  {
   "cell_type": "markdown",
   "metadata": {},
   "source": [
    "We'll wait for a few minutes (or longer) and visualize the results. We see that every time `beta` increases it either drives the cost function out of a local minimum or into a poorer spot. It gets harder to converge as `beta` increases. This is expected as the gradient starts to swing wildy at these thresholded transition regions. Regardless, we are still able to generate a somewhat smoothed structure after just 72 iterations."
   ]
  },
  {
   "cell_type": "code",
   "execution_count": null,
   "metadata": {},
   "outputs": [],
   "source": [
    "plt.figure()\n",
    "plt.plot((evaluation_history), \"o-\")\n",
    "plt.grid(True)\n",
    "plt.xlabel(\"Iteration\")\n",
    "plt.ylabel(\"FOM\")\n",
    "plt.show()"
   ]
  },
  {
   "cell_type": "code",
   "execution_count": null,
   "metadata": {},
   "outputs": [],
   "source": [
    "opt.update_design([mapping(x, eta_i, cur_beta)])\n",
    "plt.figure()\n",
    "ax = plt.gca()\n",
    "opt.plot2D(\n",
    "    False,\n",
    "    ax=ax,\n",
    "    plot_sources_flag=False,\n",
    "    plot_monitors_flag=False,\n",
    "    plot_boundaries_flag=False,\n",
    ")\n",
    "circ = Circle((2, 2), minimum_length / 2)\n",
    "ax.add_patch(circ)\n",
    "ax.axis(\"off\")\n",
    "plt.show()"
   ]
  },
  {
   "cell_type": "markdown",
   "metadata": {},
   "source": [
    "We can plot the fields of the monitor at different for the frequency of interest. We can see that indeed the point with index 7 has the largest value, as expected."
   ]
  },
  {
   "cell_type": "code",
   "execution_count": null,
   "metadata": {},
   "outputs": [],
   "source": [
    "f0, dJ_du = opt([mapping(x, eta_i, cur_beta)], need_gradient=False)\n",
    "Ez_coef = opt.get_objective_arguments()[0]\n",
    "plt.figure()\n",
    "plt.plot(np.abs(Ez_coef[1, :]) ** 2, \"-o\")\n",
    "plt.show()"
   ]
  },
  {
   "cell_type": "code",
   "execution_count": null,
   "metadata": {},
   "outputs": [],
   "source": [
    "src = mp.ContinuousSource(frequency=1 / 1.55, fwidth=fwidth)\n",
    "source = [\n",
    "    mp.EigenModeSource(\n",
    "        src,\n",
    "        eig_band=1,\n",
    "        direction=mp.NO_DIRECTION,\n",
    "        eig_kpoint=kpoint,\n",
    "        size=source_size,\n",
    "        center=source_center,\n",
    "    )\n",
    "]\n",
    "opt.sim.change_sources(source)\n",
    "opt.sim.run(until=500)\n",
    "opt.sim.plot2D(fields=mp.Ez)"
   ]
  },
  {
   "cell_type": "code",
   "execution_count": null,
   "metadata": {},
   "outputs": [],
   "source": []
  }
 ],
 "metadata": {
  "kernelspec": {
   "display_name": "Python 3",
   "language": "python",
   "name": "python3"
  },
  "language_info": {
   "codemirror_mode": {
    "name": "ipython",
    "version": 3
   },
   "file_extension": ".py",
   "mimetype": "text/x-python",
   "name": "python",
   "nbconvert_exporter": "python",
   "pygments_lexer": "ipython3",
   "version": "3.8.3"
  }
 },
 "nbformat": 4,
 "nbformat_minor": 4
}

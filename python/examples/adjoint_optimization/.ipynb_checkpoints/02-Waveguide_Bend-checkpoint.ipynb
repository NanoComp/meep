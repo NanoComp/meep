{
 "cells": [
  {
   "cell_type": "markdown",
   "metadata": {},
   "source": [
    "# Waveguide Bend Optimization\n",
    "\n",
    "In this tutorial, we'll examine how we can use Meep's adjoint solver to optimize for a particular design criteria. Specifcally, we'll maximize the transmission around a silicon waveguide bend. This tutorial will illustrate the adjoint solver's ability to quickly calculate gradients for objective functions with multiple objective quantities.\n",
    "\n",
    "To begin, we'll import meep, our adjoint module, `autograd` (as before) and we will also import `nlopt`, a nonlinear optimization package."
   ]
  },
  {
   "cell_type": "code",
   "execution_count": null,
   "metadata": {},
   "outputs": [],
   "source": [
    "import meep as mp\n",
    "import meep.adjoint as mpa\n",
    "import numpy as np\n",
    "from autograd import numpy as npa\n",
    "import nlopt\n",
    "from matplotlib import pyplot as plt\n",
    "\n",
    "mp.verbosity(0)\n",
    "Si = mp.Medium(index=3.4)\n",
    "SiO2 = mp.Medium(index=1.44)"
   ]
  },
  {
   "cell_type": "markdown",
   "metadata": {},
   "source": [
    "Next, we'll build a 90 degree bend waveguide with a design region that is 1 micron by 1 micron. We'll discretize our region into a 10 x 10 grid (100 total parameters). We'll send in a narrowband gaussian pulse centered at 1550 nm. We'll also use the same objective function and optimizer object as before."
   ]
  },
  {
   "cell_type": "code",
   "execution_count": null,
   "metadata": {},
   "outputs": [],
   "source": [
    "resolution = 20\n",
    "\n",
    "Sx = 6\n",
    "Sy = 5\n",
    "cell_size = mp.Vector3(Sx, Sy)\n",
    "\n",
    "pml_layers = [mp.PML(1.0)]\n",
    "\n",
    "fcen = 1 / 1.55\n",
    "width = 0.2\n",
    "fwidth = width * fcen\n",
    "source_center = [-1.5, 0, 0]\n",
    "source_size = mp.Vector3(0, 2, 0)\n",
    "kpoint = mp.Vector3(1, 0, 0)\n",
    "src = mp.GaussianSource(frequency=fcen, fwidth=fwidth)\n",
    "source = [\n",
    "    mp.EigenModeSource(\n",
    "        src,\n",
    "        eig_band=1,\n",
    "        direction=mp.NO_DIRECTION,\n",
    "        eig_kpoint=kpoint,\n",
    "        size=source_size,\n",
    "        center=source_center,\n",
    "    )\n",
    "]\n",
    "\n",
    "design_region_resolution = 10\n",
    "Nx = design_region_resolution\n",
    "Ny = design_region_resolution\n",
    "\n",
    "design_variables = mp.MaterialGrid(mp.Vector3(Nx, Ny), SiO2, Si, grid_type=\"U_MEAN\")\n",
    "design_region = mpa.DesignRegion(\n",
    "    design_variables, volume=mp.Volume(center=mp.Vector3(), size=mp.Vector3(1, 1, 0))\n",
    ")\n",
    "\n",
    "\n",
    "geometry = [\n",
    "    mp.Block(\n",
    "        center=mp.Vector3(x=-Sx / 4), material=Si, size=mp.Vector3(Sx / 2, 0.5, 0)\n",
    "    ),  # horizontal waveguide\n",
    "    mp.Block(\n",
    "        center=mp.Vector3(y=Sy / 4), material=Si, size=mp.Vector3(0.5, Sy / 2, 0)\n",
    "    ),  # vertical waveguide\n",
    "    mp.Block(\n",
    "        center=design_region.center, size=design_region.size, material=design_variables\n",
    "    ),  # design region\n",
    "    # mp.Block(center=design_region.center, size=design_region.size, material=design_variables,\n",
    "    #         e1=mp.Vector3(x=-1).rotate(mp.Vector3(z=1), np.pi/2), e2=mp.Vector3(y=1).rotate(mp.Vector3(z=1), np.pi/2))\n",
    "    #\n",
    "    # The commented lines above impose symmetry by overlapping design region with the same design variable. However,\n",
    "    # currently there is an issue of doing that; We give an alternative approach to impose symmetry in later tutorials.\n",
    "    # See https://github.com/NanoComp/meep/issues/1984 and https://github.com/NanoComp/meep/issues/2093\n",
    "]\n",
    "\n",
    "sim = mp.Simulation(\n",
    "    cell_size=cell_size,\n",
    "    boundary_layers=pml_layers,\n",
    "    geometry=geometry,\n",
    "    sources=source,\n",
    "    eps_averaging=False,\n",
    "    resolution=resolution,\n",
    ")\n",
    "\n",
    "TE_top = mpa.EigenmodeCoefficient(\n",
    "    sim, mp.Volume(center=mp.Vector3(0, 1, 0), size=mp.Vector3(x=2)), mode=1\n",
    ")\n",
    "ob_list = [TE_top]\n",
    "\n",
    "\n",
    "def J(alpha):\n",
    "    return npa.abs(alpha) ** 2\n",
    "\n",
    "\n",
    "opt = mpa.OptimizationProblem(\n",
    "    simulation=sim,\n",
    "    objective_functions=J,\n",
    "    objective_arguments=ob_list,\n",
    "    design_regions=[design_region],\n",
    "    fcen=fcen,\n",
    "    df=0,\n",
    "    nf=1,\n",
    ")"
   ]
  },
  {
   "cell_type": "markdown",
   "metadata": {},
   "source": [
    "As before, we'll visualize everything to ensure our monitors, boundary layers, and geometry are drawn correctly."
   ]
  },
  {
   "cell_type": "code",
   "execution_count": null,
   "metadata": {},
   "outputs": [],
   "source": [
    "x0 = 0.5 * np.ones((Nx * Ny,))\n",
    "opt.update_design([x0])\n",
    "\n",
    "opt.plot2D(True)\n",
    "plt.show()"
   ]
  },
  {
   "cell_type": "markdown",
   "metadata": {},
   "source": [
    "We can now define a cost function wrapper that we can feed into our `nlopt` optimizer. `nlopt` expects a python function where the gradient is passed in place. In addition, we'll update a list with every objective function call so we can track the cost function evolution each iteration.\n",
    "\n",
    "Notice the `opt` adjoint solver object requires we pass our numpy array of design parameters within an additional list. This is because the adjoint solver can solve for multiple design regions simultaneously. It's useful to break up each region's parameters into indvidual numpy arrays. In this simple example, we only have one design region."
   ]
  },
  {
   "cell_type": "code",
   "execution_count": null,
   "metadata": {},
   "outputs": [],
   "source": [
    "evaluation_history = []\n",
    "sensitivity = [0]\n",
    "\n",
    "\n",
    "def f(x, grad):\n",
    "    f0, dJ_du = opt([x])\n",
    "    f0 = f0[0]  # f0 is an array of length 1\n",
    "    if grad.size > 0:\n",
    "        grad[:] = np.squeeze(dJ_du)\n",
    "    evaluation_history.append(np.real(f0))\n",
    "    sensitivity[0] = dJ_du\n",
    "    return np.real(f0)"
   ]
  },
  {
   "cell_type": "markdown",
   "metadata": {},
   "source": [
    "Now we can set up the actual optimizer engine. We'll select the Method of Moving Asymptotes because it's a gradient based method that allows us to specify linear and nonlinear constraints. For now, we'll simply bound our parameters between 0 and 1.\n",
    "\n",
    "We'll tell our solver to maximize (rather than minimize) our cost function, since we are trying to maximize the power transmission around the bend.\n",
    "\n",
    "We'll also tell the optimizer to stop after 10 function calls. This will keep the wait time short and demonstrate how powerful the adjoint solver is."
   ]
  },
  {
   "cell_type": "code",
   "execution_count": null,
   "metadata": {},
   "outputs": [],
   "source": [
    "algorithm = nlopt.LD_MMA\n",
    "n = Nx * Ny\n",
    "maxeval = 10\n",
    "\n",
    "solver = nlopt.opt(algorithm, n)\n",
    "solver.set_lower_bounds(0)\n",
    "solver.set_upper_bounds(1)\n",
    "solver.set_max_objective(f)\n",
    "solver.set_maxeval(maxeval)"
   ]
  },
  {
   "cell_type": "code",
   "execution_count": null,
   "metadata": {},
   "outputs": [],
   "source": [
    "x = solver.optimize(x0);"
   ]
  },
  {
   "cell_type": "markdown",
   "metadata": {},
   "source": [
    "Now that the solver is done running, we can evaluate our progress."
   ]
  },
  {
   "cell_type": "code",
   "execution_count": null,
   "metadata": {},
   "outputs": [],
   "source": [
    "plt.figure()\n",
    "plt.plot(evaluation_history, \"o-\")\n",
    "plt.grid(True)\n",
    "plt.xlabel(\"Iteration\")\n",
    "plt.ylabel(\"FOM\")\n",
    "plt.show()"
   ]
  },
  {
   "cell_type": "markdown",
   "metadata": {},
   "source": [
    "We can update our optimization object and visualize the results."
   ]
  },
  {
   "cell_type": "code",
   "execution_count": null,
   "metadata": {},
   "outputs": [],
   "source": [
    "opt.update_design([x])\n",
    "opt.plot2D(\n",
    "    True,\n",
    "    plot_monitors_flag=False,\n",
    "    output_plane=mp.Volume(center=(0, 0, 0), size=(2, 2, 0)),\n",
    ")\n",
    "plt.axis(\"off\");"
   ]
  },
  {
   "cell_type": "markdown",
   "metadata": {},
   "source": [
    "We quickly see that the solver improves the design, but because of the way we chose to formulate our cost function, it's difficult to quantify our results. After all, how good is a figure of merit (FOM) of 70?\n",
    "\n",
    "To overcome this, we'll slightly modify our objective function to include an extra monitor just after the source. This monitor will track however much power is transmitted into the waveguide. We can then normalize the upper monitor's response by this parameter:"
   ]
  },
  {
   "cell_type": "code",
   "execution_count": null,
   "metadata": {},
   "outputs": [],
   "source": [
    "TE0 = mpa.EigenmodeCoefficient(\n",
    "    sim, mp.Volume(center=mp.Vector3(-1, 0, 0), size=mp.Vector3(y=2)), mode=1\n",
    ")\n",
    "ob_list = [TE0, TE_top]\n",
    "\n",
    "\n",
    "def J(source, top):\n",
    "    return npa.abs(top / source) ** 2\n",
    "\n",
    "\n",
    "opt.objective_functions = [J]\n",
    "opt.objective_arguments = ob_list\n",
    "opt.update_design([x0])"
   ]
  },
  {
   "cell_type": "markdown",
   "metadata": {},
   "source": [
    "We'll refresh our solver and try optimizing again:"
   ]
  },
  {
   "cell_type": "code",
   "execution_count": null,
   "metadata": {},
   "outputs": [],
   "source": [
    "evaluation_history = []\n",
    "solver = nlopt.opt(algorithm, n)\n",
    "solver.set_lower_bounds(0)\n",
    "solver.set_upper_bounds(1)\n",
    "solver.set_max_objective(f)\n",
    "solver.set_maxeval(maxeval)\n",
    "x = solver.optimize(x0)"
   ]
  },
  {
   "cell_type": "markdown",
   "metadata": {},
   "source": [
    "We can view our results and normalize the FOM as the percent power transmission."
   ]
  },
  {
   "cell_type": "code",
   "execution_count": null,
   "metadata": {},
   "outputs": [],
   "source": [
    "plt.figure()\n",
    "plt.plot(np.array(evaluation_history) * 100, \"o-\")\n",
    "plt.grid(True)\n",
    "plt.xlabel(\"Iteration\")\n",
    "plt.ylabel(\"Transmission (%)\")\n",
    "plt.show()"
   ]
  },
  {
   "cell_type": "markdown",
   "metadata": {},
   "source": [
    "We once again clearly see great improvement, from about 5% transmission to about 85%, after just 10 iterations!"
   ]
  },
  {
   "cell_type": "code",
   "execution_count": null,
   "metadata": {},
   "outputs": [],
   "source": [
    "improvement = max(evaluation_history) / min(evaluation_history)\n",
    "print(\"Achieved an improvement of {0:1.1f}x\".format(improvement))"
   ]
  },
  {
   "cell_type": "markdown",
   "metadata": {},
   "source": [
    "Finally, we can visualize our new geometry. We see that the design region naturally connected the two waveguide segements in a bend fashion and has placed several other distinctive features around the curve."
   ]
  },
  {
   "cell_type": "code",
   "execution_count": null,
   "metadata": {},
   "outputs": [],
   "source": [
    "opt.update_design([x])\n",
    "opt.plot2D(\n",
    "    True,\n",
    "    plot_monitors_flag=False,\n",
    "    output_plane=mp.Volume(center=(0, 0, 0), size=(2, 2, 0)),\n",
    ")\n",
    "plt.axis(\"off\");"
   ]
  },
  {
   "cell_type": "markdown",
   "metadata": {},
   "source": [
    "We can also visualize the sensitivity to see which geometric areas are most sensitive to perturbations."
   ]
  },
  {
   "cell_type": "code",
   "execution_count": null,
   "metadata": {},
   "outputs": [],
   "source": [
    "plt.imshow(np.rot90(np.squeeze(np.abs(sensitivity[0].reshape(Nx, Ny)))));"
   ]
  }
 ],
 "metadata": {
  "@webio": {
   "lastCommId": null,
   "lastKernelId": null
  },
  "kernelspec": {
   "display_name": "Python 3 (ipykernel)",
   "language": "python",
   "name": "python3"
  },
  "language_info": {
   "codemirror_mode": {
    "name": "ipython",
    "version": 3
   },
   "file_extension": ".py",
   "mimetype": "text/x-python",
   "name": "python",
   "nbconvert_exporter": "python",
   "pygments_lexer": "ipython3",
   "version": "3.9.7"
  }
 },
 "nbformat": 4,
 "nbformat_minor": 4
}

{
 "cells": [
  {
   "cell_type": "markdown",
   "metadata": {},
   "source": [
    "# Design of a Symmetric Broadband Splitter\n",
    "\n",
    "Many devices of interest can leverage some form of simulation symmetry to reduce the computational cost and storage requirements. The adjoint solver and its corresponding TO filter toolbox are built to work with these symmetries.\n",
    "\n",
    "To demonstrate this, we look at a symmetric, broadband splitter."
   ]
  },
  {
   "cell_type": "code",
   "execution_count": null,
   "metadata": {},
   "outputs": [],
   "source": [
    "import meep as mp\n",
    "import meep.adjoint as mpa\n",
    "import autograd.numpy as npa\n",
    "from autograd import tensor_jacobian_product, grad\n",
    "import numpy as np\n",
    "from matplotlib import pyplot as plt\n",
    "from matplotlib.patches import Circle\n",
    "import nlopt\n",
    "\n",
    "seed = 240\n",
    "np.random.seed(seed)\n",
    "mp.quiet(quietval=True)\n",
    "Si = mp.Medium(index=3.4)\n",
    "SiO2 = mp.Medium(index=1.44)"
   ]
  },
  {
   "cell_type": "markdown",
   "metadata": {},
   "source": [
    "As before, we'll define our geometry, filtering, and wavelength parameters."
   ]
  },
  {
   "cell_type": "code",
   "execution_count": null,
   "metadata": {},
   "outputs": [],
   "source": [
    "waveguide_width = 0.5\n",
    "design_region_width = 2.5\n",
    "design_region_height = 2.5\n",
    "arm_separation = 1.0\n",
    "waveguide_length = 0.5\n",
    "pml_size = 1.0\n",
    "resolution = 20\n",
    "\n",
    "minimum_length = 0.09\n",
    "eta_e = 0.55\n",
    "filter_radius = mpa.get_conic_radius_from_eta_e(minimum_length, eta_e)\n",
    "eta_i = 0.5\n",
    "eta_d = 1 - eta_e\n",
    "design_region_resolution = int(5 * resolution)\n",
    "\n",
    "frequencies = 1 / np.linspace(1.5, 1.6, 10)\n",
    "# print(1/frequencies)"
   ]
  },
  {
   "cell_type": "markdown",
   "metadata": {},
   "source": [
    "We'll also define our simulation domain and set up a broadband source."
   ]
  },
  {
   "cell_type": "code",
   "execution_count": null,
   "metadata": {},
   "outputs": [],
   "source": [
    "Sx = 2 * pml_size + 2 * waveguide_length + design_region_width\n",
    "Sy = 2 * pml_size + design_region_height + 0.5\n",
    "cell_size = mp.Vector3(Sx, Sy)\n",
    "\n",
    "pml_layers = [mp.PML(pml_size)]\n",
    "\n",
    "fcen = 1 / 1.56\n",
    "width = 0.2\n",
    "fwidth = width * fcen\n",
    "source_center = [-Sx / 2 + pml_size + waveguide_length / 3, 0, 0]\n",
    "source_size = mp.Vector3(0, 2, 0)\n",
    "kpoint = mp.Vector3(1, 0, 0)\n",
    "src = mp.GaussianSource(frequency=fcen, fwidth=fwidth)\n",
    "source = [\n",
    "    mp.EigenModeSource(\n",
    "        src,\n",
    "        eig_band=1,\n",
    "        direction=mp.NO_DIRECTION,\n",
    "        eig_kpoint=kpoint,\n",
    "        size=source_size,\n",
    "        center=source_center,\n",
    "    )\n",
    "]"
   ]
  },
  {
   "cell_type": "markdown",
   "metadata": {},
   "source": [
    "Next, we'll define our design region. This time, however, we'll include a symmetry across the Y plane (normal direction of the symmetry plane points in the Y direction)."
   ]
  },
  {
   "cell_type": "code",
   "execution_count": null,
   "metadata": {},
   "outputs": [],
   "source": [
    "Nx = int(design_region_resolution * design_region_width)\n",
    "Ny = int(design_region_resolution * design_region_height)\n",
    "\n",
    "design_variables = mp.MaterialGrid(mp.Vector3(Nx, Ny), SiO2, Si, grid_type=\"U_MEAN\")\n",
    "design_region = mpa.DesignRegion(\n",
    "    design_variables,\n",
    "    volume=mp.Volume(\n",
    "        center=mp.Vector3(),\n",
    "        size=mp.Vector3(design_region_width, design_region_height, 0),\n",
    "    ),\n",
    ")"
   ]
  },
  {
   "cell_type": "markdown",
   "metadata": {},
   "source": [
    "We'll define a filtering and interpolation function. We need to include the symmetry requirements in the filter too."
   ]
  },
  {
   "cell_type": "code",
   "execution_count": null,
   "metadata": {},
   "outputs": [],
   "source": [
    "def mapping(x, eta, beta):\n",
    "    # filter\n",
    "    filtered_field = mpa.conic_filter(\n",
    "        x,\n",
    "        filter_radius,\n",
    "        design_region_width,\n",
    "        design_region_height,\n",
    "        design_region_resolution,\n",
    "    )\n",
    "\n",
    "    # projection\n",
    "    projected_field = mpa.tanh_projection(filtered_field, beta, eta)\n",
    "\n",
    "    # interpolate to actual materials\n",
    "    return projected_field.flatten()"
   ]
  },
  {
   "cell_type": "markdown",
   "metadata": {},
   "source": [
    "We also need to define a bitmask that describes the boundary conditions of the waveguide and cladding layers."
   ]
  },
  {
   "cell_type": "code",
   "execution_count": null,
   "metadata": {},
   "outputs": [],
   "source": [
    "# Define spatial arrays used to generate bit masks\n",
    "x_g = np.linspace(-design_region_width / 2, design_region_width / 2, Nx)\n",
    "y_g = np.linspace(-design_region_height / 2, design_region_height / 2, Ny)\n",
    "X_g, Y_g = np.meshgrid(x_g, y_g, sparse=True, indexing=\"ij\")\n",
    "\n",
    "# Define the core mask\n",
    "left_wg_mask = (X_g == -design_region_width / 2) & (np.abs(Y_g) <= waveguide_width / 2)\n",
    "top_right_wg_mask = (X_g == design_region_width / 2) & (\n",
    "    np.abs(Y_g + arm_separation / 2) <= waveguide_width / 2\n",
    ")\n",
    "bottom_right_wg_mask = (X_g == design_region_width / 2) & (\n",
    "    np.abs(Y_g - arm_separation / 2) <= waveguide_width / 2\n",
    ")\n",
    "Si_mask = left_wg_mask | top_right_wg_mask | bottom_right_wg_mask\n",
    "\n",
    "# Define the cladding mask\n",
    "border_mask = (\n",
    "    (X_g == -design_region_width / 2)\n",
    "    | (X_g == design_region_width / 2)\n",
    "    | (Y_g == -design_region_height / 2)\n",
    "    | (Y_g == design_region_height / 2)\n",
    ")\n",
    "SiO2_mask = border_mask.copy()\n",
    "SiO2_mask[Si_mask] = False"
   ]
  },
  {
   "cell_type": "markdown",
   "metadata": {},
   "source": [
    "Finally we can formulate our geometry and simulation object."
   ]
  },
  {
   "cell_type": "code",
   "execution_count": null,
   "metadata": {},
   "outputs": [],
   "source": [
    "geometry = [\n",
    "    mp.Block(\n",
    "        center=mp.Vector3(x=-Sx / 4),\n",
    "        material=Si,\n",
    "        size=mp.Vector3(Sx / 2 + 1, waveguide_width, 0),\n",
    "    ),  # left waveguide\n",
    "    mp.Block(\n",
    "        center=mp.Vector3(x=Sx / 4, y=arm_separation / 2),\n",
    "        material=Si,\n",
    "        size=mp.Vector3(Sx / 2 + 1, waveguide_width, 0),\n",
    "    ),  # top right waveguide\n",
    "    mp.Block(\n",
    "        center=mp.Vector3(x=Sx / 4, y=-arm_separation / 2),\n",
    "        material=Si,\n",
    "        size=mp.Vector3(Sx / 2 + 1, waveguide_width, 0),\n",
    "    ),  # bottom right waveguide\n",
    "    mp.Block(\n",
    "        center=design_region.center, size=design_region.size, material=design_variables\n",
    "    ),\n",
    "    mp.Block(\n",
    "        center=design_region.center,\n",
    "        size=design_region.size,\n",
    "        material=design_variables,\n",
    "        e2=mp.Vector3(y=-1),\n",
    "    ),\n",
    "]\n",
    "\n",
    "sim = mp.Simulation(\n",
    "    cell_size=cell_size,\n",
    "    boundary_layers=pml_layers,\n",
    "    geometry=geometry,\n",
    "    sources=source,\n",
    "    symmetries=[mp.Mirror(direction=mp.Y)],\n",
    "    default_material=SiO2,\n",
    "    resolution=resolution,\n",
    ")"
   ]
  },
  {
   "cell_type": "markdown",
   "metadata": {},
   "source": [
    "We can proceed to define our objective function, its corresponding arguments, and the optimization object."
   ]
  },
  {
   "cell_type": "code",
   "execution_count": null,
   "metadata": {},
   "outputs": [],
   "source": [
    "mode = 1\n",
    "\n",
    "TE0 = mpa.EigenmodeCoefficient(\n",
    "    sim,\n",
    "    mp.Volume(\n",
    "        center=mp.Vector3(x=-Sx / 2 + pml_size + 2 * waveguide_length / 3),\n",
    "        size=mp.Vector3(y=1.5),\n",
    "    ),\n",
    "    mode,\n",
    ")\n",
    "TE_top = mpa.EigenmodeCoefficient(\n",
    "    sim,\n",
    "    mp.Volume(\n",
    "        center=mp.Vector3(\n",
    "            Sx / 2 - pml_size - 2 * waveguide_length / 3, arm_separation / 2, 0\n",
    "        ),\n",
    "        size=mp.Vector3(y=arm_separation),\n",
    "    ),\n",
    "    mode,\n",
    ")\n",
    "TE_bottom = mpa.EigenmodeCoefficient(\n",
    "    sim,\n",
    "    mp.Volume(\n",
    "        center=mp.Vector3(\n",
    "            Sx / 2 - pml_size - 2 * waveguide_length / 3, -arm_separation / 2, 0\n",
    "        ),\n",
    "        size=mp.Vector3(y=arm_separation),\n",
    "    ),\n",
    "    mode,\n",
    ")\n",
    "ob_list = [TE0, TE_top, TE_bottom]\n",
    "\n",
    "\n",
    "def J(source, top, bottom):\n",
    "    power = npa.abs(top / source) ** 2 + npa.abs(bottom / source) ** 2\n",
    "    return npa.mean(power)\n",
    "\n",
    "\n",
    "opt = mpa.OptimizationProblem(\n",
    "    simulation=sim,\n",
    "    objective_functions=J,\n",
    "    objective_arguments=ob_list,\n",
    "    design_regions=[design_region],\n",
    "    frequencies=frequencies,\n",
    ")"
   ]
  },
  {
   "cell_type": "markdown",
   "metadata": {},
   "source": [
    "Let's plot the design and ensure we have symmetry."
   ]
  },
  {
   "cell_type": "code",
   "execution_count": null,
   "metadata": {},
   "outputs": [],
   "source": [
    "plt.figure()\n",
    "x0 = mapping(\n",
    "    np.random.rand(\n",
    "        Nx * Ny,\n",
    "    ),\n",
    "    eta_i,\n",
    "    128,\n",
    ")\n",
    "opt.update_design([x0])\n",
    "opt.plot2D(True)\n",
    "plt.show()"
   ]
  },
  {
   "cell_type": "markdown",
   "metadata": {},
   "source": [
    "We'll define a simple objective function that returns the gradient. We'll plot the new geometry after each iteration."
   ]
  },
  {
   "cell_type": "code",
   "execution_count": null,
   "metadata": {},
   "outputs": [],
   "source": [
    "evaluation_history = []\n",
    "cur_iter = [0]\n",
    "\n",
    "\n",
    "def f(v, gradient, cur_beta):\n",
    "    print(\"Current iteration: {}\".format(cur_iter[0] + 1))\n",
    "\n",
    "    f0, dJ_du = opt([mapping(v, eta_i, cur_beta)])\n",
    "\n",
    "    plt.figure()\n",
    "    ax = plt.gca()\n",
    "    opt.plot2D(\n",
    "        False,\n",
    "        ax=ax,\n",
    "        plot_sources_flag=False,\n",
    "        plot_monitors_flag=False,\n",
    "        plot_boundaries_flag=False,\n",
    "    )\n",
    "    circ = Circle((2, 2), minimum_length / 2)\n",
    "    ax.add_patch(circ)\n",
    "    ax.axis(\"off\")\n",
    "    plt.savefig(\"media/splitter_{:03d}.png\".format(cur_iter[0]), dpi=300)\n",
    "    plt.show()\n",
    "\n",
    "    if gradient.size > 0:\n",
    "        gradient[:] = tensor_jacobian_product(mapping, 0)(\n",
    "            v, eta_i, cur_beta, np.sum(dJ_du, axis=1)\n",
    "        )\n",
    "\n",
    "    evaluation_history.append(np.max(np.real(f0)))\n",
    "\n",
    "    cur_iter[0] = cur_iter[0] + 1\n",
    "\n",
    "    return np.real(f0)"
   ]
  },
  {
   "cell_type": "markdown",
   "metadata": {},
   "source": [
    "Finally we'll run the optimizer."
   ]
  },
  {
   "cell_type": "code",
   "execution_count": null,
   "metadata": {},
   "outputs": [],
   "source": [
    "algorithm = nlopt.LD_MMA\n",
    "n = Nx * Ny  # number of parameters\n",
    "\n",
    "# Initial guess\n",
    "x = np.ones((n,)) * 0.5\n",
    "x[Si_mask.flatten()] = 1  # set the edges of waveguides to silicon\n",
    "x[SiO2_mask.flatten()] = 0  # set the other edges to SiO2\n",
    "\n",
    "# lower and upper bounds\n",
    "lb = np.zeros((Nx * Ny,))\n",
    "lb[Si_mask.flatten()] = 1\n",
    "ub = np.ones((Nx * Ny,))\n",
    "ub[SiO2_mask.flatten()] = 0\n",
    "\n",
    "cur_beta = 4\n",
    "beta_scale = 2\n",
    "num_betas = 6\n",
    "update_factor = 12\n",
    "for iters in range(num_betas):\n",
    "    print(\"current beta: \", cur_beta)\n",
    "\n",
    "    solver = nlopt.opt(algorithm, n)\n",
    "    solver.set_lower_bounds(lb)\n",
    "    solver.set_upper_bounds(ub)\n",
    "    solver.set_max_objective(lambda a, g: f(a, g, cur_beta))\n",
    "    solver.set_maxeval(update_factor)\n",
    "    solver.set_xtol_rel(1e-4)\n",
    "    x[:] = solver.optimize(x)\n",
    "    cur_beta = cur_beta * beta_scale"
   ]
  },
  {
   "cell_type": "markdown",
   "metadata": {},
   "source": [
    "We can see that the optimizer quickly finds a topology that works well and slowly refines it as we continue to \"binarize\" the design."
   ]
  },
  {
   "cell_type": "code",
   "execution_count": null,
   "metadata": {},
   "outputs": [],
   "source": [
    "plt.figure()\n",
    "plt.plot(10 * np.log10(0.5 * np.array(evaluation_history)), \"o-\")\n",
    "plt.grid(True)\n",
    "plt.xlabel(\"Iteration\")\n",
    "plt.ylabel(\"Mean Splitting Ratio (dB)\")\n",
    "plt.show()"
   ]
  },
  {
   "cell_type": "markdown",
   "metadata": {},
   "source": [
    "We can view the final spectral response to verify that the design performs."
   ]
  },
  {
   "cell_type": "code",
   "execution_count": null,
   "metadata": {},
   "outputs": [],
   "source": [
    "f0, dJ_du = opt([mapping(x, eta_i, cur_beta)], need_gradient=False)\n",
    "frequencies = opt.frequencies\n",
    "source_coef, top_coef, bottom_ceof = opt.get_objective_arguments()\n",
    "\n",
    "top_profile = np.abs(top_coef / source_coef) ** 2\n",
    "bottom_profile = np.abs(bottom_ceof / source_coef) ** 2"
   ]
  },
  {
   "cell_type": "code",
   "execution_count": null,
   "metadata": {},
   "outputs": [],
   "source": [
    "plt.figure()\n",
    "plt.plot(1 / frequencies, top_profile * 100, \"-o\", label=\"Top Arm\")\n",
    "plt.plot(1 / frequencies, bottom_profile * 100, \"--o\", label=\"Bottom Arm\")\n",
    "plt.legend()\n",
    "plt.grid(True)\n",
    "plt.xlabel(\"Wavelength (microns)\")\n",
    "plt.ylabel(\"Splitting Ratio (%)\")\n",
    "plt.ylim(48.5, 50)\n",
    "plt.show()"
   ]
  },
  {
   "cell_type": "markdown",
   "metadata": {},
   "source": [
    "And of course we'll visualize the final topology. We'll plot the minimum length scale as a circle in the upper corner."
   ]
  },
  {
   "cell_type": "code",
   "execution_count": null,
   "metadata": {},
   "outputs": [],
   "source": [
    "opt.update_design([mapping(x, eta_i, cur_beta)])\n",
    "plt.figure()\n",
    "ax = plt.gca()\n",
    "opt.plot2D(\n",
    "    False,\n",
    "    ax=ax,\n",
    "    plot_sources_flag=False,\n",
    "    plot_monitors_flag=False,\n",
    "    plot_boundaries_flag=False,\n",
    ")\n",
    "circ = Circle((2, 2), minimum_length / 2)\n",
    "ax.add_patch(circ)\n",
    "ax.axis(\"off\")\n",
    "plt.show()"
   ]
  },
  {
   "cell_type": "code",
   "execution_count": null,
   "metadata": {},
   "outputs": [],
   "source": []
  }
 ],
 "metadata": {
  "kernelspec": {
   "display_name": "Python 3 (ipykernel)",
   "language": "python",
   "name": "python3"
  },
  "language_info": {
   "codemirror_mode": {
    "name": "ipython",
    "version": 3
   },
   "file_extension": ".py",
   "mimetype": "text/x-python",
   "name": "python",
   "nbconvert_exporter": "python",
   "pygments_lexer": "ipython3",
   "version": "3.9.7"
  }
 },
 "nbformat": 4,
 "nbformat_minor": 2
}

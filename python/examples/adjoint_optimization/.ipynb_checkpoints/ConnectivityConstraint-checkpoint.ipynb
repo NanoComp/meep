{
 "cells": [
  {
   "cell_type": "markdown",
   "metadata": {},
   "source": [
    "# Connectivity Constraint in Meep adjoint\n",
    "\n",
    "For manufacturability, connectivity constraint is often desired. This is a simple tutorial example of the connectivity constraint in Meep adjoint. This feature is rather independent and may be used alone, when applicable."
   ]
  },
  {
   "cell_type": "code",
   "execution_count": 1,
   "metadata": {},
   "outputs": [],
   "source": [
    "import sys\n",
    "sys.path.append(\"/usr/local/lib/python3.9/site-packages\")"
   ]
  },
  {
   "cell_type": "code",
   "execution_count": 2,
   "metadata": {},
   "outputs": [
    {
     "name": "stdout",
     "output_type": "stream",
     "text": [
      "Using MPI version 3.1, 1 processes\n"
     ]
    }
   ],
   "source": [
    "import meep.adjoint as mpa\n",
    "import numpy as np\n",
    "from scipy.sparse.linalg import cg, spsolve\n",
    "from matplotlib import pyplot as plt"
   ]
  },
  {
   "cell_type": "markdown",
   "metadata": {},
   "source": [
    "The underlying idea (based on Li, Q. et al. https://doi.org/10.1007/s00158-016-1459-5) is briefly summerized below:\n",
    "\n",
    "Consider the heat equation, and regard the material as heat conductive and void as heat insulative. Solving the heat equation, we should expect the heat gets diffused into the connected component but not the disconnected component.\n",
    "In practice, 3D-printed structure is often mounted on some substrate. This means the optimized structure should be connected to one side. For our heat equation, we impose Dirichlet boundary condition ($T=T_0$) on one side, (and Neumann on other sides,) the resulting temperature should be almost $T_0$ for all structures connected to that side. The p-norm weighted by material density $(\\frac{\\sum (T-T_0)^p \\rho}{\\sum \\rho})^\\frac1{p}$ measures how well the structure is connected. \n",
    "\n",
    "Additionally, damping terms are added so the heat can quickly decay away outside the material. The equation solved is thus $(-\\nabla \\cdot(k \\nabla) + \\alpha^2 (1-\\rho)k + \\alpha_0^2)T=0.$, where the conductivity $k=\\rho k_0$ for material density $\\rho \\in [0,1]$\n",
    "\n",
    "The solver assumes the side with Dirichlet boundary condition is the last slice ``rho[-nx*ny:]``. For 2D, as in the following example below, set ``ny=1``. In Meep, if we want the structure connect to the bottom, we can use ``rot90`` before we pass in. "
   ]
  },
  {
   "cell_type": "code",
   "execution_count": 39,
   "metadata": {},
   "outputs": [
    {
     "data": {
      "text/plain": [
       "array([4.58718175e-09])"
      ]
     },
     "execution_count": 39,
     "metadata": {},
     "output_type": "execute_result"
    }
   ],
   "source": [
    "mpa.tanh_projection(np.array([0.45]),64,0.6) "
   ]
  },
  {
   "cell_type": "code",
   "execution_count": 42,
   "metadata": {},
   "outputs": [
    {
     "name": "stdout",
     "output_type": "stream",
     "text": [
      "0.048828125\n",
      "foward value 225.9154971612975\n",
      "0.37001965435207745\n"
     ]
    },
    {
     "data": {
      "image/png": "[encoded data removed]",
      "text/plain": [
       "<Figure size 432x288 with 1 Axes>"
      ]
     },
     "metadata": {
      "needs_background": "light"
     },
     "output_type": "display_data"
    }
   ],
   "source": [
    "nz, ny, nx = 25, 1, 25\n",
    "\n",
    "r = np.zeros((nz, ny, nx)) + 1e-8\n",
    "r[:10, 0, 8] = 0.999\n",
    "r[7, 0, 5:20] = 0.999\n",
    "r[5:, 0, 18] = 0.999\n",
    "r[7, 0, 11:16] = 0.0001\n",
    "r[-3, 0, 3] = 0.999\n",
    "r = r.flatten()  # flatten the structure before pass in\n",
    "\n",
    "T, heat, g = mpa.constraint_connectivity(r, nx, ny, nz, cond_v = 1,cond_s=1e6)\n",
    "print(\"foward value\", heat)\n",
    "print(max(T))\n",
    "plt.figure()\n",
    "plt.pcolormesh(r.reshape((nz, nx)))\n",
    "plt.show()"
   ]
  },
  {
   "cell_type": "markdown",
   "metadata": {},
   "source": [
    "The above structure has the following temperature distribution. As expected, component connected to the top (where Dirichlet BC is enforeced) has high value of temperature."
   ]
  },
  {
   "cell_type": "code",
   "execution_count": 9,
   "metadata": {},
   "outputs": [
    {
     "data": {
      "image/png": "[encoded data removed]",
      "text/plain": [
       "<Figure size 432x288 with 2 Axes>"
      ]
     },
     "metadata": {
      "needs_background": "light"
     },
     "output_type": "display_data"
    }
   ],
   "source": [
    "# padding to show the side with Dirichlet BC\n",
    "\n",
    "plt.figure()\n",
    "plt.pcolormesh(T.reshape((nz, nx)))\n",
    "plt.colorbar()\n",
    "plt.show()"
   ]
  },
  {
   "cell_type": "markdown",
   "metadata": {},
   "source": [
    "The gradient across the structure is shown below. Note the part that can bridges one disconncted component to connected one has negative gradient. One the other hand, the island in the upper left corner has postive gradient itself, but also tries to connect to the top and right where the gradient is negative."
   ]
  },
  {
   "cell_type": "code",
   "execution_count": 19,
   "metadata": {},
   "outputs": [
    {
     "data": {
      "image/png": "[encoded data removed]",
      "text/plain": [
       "<Figure size 432x288 with 2 Axes>"
      ]
     },
     "metadata": {
      "needs_background": "light"
     },
     "output_type": "display_data"
    }
   ],
   "source": [
    "plt.figure()\n",
    "plt.pcolormesh(g.reshape((nz, nx)))\n",
    "plt.colorbar()\n",
    "plt.show()"
   ]
  },
  {
   "cell_type": "markdown",
   "metadata": {},
   "source": [
    "For connected structure"
   ]
  },
  {
   "cell_type": "code",
   "execution_count": 20,
   "metadata": {},
   "outputs": [
    {
     "data": {
      "text/plain": [
       "(array([[0., 0., 0., ..., 1., 0., 0.],\n",
       "        [0., 0., 0., ..., 1., 0., 0.],\n",
       "        [0., 0., 0., ..., 1., 0., 0.],\n",
       "        ...,\n",
       "        [0., 0., 0., ..., 1., 0., 0.],\n",
       "        [0., 0., 0., ..., 1., 0., 0.],\n",
       "        [0., 0., 0., ..., 1., 0., 0.]]),\n",
       " array([-1.75760256, -1.5235449 , -1.28948723, -1.05542957, -0.8213719 ,\n",
       "        -0.58731423, -0.35325657, -0.1191989 ,  0.11485876,  0.34891643,\n",
       "         0.58297409]),\n",
       " <a list of 625 BarContainer objects>)"
      ]
     },
     "execution_count": 20,
     "metadata": {},
     "output_type": "execute_result"
    },
    {
     "data": {
      "image/png": "[encoded data removed]",
      "text/plain": [
       "<Figure size 432x288 with 1 Axes>"
      ]
     },
     "metadata": {
      "needs_background": "light"
     },
     "output_type": "display_data"
    }
   ],
   "source": [
    "plt.hist(g)"
   ]
  },
  {
   "cell_type": "code",
   "execution_count": null,
   "metadata": {},
   "outputs": [],
   "source": [
    "r = np.zeros((nz, ny, nx)) + 0.0001\n",
    "r[:10, 0, 8] = 0.999\n",
    "r[7, 0, 5:20] = 0.999\n",
    "r[5:, 0, 18] = 0.999\n",
    "\n",
    "T, heat, g = mpa.constraint_connectivity(r, nx, ny, nz)\n",
    "\n",
    "print(\"foward value\", heat)\n",
    "plt.figure()\n",
    "plt.pcolormesh(r.reshape((nz, nx)))\n",
    "plt.show()\n",
    "\n",
    "\n",
    "plt.figure()\n",
    "plt.pcolormesh(T.reshape((nz,nx)))\n",
    "plt.colorbar()\n",
    "plt.show()\n",
    "\n",
    "plt.figure()\n",
    "plt.pcolormesh(g.reshape((nz, nx)))\n",
    "plt.colorbar()\n",
    "plt.show()"
   ]
  },
  {
   "cell_type": "code",
   "execution_count": null,
   "metadata": {},
   "outputs": [],
   "source": []
  }
 ],
 "metadata": {
  "kernelspec": {
   "display_name": "Python 3 (ipykernel)",
   "language": "python",
   "name": "python3"
  },
  "language_info": {
   "codemirror_mode": {
    "name": "ipython",
    "version": 3
   },
   "file_extension": ".py",
   "mimetype": "text/x-python",
   "name": "python",
   "nbconvert_exporter": "python",
   "pygments_lexer": "ipython3",
   "version": "3.9.7"
  }
 },
 "nbformat": 4,
 "nbformat_minor": 4
}

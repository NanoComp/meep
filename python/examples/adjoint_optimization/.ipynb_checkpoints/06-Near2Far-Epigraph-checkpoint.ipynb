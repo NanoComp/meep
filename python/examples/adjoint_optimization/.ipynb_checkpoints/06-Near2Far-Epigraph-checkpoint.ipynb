{
 "cells": [
  {
   "cell_type": "markdown",
   "metadata": {},
   "source": [
    "# Near2Far Optimization with Epigraph Formulation\n",
    "\n",
    "This tutorial redoes the previous example with epigraph formulation."
   ]
  },
  {
   "cell_type": "code",
   "execution_count": null,
   "metadata": {},
   "outputs": [],
   "source": [
    "import meep as mp\n",
    "import meep.adjoint as mpa\n",
    "import numpy as np\n",
    "from autograd import numpy as npa\n",
    "from autograd import tensor_jacobian_product, grad\n",
    "import nlopt\n",
    "from matplotlib import pyplot as plt\n",
    "from matplotlib.patches import Circle\n",
    "from scipy import special, signal\n",
    "\n",
    "mp.verbosity(0)\n",
    "Si = mp.Medium(index=3.4)\n",
    "Air = mp.Medium(index=1.0)"
   ]
  },
  {
   "cell_type": "markdown",
   "metadata": {},
   "source": [
    "Basic setup"
   ]
  },
  {
   "cell_type": "code",
   "execution_count": null,
   "metadata": {},
   "outputs": [],
   "source": [
    "design_region_width = 15\n",
    "design_region_height = 2\n",
    "\n",
    "pml_size = 1.0\n",
    "\n",
    "resolution = 30\n",
    "\n",
    "Sx = 2 * pml_size + design_region_width\n",
    "Sy = 2 * pml_size + design_region_height + 5\n",
    "cell_size = mp.Vector3(Sx, Sy)\n",
    "\n",
    "nf = 3\n",
    "frequencies = np.array([1 / 1.5, 1 / 1.55, 1 / 1.6])\n",
    "\n",
    "minimum_length = 0.09  # minimum length scale (microns)\n",
    "eta_i = (\n",
    "    0.5  # blueprint (or intermediate) design field thresholding point (between 0 and 1)\n",
    ")\n",
    "eta_e = 0.55  # erosion design field thresholding point (between 0 and 1)\n",
    "eta_d = 1 - eta_e  # dilation design field thresholding point (between 0 and 1)\n",
    "filter_radius = mpa.get_conic_radius_from_eta_e(minimum_length, eta_e)\n",
    "design_region_resolution = int(resolution)\n",
    "\n",
    "pml_layers = [mp.PML(pml_size)]\n",
    "\n",
    "fcen = 1 / 1.55\n",
    "width = 0.2\n",
    "fwidth = width * fcen\n",
    "source_center = [0, -(design_region_height / 2 + 1.5), 0]\n",
    "source_size = mp.Vector3(design_region_width, 0, 0)\n",
    "src = mp.GaussianSource(frequency=fcen, fwidth=fwidth)\n",
    "source = [mp.Source(src, component=mp.Ez, size=source_size, center=source_center)]\n",
    "\n",
    "Nx = int(design_region_resolution * design_region_width)\n",
    "Ny = int(design_region_resolution * design_region_height)\n",
    "\n",
    "design_variables = mp.MaterialGrid(mp.Vector3(Nx, Ny), Air, Si, grid_type=\"U_MEAN\")\n",
    "design_region = mpa.DesignRegion(\n",
    "    design_variables,\n",
    "    volume=mp.Volume(\n",
    "        center=mp.Vector3(),\n",
    "        size=mp.Vector3(design_region_width, design_region_height, 0),\n",
    "    ),\n",
    ")\n",
    "\n",
    "\n",
    "def mapping(x, eta, beta):\n",
    "\n",
    "    # filter\n",
    "    filtered_field = mpa.conic_filter(\n",
    "        x,\n",
    "        filter_radius,\n",
    "        design_region_width,\n",
    "        design_region_height,\n",
    "        design_region_resolution,\n",
    "    )\n",
    "\n",
    "    # projection\n",
    "    projected_field = mpa.tanh_projection(filtered_field, beta, eta)\n",
    "\n",
    "    projected_field = (\n",
    "        npa.flipud(projected_field) + projected_field\n",
    "    ) / 2  # left-right symmetry\n",
    "\n",
    "    # interpolate to actual materials\n",
    "    return projected_field.flatten()\n",
    "\n",
    "\n",
    "geometry = [\n",
    "    mp.Block(\n",
    "        center=design_region.center, size=design_region.size, material=design_variables\n",
    "    ),\n",
    "    # mp.Block(center=design_region.center, size=design_region.size, material=design_variables, e1=mp.Vector3(x=-1))\n",
    "    #\n",
    "    # The commented lines above impose symmetry by overlapping design region with the same design variable. However,\n",
    "    # currently there is an issue of doing that; instead, we use an alternative approach to impose symmetry.\n",
    "    # See https://github.com/NanoComp/meep/issues/1984 and https://github.com/NanoComp/meep/issues/2093\n",
    "]\n",
    "kpoint = mp.Vector3()\n",
    "sim = mp.Simulation(\n",
    "    cell_size=cell_size,\n",
    "    boundary_layers=pml_layers,\n",
    "    geometry=geometry,\n",
    "    sources=source,\n",
    "    default_material=Air,\n",
    "    symmetries=[mp.Mirror(direction=mp.X)],\n",
    "    resolution=resolution,\n",
    ")"
   ]
  },
  {
   "cell_type": "markdown",
   "metadata": {},
   "source": [
    "Instead of the calculating the average of intensities, we change our objective function to be vector-valued intensities at the frequencies of interest.\n",
    "\n",
    "Note that because ``meep.adjoint`` looks at the fields in the frequency domain (i.e. Fourier transformed fields), the ``objective_functions`` from ``meep.adjoint`` can be vector-valued if and only if each component of the vector is at different frequencies.\n",
    "\n",
    "Also note that this objective function is different from the objective for `nlopt`, which has to be a scalar. In our case, this is a dummpy variable `t` from the epigraph formulation, introduced lated in the tutorial."
   ]
  },
  {
   "cell_type": "code",
   "execution_count": null,
   "metadata": {},
   "outputs": [],
   "source": [
    "far_x = [mp.Vector3(0, 15, 0)]\n",
    "NearRegions = [\n",
    "    mp.Near2FarRegion(\n",
    "        center=mp.Vector3(0, design_region_height / 2 + 1.5),\n",
    "        size=mp.Vector3(design_region_width, 0),\n",
    "        weight=+1,\n",
    "    )\n",
    "]\n",
    "FarFields = mpa.Near2FarFields(sim, NearRegions, far_x)\n",
    "ob_list = [FarFields]\n",
    "\n",
    "\n",
    "def J1(FF):\n",
    "    return -npa.abs(FF[0, :, 2]) ** 2"
   ]
  },
  {
   "cell_type": "code",
   "execution_count": null,
   "metadata": {},
   "outputs": [],
   "source": [
    "opt = mpa.OptimizationProblem(\n",
    "    simulation=sim,\n",
    "    objective_functions=[J1],\n",
    "    objective_arguments=ob_list,\n",
    "    design_regions=[design_region],\n",
    "    frequencies=frequencies,\n",
    "    maximum_run_time=2000,\n",
    ")\n",
    "opt.plot2D(True)"
   ]
  },
  {
   "cell_type": "markdown",
   "metadata": {},
   "source": [
    "Our objective function that we pass to nlopt is rather simple. We'll introduce a dummy parameter `t`. The goal of the optimization problem will be to simply minimize the value of `t`. The gradient of this functional is rather straightforward."
   ]
  },
  {
   "cell_type": "code",
   "execution_count": null,
   "metadata": {},
   "outputs": [],
   "source": [
    "evaluation_history = []\n",
    "cur_iter = [0]\n",
    "\n",
    "\n",
    "def f(x, grad):\n",
    "    t = x[0]  # \"dummy\" parameter\n",
    "    v = x[1:]  # design parameters\n",
    "    if grad.size > 0:\n",
    "        grad[0] = 1\n",
    "        grad[1:] = 0\n",
    "    return t"
   ]
  },
  {
   "cell_type": "markdown",
   "metadata": {},
   "source": [
    "The key to the epigraph formulation (and most nonlinear optimization problems) lies in the constraints. We'll define one constraint for every frequency point of interest ($f_i$). We'll define our constraint as \n",
    "\n",
    "$$f_i < t$$\n",
    "\n",
    "where $t$ is the previosuly defined dummy parameter. Each constraint function is then defined by\n",
    "\n",
    "$$ c_i = f_i-t $$\n",
    "\n",
    "within some tolerance.\n",
    "\n",
    "More detail about this formulation can be found in the nlopt [documentation](https://nlopt.readthedocs.io/en/latest/NLopt_Introduction/#equivalent-formulations-of-optimization-problems)."
   ]
  },
  {
   "cell_type": "code",
   "execution_count": null,
   "metadata": {},
   "outputs": [],
   "source": [
    "def c(result, x, gradient, eta, beta):\n",
    "    print(\n",
    "        \"Current iteration: {}; current eta: {}, current beta: {}\".format(\n",
    "            cur_iter[0], eta, beta\n",
    "        )\n",
    "    )\n",
    "\n",
    "    t = x[0]  # dummy parameter\n",
    "    v = x[1:]  # design parameters\n",
    "\n",
    "    f0, dJ_du = opt([mapping(v, eta, beta)])\n",
    "\n",
    "    # Backprop the gradients through our mapping function\n",
    "    my_grad = np.zeros(dJ_du.shape)\n",
    "    for k in range(opt.nf):\n",
    "        my_grad[:, k] = tensor_jacobian_product(mapping, 0)(v, eta, beta, dJ_du[:, k])\n",
    "        # Note that we now backpropogate the gradients at individual frequencies\n",
    "\n",
    "    # Assign gradients\n",
    "    if gradient.size > 0:\n",
    "        gradient[:, 0] = -1  # gradient w.r.t. \"t\"\n",
    "        gradient[:, 1:] = my_grad.T  # gradient w.r.t. each frequency objective\n",
    "\n",
    "    result[:] = np.real(f0) - t\n",
    "\n",
    "    # store results\n",
    "    evaluation_history.append(np.real(f0))\n",
    "\n",
    "    # visualize\n",
    "    plt.figure()\n",
    "    ax = plt.gca()\n",
    "    opt.plot2D(\n",
    "        False,\n",
    "        ax=ax,\n",
    "        plot_sources_flag=False,\n",
    "        plot_monitors_flag=False,\n",
    "        plot_boundaries_flag=False,\n",
    "    )\n",
    "    circ = Circle((2, 2), minimum_length / 2)\n",
    "    ax.add_patch(circ)\n",
    "    ax.axis(\"off\")\n",
    "    plt.show()\n",
    "\n",
    "    cur_iter[0] = cur_iter[0] + 1"
   ]
  },
  {
   "cell_type": "markdown",
   "metadata": {},
   "source": [
    "We'll now run our optimizer in loop. The loop will increase beta and reset the optimizer, which is important since the cost function changes."
   ]
  },
  {
   "cell_type": "code",
   "execution_count": null,
   "metadata": {},
   "outputs": [],
   "source": [
    "algorithm = nlopt.LD_MMA\n",
    "n = Nx * Ny  # number of parameters\n",
    "\n",
    "# Initial guess\n",
    "x = np.ones((n,)) * 0.5\n",
    "\n",
    "# lower and upper bounds\n",
    "lb = np.zeros((Nx * Ny,))\n",
    "ub = np.ones((Nx * Ny,))\n",
    "\n",
    "# insert dummy parameter bounds and variable\n",
    "x = np.insert(x, 0, -1)  # our initial guess for the worst error\n",
    "lb = np.insert(lb, 0, -np.inf)\n",
    "ub = np.insert(ub, 0, 0)\n",
    "\n",
    "cur_beta = 4\n",
    "beta_scale = 2\n",
    "num_betas = 6\n",
    "update_factor = 12\n",
    "ftol = 1e-5\n",
    "for iters in range(num_betas):\n",
    "    solver = nlopt.opt(algorithm, n + 1)\n",
    "    solver.set_lower_bounds(lb)\n",
    "    solver.set_upper_bounds(ub)\n",
    "    solver.set_min_objective(f)\n",
    "    solver.set_maxeval(update_factor)\n",
    "    solver.set_ftol_rel(ftol)\n",
    "    solver.add_inequality_mconstraint(\n",
    "        lambda r, x, g: c(r, x, g, eta_i, cur_beta), np.array([1e-3] * nf)\n",
    "    )\n",
    "    x[:] = solver.optimize(x)\n",
    "    cur_beta = cur_beta * beta_scale"
   ]
  },
  {
   "cell_type": "code",
   "execution_count": null,
   "metadata": {},
   "outputs": [],
   "source": [
    "lb = -np.min(evaluation_history, axis=1)\n",
    "ub = -np.max(evaluation_history, axis=1)\n",
    "mean = -np.mean(evaluation_history, axis=1)\n",
    "\n",
    "num_iters = lb.size\n",
    "\n",
    "plt.figure()\n",
    "plt.fill_between(np.arange(num_iters), ub, lb, alpha=0.3)\n",
    "plt.plot(mean, \"o-\")\n",
    "plt.grid(True)\n",
    "plt.xlabel(\"Iteration\")\n",
    "plt.ylabel(\"FOM\")\n",
    "plt.show()"
   ]
  },
  {
   "cell_type": "markdown",
   "metadata": {},
   "source": [
    "We can plot our results and see the resulting geometry."
   ]
  },
  {
   "cell_type": "code",
   "execution_count": null,
   "metadata": {},
   "outputs": [],
   "source": [
    "opt.update_design([mapping(x[1:], eta_i, cur_beta)])\n",
    "plt.figure()\n",
    "ax = plt.gca()\n",
    "opt.plot2D(\n",
    "    False,\n",
    "    ax=ax,\n",
    "    plot_sources_flag=False,\n",
    "    plot_monitors_flag=False,\n",
    "    plot_boundaries_flag=False,\n",
    ")\n",
    "circ = Circle((2, 2), minimum_length / 2)\n",
    "ax.add_patch(circ)\n",
    "ax.axis(\"off\")\n",
    "plt.show()"
   ]
  },
  {
   "cell_type": "markdown",
   "metadata": {},
   "source": [
    "To check the performance of our final structure, we plot $|𝐸_𝑧|_2 $ at those three frequencies again. The enhancement is universal across all frequencies now."
   ]
  },
  {
   "cell_type": "code",
   "execution_count": null,
   "metadata": {},
   "outputs": [],
   "source": [
    "f0, dJ_du = opt([mapping(x[1:], eta_i, cur_beta // 2)], need_gradient=False)\n",
    "frequencies = opt.frequencies"
   ]
  },
  {
   "cell_type": "code",
   "execution_count": null,
   "metadata": {},
   "outputs": [],
   "source": [
    "intensities = np.abs(opt.get_objective_arguments()[0][0, :, 2]) ** 2\n",
    "\n",
    "plt.figure()\n",
    "plt.plot(1 / frequencies, intensities, \"-o\")\n",
    "plt.grid(True)\n",
    "plt.xlabel(\"Wavelength (microns)\")\n",
    "plt.ylabel(\"|Ez|^2 Intensities\")\n",
    "plt.show()"
   ]
  },
  {
   "cell_type": "markdown",
   "metadata": {},
   "source": [
    "We can also use a CW source at individual frequencies and plot the fields."
   ]
  },
  {
   "cell_type": "code",
   "execution_count": null,
   "metadata": {},
   "outputs": [],
   "source": [
    "opt.sim = mp.Simulation(\n",
    "    cell_size=mp.Vector3(Sx, 40),\n",
    "    boundary_layers=pml_layers,\n",
    "    k_point=kpoint,\n",
    "    geometry=geometry,\n",
    "    sources=source,\n",
    "    default_material=Air,\n",
    "    resolution=resolution,\n",
    ")\n",
    "src = mp.ContinuousSource(frequency=1 / 1.5, fwidth=fwidth)\n",
    "source = [mp.Source(src, component=mp.Ez, size=source_size, center=source_center)]\n",
    "opt.sim.change_sources(source)\n",
    "\n",
    "opt.sim.run(until=200)\n",
    "plt.figure(figsize=(10, 20))\n",
    "opt.sim.plot2D(fields=mp.Ez)"
   ]
  },
  {
   "cell_type": "code",
   "execution_count": null,
   "metadata": {},
   "outputs": [],
   "source": [
    "opt.sim = mp.Simulation(\n",
    "    cell_size=mp.Vector3(Sx, 40),\n",
    "    boundary_layers=pml_layers,\n",
    "    k_point=kpoint,\n",
    "    geometry=geometry,\n",
    "    sources=source,\n",
    "    default_material=Air,\n",
    "    resolution=resolution,\n",
    ")\n",
    "src = mp.ContinuousSource(frequency=1 / 1.55, fwidth=fwidth)\n",
    "source = [mp.Source(src, component=mp.Ez, size=source_size, center=source_center)]\n",
    "opt.sim.change_sources(source)\n",
    "\n",
    "opt.sim.run(until=200)\n",
    "plt.figure(figsize=(10, 20))\n",
    "opt.sim.plot2D(fields=mp.Ez)"
   ]
  },
  {
   "cell_type": "code",
   "execution_count": null,
   "metadata": {},
   "outputs": [],
   "source": [
    "opt.sim = mp.Simulation(\n",
    "    cell_size=mp.Vector3(Sx, 40),\n",
    "    boundary_layers=pml_layers,\n",
    "    k_point=kpoint,\n",
    "    geometry=geometry,\n",
    "    sources=source,\n",
    "    default_material=Air,\n",
    "    resolution=resolution,\n",
    ")\n",
    "src = mp.ContinuousSource(frequency=1 / 1.6, fwidth=fwidth)\n",
    "source = [mp.Source(src, component=mp.Ez, size=source_size, center=source_center)]\n",
    "opt.sim.change_sources(source)\n",
    "\n",
    "opt.sim.run(until=200)\n",
    "plt.figure(figsize=(10, 20))\n",
    "opt.sim.plot2D(fields=mp.Ez)"
   ]
  },
  {
   "cell_type": "code",
   "execution_count": null,
   "metadata": {},
   "outputs": [],
   "source": []
  }
 ],
 "metadata": {
  "kernelspec": {
   "display_name": "Python 3 (ipykernel)",
   "language": "python",
   "name": "python3"
  },
  "language_info": {
   "codemirror_mode": {
    "name": "ipython",
    "version": 3
   },
   "file_extension": ".py",
   "mimetype": "text/x-python",
   "name": "python",
   "nbconvert_exporter": "python",
   "pygments_lexer": "ipython3",
   "version": "3.9.7"
  }
 },
 "nbformat": 4,
 "nbformat_minor": 4
}

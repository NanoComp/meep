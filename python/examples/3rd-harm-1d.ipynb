{
 "cells": [
  {
   "cell_type": "markdown",
   "metadata": {},
   "source": [
    "# Third Harmonic Generation"
   ]
  },
  {
   "cell_type": "markdown",
   "metadata": {},
   "source": [
    "In this example, we consider wave propagation through a simple 1d nonlinear medium with a non-zero Kerr susceptibility $\\chi^{(3)}$. See also Materials and Units and Nonlinearity. We send in a narrow-band pulse at a frequency $\\omega$, and because of the nonlinearity we also get a signal at a frequency $3\\omega$.\n",
    "\n",
    "Since this is a 1d calculation, we could implement it via a 2d cell of `Vector3(S,0,0)`, specifying periodic boundary conditions in the `y` direction. However, this is slightly inefficient since the `y` periodic boundaries are implemented internally via extra \"ghost pixels\" in the `y` direction. Instead, Meep has special support for 1d simulations in the `z` direction. To use this, we must explicitly set dimensions to 1, and in that case we can only use $E_x$ (and $D_x$) and $H_y$ field components. This involves no loss of generality because of the symmetry of the problem.\n",
    "\n",
    "First, we'll load the necessary modules:"
   ]
  },
  {
   "cell_type": "code",
   "execution_count": null,
   "metadata": {},
   "outputs": [],
   "source": [
    "import meep as mp\n",
    "import numpy as np\n",
    "from matplotlib import pyplot as plt\n",
    "\n",
    "%matplotlib notebook"
   ]
  },
  {
   "cell_type": "markdown",
   "metadata": {},
   "source": [
    "Next, we'll define some parameters of our simulation:"
   ]
  },
  {
   "cell_type": "code",
   "execution_count": null,
   "metadata": {},
   "outputs": [],
   "source": [
    "sz = 100  # size of cell in z direction\n",
    "fcen = 1 / 3.0  # center frequency of source\n",
    "df = fcen / 20.0  # frequency width of source\n",
    "amp = 1  # amplitude of source\n",
    "k = 10**-5  # Kerr susceptibility\n",
    "dpml = 1.0  # PML thickness"
   ]
  },
  {
   "cell_type": "markdown",
   "metadata": {},
   "source": [
    "Now, to define our cell, we'll do:"
   ]
  },
  {
   "cell_type": "code",
   "execution_count": null,
   "metadata": {},
   "outputs": [],
   "source": [
    "dimensions = 1\n",
    "cell = mp.Vector3(0, 0, sz)\n",
    "pml_layers = mp.PML(dpml)\n",
    "resolution = 20"
   ]
  },
  {
   "cell_type": "markdown",
   "metadata": {},
   "source": [
    "Note that this will only put PMLs at the $\\pm z$ boundaries.\n",
    "\n",
    "In this case, we're going to fill the entire computational cell with the nonlinear medium, so we don't need to use any objects. We can just use the special `default_material` which is ordinarily vacuum:"
   ]
  },
  {
   "cell_type": "code",
   "execution_count": null,
   "metadata": {},
   "outputs": [],
   "source": [
    "default_material = mp.Medium(index=1, chi3=k)"
   ]
  },
  {
   "cell_type": "markdown",
   "metadata": {},
   "source": [
    "Now, our source will be a Gaussian pulse of $J_x$ just next to the $−z$ PML layer. Since this is a nonlinear calculation, we may want to play with the amplitude of the current/field, so we set the amplitude property explicitly to our parameter `amp`, above."
   ]
  },
  {
   "cell_type": "code",
   "execution_count": null,
   "metadata": {},
   "outputs": [],
   "source": [
    "sources = mp.Source(\n",
    "    mp.GaussianSource(fcen, fwidth=df),\n",
    "    component=mp.Ex,\n",
    "    center=mp.Vector3(0, 0, -0.5 * sz + dpml),\n",
    "    amplitude=amp,\n",
    ")"
   ]
  },
  {
   "cell_type": "markdown",
   "metadata": {},
   "source": [
    "We'll want the frequency spectrum at the $+z$ end of the computational cell. In a linear problem, we normally look at the spectrum over the same frequency range as our source, because other frequencies are zero. In this case, however, we will look from `fcen/2` to `4*fcen`, to be sure that we can see the third-harmonic frequency."
   ]
  },
  {
   "cell_type": "code",
   "execution_count": null,
   "metadata": {},
   "outputs": [],
   "source": [
    "nfreq = 400\n",
    "fmin = fcen / 2.0\n",
    "fmax = fcen * 4\n",
    "\n",
    "sim = mp.Simulation(\n",
    "    cell_size=cell,\n",
    "    geometry=[],\n",
    "    sources=[sources],\n",
    "    boundary_layers=[pml_layers],\n",
    "    default_material=default_material,\n",
    "    resolution=resolution,\n",
    "    dimensions=dimensions,\n",
    ")\n",
    "\n",
    "trans = sim.add_flux(\n",
    "    0.5 * (fmin + fmax),\n",
    "    fmax - fmin,\n",
    "    nfreq,\n",
    "    mp.FluxRegion(mp.Vector3(0, 0, 0.5 * sz - dpml - 0.5)),\n",
    ")"
   ]
  },
  {
   "cell_type": "markdown",
   "metadata": {},
   "source": [
    "Finally, we'll run the sources, plus additional time for the field to decay at the flux plane, and output the flux spectrum:"
   ]
  },
  {
   "cell_type": "code",
   "execution_count": null,
   "metadata": {},
   "outputs": [],
   "source": [
    "sim.run(\n",
    "    until_after_sources=mp.stop_when_fields_decayed(\n",
    "        50, mp.Ex, mp.Vector3(0, 0, 0.5 * sz - dpml - 0.5), 1e-6\n",
    "    )\n",
    ")"
   ]
  },
  {
   "cell_type": "markdown",
   "metadata": {},
   "source": [
    "In a linear calculation, we normalize the transmission against some reference spectrum, but in this case there is no obvious normalization so we will just plot the raw data. To do so, we'll pull the frequency points using `get_flux_freqs()` and the corrensponding spectra using `get_flux_freqs()`."
   ]
  },
  {
   "cell_type": "code",
   "execution_count": null,
   "metadata": {},
   "outputs": [],
   "source": [
    "freqs = mp.get_flux_freqs(trans)\n",
    "spectra = mp.get_fluxes(trans)\n",
    "\n",
    "plt.figure(dpi=150)\n",
    "plt.semilogy(freqs, spectra)\n",
    "plt.grid(True)\n",
    "plt.xlabel(\"Frequency\")\n",
    "plt.ylabel(\"Transmitted Power (a.u.)\")\n",
    "plt.show()"
   ]
  },
  {
   "cell_type": "markdown",
   "metadata": {},
   "source": [
    "We next want to see what happens as we slowly increase our nonlinearity term ($\\chi^{(3)}$). We'll wrap our routine in a function and parameterize it so that we can quickly loop over the various nonlinearities.\n",
    "\n",
    "It is also interesting to have a more detailed look at the dependence of the power at $\\omega$ and $3\\omega$ as a function of $\\chi^{(3)}$ and the current amplitude. We could, of course, interpolate the flux spectrum above to get the desired frequencies, but it is easier just to add two more flux regions to Meep and request exactly the desired frequency components. We'll add the additional fluxes to our function:"
   ]
  },
  {
   "cell_type": "code",
   "execution_count": null,
   "metadata": {},
   "outputs": [],
   "source": [
    "def run_chi3(k_pow, amp=1):\n",
    "    k = 10**k_pow\n",
    "    default_material = mp.Medium(index=1, chi3=k)\n",
    "\n",
    "    sources = mp.Source(\n",
    "        mp.GaussianSource(fcen, fwidth=df),\n",
    "        component=mp.Ex,\n",
    "        center=mp.Vector3(0, 0, -0.5 * sz + dpml),\n",
    "        amplitude=amp,\n",
    "    )\n",
    "\n",
    "    sim = mp.Simulation(\n",
    "        cell_size=cell,\n",
    "        geometry=[],\n",
    "        sources=[sources],\n",
    "        boundary_layers=[pml_layers],\n",
    "        default_material=default_material,\n",
    "        resolution=resolution,\n",
    "        dimensions=dimensions,\n",
    "    )\n",
    "\n",
    "    trans = sim.add_flux(\n",
    "        0.5 * (fmin + fmax),\n",
    "        fmax - fmin,\n",
    "        nfreq,\n",
    "        mp.FluxRegion(mp.Vector3(0, 0, 0.5 * sz - dpml - 0.5)),\n",
    "    )\n",
    "\n",
    "    # Single frequency point at omega\n",
    "    trans1 = sim.add_flux(\n",
    "        fcen, 0, 1, mp.FluxRegion(mp.Vector3(0, 0, 0.5 * sz - dpml - 0.5))\n",
    "    )\n",
    "\n",
    "    # Singel frequency point at 3omega\n",
    "    trans3 = sim.add_flux(\n",
    "        3 * fcen, 0, 1, mp.FluxRegion(mp.Vector3(0, 0, 0.5 * sz - dpml - 0.5))\n",
    "    )\n",
    "\n",
    "    sim.run(\n",
    "        until_after_sources=mp.stop_when_fields_decayed(\n",
    "            50, mp.Ex, mp.Vector3(0, 0, 0.5 * sz - dpml - 0.5), 1e-6\n",
    "        )\n",
    "    )\n",
    "\n",
    "    omega_flux = mp.get_fluxes(trans1)\n",
    "    omega3_flux = mp.get_fluxes(trans3)\n",
    "    freqs = mp.get_flux_freqs(trans)\n",
    "    spectra = mp.get_fluxes(trans)\n",
    "\n",
    "    return freqs, spectra, omega_flux, omega3_flux"
   ]
  },
  {
   "cell_type": "markdown",
   "metadata": {},
   "source": [
    "We'll now loop over various nonlinearities to see what effect this has on our frequency response."
   ]
  },
  {
   "cell_type": "code",
   "execution_count": null,
   "metadata": {},
   "outputs": [],
   "source": [
    "k_pow = [-3, -2, -1, 0]\n",
    "freqs = []\n",
    "spectra = []\n",
    "for k_iter in k_pow:\n",
    "    freqs_iter, spectra_iter, omega_flux, omega3_flux = run_chi3(k_iter)\n",
    "    spectra.append(spectra_iter)\n",
    "    freqs = freqs_iter  # Each iteration will simulate over the same frequencies, so just remember the last set."
   ]
  },
  {
   "cell_type": "code",
   "execution_count": null,
   "metadata": {},
   "outputs": [],
   "source": [
    "plt.figure(dpi=150)\n",
    "plt.semilogy(freqs, np.array(spectra).T)\n",
    "plt.grid(True)\n",
    "plt.xlabel(\"Frequency\")\n",
    "plt.ylabel(\"Transmitted Power (a.u.)\")\n",
    "plt.legend([\"$\\chi^{{(3)}} = 10^{{{}}}$\".format(i) for i in k_pow])\n",
    "plt.show()"
   ]
  },
  {
   "cell_type": "markdown",
   "metadata": {},
   "source": [
    "For small values of $\\chi^{(3)}$, we see a peak from our source at $\\omega=1/3$ and another peak precisely at the third-harmonic frequency $3\\oemega=1$. As the $\\chi^{(3)}$ gets larger, frequency-mixing within the peaks causes them to broaden, and finally for $\\chi^{(3)}=1$ we start to see a noisy, broad-spectrum transmission due to the phenomenon of _modulation instability_. Notice also that at around $10^{−13}$ the data looks weird; this is probably due to our finite simulation time, imperfect absorbing boundaries, etcetera. We haven't attempted to analyze it in detail for this case.\n",
    "\n",
    "Now, we can look specifically at our frequencies of interest. We'll run a quick simulation for a linear medium. We'll measure the PSD at $\\omega$ and use this as a calibration factor for much larger nonlinearities."
   ]
  },
  {
   "cell_type": "code",
   "execution_count": null,
   "metadata": {},
   "outputs": [],
   "source": [
    "_, _, omega_flux_cal, omega3_flux_cal = run_chi3(-16)\n",
    "print(\"Omega: {}, 3Omega: {}\".format(omega_flux_cal[0], omega3_flux_cal[0]))"
   ]
  },
  {
   "cell_type": "markdown",
   "metadata": {},
   "source": [
    "That is, the linear transmission is 225.25726603587026 at $\\omega$, so we'll loop through several nonlinearities, divide by this value, and plot the fractional transmission at $\\omega$ and $3\\omega$ as a function of $\\chi1^{(3)}$ on a log-log scale."
   ]
  },
  {
   "cell_type": "code",
   "execution_count": null,
   "metadata": {},
   "outputs": [],
   "source": [
    "pts = np.linspace(-6, 0, 20)\n",
    "_, _, omega_psd, omega3_psd = zip(*[run_chi3(k_iter) for k_iter in pts])"
   ]
  },
  {
   "cell_type": "code",
   "execution_count": null,
   "metadata": {},
   "outputs": [],
   "source": [
    "quad = (10**pts) ** 2\n",
    "\n",
    "plt.figure(dpi=150)\n",
    "plt.loglog(10**pts, np.array(omega_psd) / omega_flux_cal[0], \"o-\", label=\"$\\omega$\")\n",
    "plt.loglog(10**pts, np.array(omega3_psd) / omega_flux_cal[0], \"o-\", label=\"$3\\omega$\")\n",
    "plt.loglog(10**pts, quad, \"k\", label=\"quadratic line\")\n",
    "plt.grid(True)\n",
    "plt.xlabel(\"$\\chi^{(3)}$\")\n",
    "plt.ylabel(\"Transmission/ Incident Power\")\n",
    "plt.legend()\n",
    "plt.show()"
   ]
  },
  {
   "cell_type": "markdown",
   "metadata": {},
   "source": [
    "As can be shown from coupled-mode theory or, equivalently, follows from Fermi's golden rule, the third-harmonic power must go as the square of $\\chi^{(3)}$ as long as the nonlinearity is weak (i.e. in the first Born approximation limit, where the $\\omega$ source is not depleted significantly). This is precisely what we see on the above graph, where the slope of the black line indicates an exact quadratic dependence, for comparison. Once the nonlinearity gets strong enough, however, this approximation is no longer valid and the dependence is complicated.\n",
    "\n",
    "Finally, we note that increasing the current amplitude by a factor of $F$ or the Kerr susceptibility $\\chi^{(3)}$ by a factor $F^3$ should generate the same third-harmonic power in the weak nonlinearity approximation. And indeed, we see:"
   ]
  },
  {
   "cell_type": "code",
   "execution_count": null,
   "metadata": {},
   "outputs": [],
   "source": [
    "_, _, omega_flux_1, omega3_flux_1 = run_chi3(-3, 1)\n",
    "_, _, omega_flux_2, omega3_flux_2 = run_chi3(-6, 10)\n",
    "\n",
    "print(\"-------------------------------\")\n",
    "print(\n",
    "    \"Difference between powers: {}%\".format(\n",
    "        abs(omega3_flux_1[0] - omega3_flux_2[0]) / omega3_flux_1[0] * 100\n",
    "    )\n",
    ")"
   ]
  },
  {
   "cell_type": "markdown",
   "metadata": {},
   "source": [
    "which have third-harmonic powers differing by about 1%."
   ]
  }
 ],
 "metadata": {
  "kernelspec": {
   "display_name": "Python 3",
   "language": "python",
   "name": "python3"
  },
  "language_info": {
   "codemirror_mode": {
    "name": "ipython",
    "version": 3
   },
   "file_extension": ".py",
   "mimetype": "text/x-python",
   "name": "python",
   "nbconvert_exporter": "python",
   "pygments_lexer": "ipython3",
   "version": "3.6.8"
  },
  "toc": {
   "base_numbering": 1,
   "nav_menu": {},
   "number_sections": true,
   "sideBar": true,
   "skip_h1_title": false,
   "title_cell": "Table of Contents",
   "title_sidebar": "Contents",
   "toc_cell": false,
   "toc_position": {},
   "toc_section_display": true,
   "toc_window_display": false
  }
 },
 "nbformat": 4,
 "nbformat_minor": 2
}
